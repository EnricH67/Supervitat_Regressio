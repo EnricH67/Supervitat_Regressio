{
 "cells": [
  {
   "cell_type": "markdown",
   "metadata": {},
   "source": [
    "# S12 T01: Aprenentatge Supervisat - Regressions\n",
    "\n",
    "## Nivell 1\n",
    "\n",
    "### *Exercici 1 + Exercici 2*\n",
    "\n",
    "Crea almenys tres models de regressió diferents per intentar predir el millor possible l’endarreriment dels vols (ArrDelay) de DelayedFlights.csv.\n",
    "\n",
    "Compara’ls en base al MSE i al R2 ."
   ]
  },
  {
   "cell_type": "code",
   "execution_count": 1,
   "metadata": {},
   "outputs": [],
   "source": [
    "import numpy as np\n",
    "import pandas as pd\n",
    "from pandas import read_csv\n",
    "from sklearn.model_selection import train_test_split\n",
    "%matplotlib inline\n",
    "import matplotlib.pyplot as plt"
   ]
  },
  {
   "cell_type": "code",
   "execution_count": 2,
   "metadata": {},
   "outputs": [],
   "source": [
    "retards_df = pd.read_csv('DelayedFlights.csv')"
   ]
  },
  {
   "cell_type": "code",
   "execution_count": 3,
   "metadata": {},
   "outputs": [
    {
     "data": {
      "text/html": [
       "<div>\n",
       "<style scoped>\n",
       "    .dataframe tbody tr th:only-of-type {\n",
       "        vertical-align: middle;\n",
       "    }\n",
       "\n",
       "    .dataframe tbody tr th {\n",
       "        vertical-align: top;\n",
       "    }\n",
       "\n",
       "    .dataframe thead th {\n",
       "        text-align: right;\n",
       "    }\n",
       "</style>\n",
       "<table border=\"1\" class=\"dataframe\">\n",
       "  <thead>\n",
       "    <tr style=\"text-align: right;\">\n",
       "      <th></th>\n",
       "      <th>Unnamed: 0</th>\n",
       "      <th>Year</th>\n",
       "      <th>Month</th>\n",
       "      <th>DayofMonth</th>\n",
       "      <th>DayOfWeek</th>\n",
       "      <th>DepTime</th>\n",
       "      <th>CRSDepTime</th>\n",
       "      <th>ArrTime</th>\n",
       "      <th>CRSArrTime</th>\n",
       "      <th>UniqueCarrier</th>\n",
       "      <th>...</th>\n",
       "      <th>TaxiIn</th>\n",
       "      <th>TaxiOut</th>\n",
       "      <th>Cancelled</th>\n",
       "      <th>CancellationCode</th>\n",
       "      <th>Diverted</th>\n",
       "      <th>CarrierDelay</th>\n",
       "      <th>WeatherDelay</th>\n",
       "      <th>NASDelay</th>\n",
       "      <th>SecurityDelay</th>\n",
       "      <th>LateAircraftDelay</th>\n",
       "    </tr>\n",
       "  </thead>\n",
       "  <tbody>\n",
       "    <tr>\n",
       "      <th>0</th>\n",
       "      <td>0</td>\n",
       "      <td>2008</td>\n",
       "      <td>1</td>\n",
       "      <td>3</td>\n",
       "      <td>4</td>\n",
       "      <td>2003.0</td>\n",
       "      <td>1955</td>\n",
       "      <td>2211.0</td>\n",
       "      <td>2225</td>\n",
       "      <td>WN</td>\n",
       "      <td>...</td>\n",
       "      <td>4.0</td>\n",
       "      <td>8.0</td>\n",
       "      <td>0</td>\n",
       "      <td>N</td>\n",
       "      <td>0</td>\n",
       "      <td>NaN</td>\n",
       "      <td>NaN</td>\n",
       "      <td>NaN</td>\n",
       "      <td>NaN</td>\n",
       "      <td>NaN</td>\n",
       "    </tr>\n",
       "    <tr>\n",
       "      <th>1</th>\n",
       "      <td>1</td>\n",
       "      <td>2008</td>\n",
       "      <td>1</td>\n",
       "      <td>3</td>\n",
       "      <td>4</td>\n",
       "      <td>754.0</td>\n",
       "      <td>735</td>\n",
       "      <td>1002.0</td>\n",
       "      <td>1000</td>\n",
       "      <td>WN</td>\n",
       "      <td>...</td>\n",
       "      <td>5.0</td>\n",
       "      <td>10.0</td>\n",
       "      <td>0</td>\n",
       "      <td>N</td>\n",
       "      <td>0</td>\n",
       "      <td>NaN</td>\n",
       "      <td>NaN</td>\n",
       "      <td>NaN</td>\n",
       "      <td>NaN</td>\n",
       "      <td>NaN</td>\n",
       "    </tr>\n",
       "    <tr>\n",
       "      <th>2</th>\n",
       "      <td>2</td>\n",
       "      <td>2008</td>\n",
       "      <td>1</td>\n",
       "      <td>3</td>\n",
       "      <td>4</td>\n",
       "      <td>628.0</td>\n",
       "      <td>620</td>\n",
       "      <td>804.0</td>\n",
       "      <td>750</td>\n",
       "      <td>WN</td>\n",
       "      <td>...</td>\n",
       "      <td>3.0</td>\n",
       "      <td>17.0</td>\n",
       "      <td>0</td>\n",
       "      <td>N</td>\n",
       "      <td>0</td>\n",
       "      <td>NaN</td>\n",
       "      <td>NaN</td>\n",
       "      <td>NaN</td>\n",
       "      <td>NaN</td>\n",
       "      <td>NaN</td>\n",
       "    </tr>\n",
       "    <tr>\n",
       "      <th>3</th>\n",
       "      <td>4</td>\n",
       "      <td>2008</td>\n",
       "      <td>1</td>\n",
       "      <td>3</td>\n",
       "      <td>4</td>\n",
       "      <td>1829.0</td>\n",
       "      <td>1755</td>\n",
       "      <td>1959.0</td>\n",
       "      <td>1925</td>\n",
       "      <td>WN</td>\n",
       "      <td>...</td>\n",
       "      <td>3.0</td>\n",
       "      <td>10.0</td>\n",
       "      <td>0</td>\n",
       "      <td>N</td>\n",
       "      <td>0</td>\n",
       "      <td>2.0</td>\n",
       "      <td>0.0</td>\n",
       "      <td>0.0</td>\n",
       "      <td>0.0</td>\n",
       "      <td>32.0</td>\n",
       "    </tr>\n",
       "    <tr>\n",
       "      <th>4</th>\n",
       "      <td>5</td>\n",
       "      <td>2008</td>\n",
       "      <td>1</td>\n",
       "      <td>3</td>\n",
       "      <td>4</td>\n",
       "      <td>1940.0</td>\n",
       "      <td>1915</td>\n",
       "      <td>2121.0</td>\n",
       "      <td>2110</td>\n",
       "      <td>WN</td>\n",
       "      <td>...</td>\n",
       "      <td>4.0</td>\n",
       "      <td>10.0</td>\n",
       "      <td>0</td>\n",
       "      <td>N</td>\n",
       "      <td>0</td>\n",
       "      <td>NaN</td>\n",
       "      <td>NaN</td>\n",
       "      <td>NaN</td>\n",
       "      <td>NaN</td>\n",
       "      <td>NaN</td>\n",
       "    </tr>\n",
       "    <tr>\n",
       "      <th>...</th>\n",
       "      <td>...</td>\n",
       "      <td>...</td>\n",
       "      <td>...</td>\n",
       "      <td>...</td>\n",
       "      <td>...</td>\n",
       "      <td>...</td>\n",
       "      <td>...</td>\n",
       "      <td>...</td>\n",
       "      <td>...</td>\n",
       "      <td>...</td>\n",
       "      <td>...</td>\n",
       "      <td>...</td>\n",
       "      <td>...</td>\n",
       "      <td>...</td>\n",
       "      <td>...</td>\n",
       "      <td>...</td>\n",
       "      <td>...</td>\n",
       "      <td>...</td>\n",
       "      <td>...</td>\n",
       "      <td>...</td>\n",
       "      <td>...</td>\n",
       "    </tr>\n",
       "    <tr>\n",
       "      <th>1936753</th>\n",
       "      <td>7009710</td>\n",
       "      <td>2008</td>\n",
       "      <td>12</td>\n",
       "      <td>13</td>\n",
       "      <td>6</td>\n",
       "      <td>1250.0</td>\n",
       "      <td>1220</td>\n",
       "      <td>1617.0</td>\n",
       "      <td>1552</td>\n",
       "      <td>DL</td>\n",
       "      <td>...</td>\n",
       "      <td>9.0</td>\n",
       "      <td>18.0</td>\n",
       "      <td>0</td>\n",
       "      <td>N</td>\n",
       "      <td>0</td>\n",
       "      <td>3.0</td>\n",
       "      <td>0.0</td>\n",
       "      <td>0.0</td>\n",
       "      <td>0.0</td>\n",
       "      <td>22.0</td>\n",
       "    </tr>\n",
       "    <tr>\n",
       "      <th>1936754</th>\n",
       "      <td>7009717</td>\n",
       "      <td>2008</td>\n",
       "      <td>12</td>\n",
       "      <td>13</td>\n",
       "      <td>6</td>\n",
       "      <td>657.0</td>\n",
       "      <td>600</td>\n",
       "      <td>904.0</td>\n",
       "      <td>749</td>\n",
       "      <td>DL</td>\n",
       "      <td>...</td>\n",
       "      <td>15.0</td>\n",
       "      <td>34.0</td>\n",
       "      <td>0</td>\n",
       "      <td>N</td>\n",
       "      <td>0</td>\n",
       "      <td>0.0</td>\n",
       "      <td>57.0</td>\n",
       "      <td>18.0</td>\n",
       "      <td>0.0</td>\n",
       "      <td>0.0</td>\n",
       "    </tr>\n",
       "    <tr>\n",
       "      <th>1936755</th>\n",
       "      <td>7009718</td>\n",
       "      <td>2008</td>\n",
       "      <td>12</td>\n",
       "      <td>13</td>\n",
       "      <td>6</td>\n",
       "      <td>1007.0</td>\n",
       "      <td>847</td>\n",
       "      <td>1149.0</td>\n",
       "      <td>1010</td>\n",
       "      <td>DL</td>\n",
       "      <td>...</td>\n",
       "      <td>8.0</td>\n",
       "      <td>32.0</td>\n",
       "      <td>0</td>\n",
       "      <td>N</td>\n",
       "      <td>0</td>\n",
       "      <td>1.0</td>\n",
       "      <td>0.0</td>\n",
       "      <td>19.0</td>\n",
       "      <td>0.0</td>\n",
       "      <td>79.0</td>\n",
       "    </tr>\n",
       "    <tr>\n",
       "      <th>1936756</th>\n",
       "      <td>7009726</td>\n",
       "      <td>2008</td>\n",
       "      <td>12</td>\n",
       "      <td>13</td>\n",
       "      <td>6</td>\n",
       "      <td>1251.0</td>\n",
       "      <td>1240</td>\n",
       "      <td>1446.0</td>\n",
       "      <td>1437</td>\n",
       "      <td>DL</td>\n",
       "      <td>...</td>\n",
       "      <td>13.0</td>\n",
       "      <td>13.0</td>\n",
       "      <td>0</td>\n",
       "      <td>N</td>\n",
       "      <td>0</td>\n",
       "      <td>NaN</td>\n",
       "      <td>NaN</td>\n",
       "      <td>NaN</td>\n",
       "      <td>NaN</td>\n",
       "      <td>NaN</td>\n",
       "    </tr>\n",
       "    <tr>\n",
       "      <th>1936757</th>\n",
       "      <td>7009727</td>\n",
       "      <td>2008</td>\n",
       "      <td>12</td>\n",
       "      <td>13</td>\n",
       "      <td>6</td>\n",
       "      <td>1110.0</td>\n",
       "      <td>1103</td>\n",
       "      <td>1413.0</td>\n",
       "      <td>1418</td>\n",
       "      <td>DL</td>\n",
       "      <td>...</td>\n",
       "      <td>8.0</td>\n",
       "      <td>11.0</td>\n",
       "      <td>0</td>\n",
       "      <td>N</td>\n",
       "      <td>0</td>\n",
       "      <td>NaN</td>\n",
       "      <td>NaN</td>\n",
       "      <td>NaN</td>\n",
       "      <td>NaN</td>\n",
       "      <td>NaN</td>\n",
       "    </tr>\n",
       "  </tbody>\n",
       "</table>\n",
       "<p>1936758 rows × 30 columns</p>\n",
       "</div>"
      ],
      "text/plain": [
       "         Unnamed: 0  Year  Month  DayofMonth  DayOfWeek  DepTime  CRSDepTime  \\\n",
       "0                 0  2008      1           3          4   2003.0        1955   \n",
       "1                 1  2008      1           3          4    754.0         735   \n",
       "2                 2  2008      1           3          4    628.0         620   \n",
       "3                 4  2008      1           3          4   1829.0        1755   \n",
       "4                 5  2008      1           3          4   1940.0        1915   \n",
       "...             ...   ...    ...         ...        ...      ...         ...   \n",
       "1936753     7009710  2008     12          13          6   1250.0        1220   \n",
       "1936754     7009717  2008     12          13          6    657.0         600   \n",
       "1936755     7009718  2008     12          13          6   1007.0         847   \n",
       "1936756     7009726  2008     12          13          6   1251.0        1240   \n",
       "1936757     7009727  2008     12          13          6   1110.0        1103   \n",
       "\n",
       "         ArrTime  CRSArrTime UniqueCarrier  ...  TaxiIn TaxiOut  Cancelled  \\\n",
       "0         2211.0        2225            WN  ...     4.0     8.0          0   \n",
       "1         1002.0        1000            WN  ...     5.0    10.0          0   \n",
       "2          804.0         750            WN  ...     3.0    17.0          0   \n",
       "3         1959.0        1925            WN  ...     3.0    10.0          0   \n",
       "4         2121.0        2110            WN  ...     4.0    10.0          0   \n",
       "...          ...         ...           ...  ...     ...     ...        ...   \n",
       "1936753   1617.0        1552            DL  ...     9.0    18.0          0   \n",
       "1936754    904.0         749            DL  ...    15.0    34.0          0   \n",
       "1936755   1149.0        1010            DL  ...     8.0    32.0          0   \n",
       "1936756   1446.0        1437            DL  ...    13.0    13.0          0   \n",
       "1936757   1413.0        1418            DL  ...     8.0    11.0          0   \n",
       "\n",
       "         CancellationCode  Diverted  CarrierDelay  WeatherDelay NASDelay  \\\n",
       "0                       N         0           NaN           NaN      NaN   \n",
       "1                       N         0           NaN           NaN      NaN   \n",
       "2                       N         0           NaN           NaN      NaN   \n",
       "3                       N         0           2.0           0.0      0.0   \n",
       "4                       N         0           NaN           NaN      NaN   \n",
       "...                   ...       ...           ...           ...      ...   \n",
       "1936753                 N         0           3.0           0.0      0.0   \n",
       "1936754                 N         0           0.0          57.0     18.0   \n",
       "1936755                 N         0           1.0           0.0     19.0   \n",
       "1936756                 N         0           NaN           NaN      NaN   \n",
       "1936757                 N         0           NaN           NaN      NaN   \n",
       "\n",
       "        SecurityDelay  LateAircraftDelay  \n",
       "0                 NaN                NaN  \n",
       "1                 NaN                NaN  \n",
       "2                 NaN                NaN  \n",
       "3                 0.0               32.0  \n",
       "4                 NaN                NaN  \n",
       "...               ...                ...  \n",
       "1936753           0.0               22.0  \n",
       "1936754           0.0                0.0  \n",
       "1936755           0.0               79.0  \n",
       "1936756           NaN                NaN  \n",
       "1936757           NaN                NaN  \n",
       "\n",
       "[1936758 rows x 30 columns]"
      ]
     },
     "execution_count": 3,
     "metadata": {},
     "output_type": "execute_result"
    }
   ],
   "source": [
    "retards_df"
   ]
  },
  {
   "cell_type": "code",
   "execution_count": 4,
   "metadata": {},
   "outputs": [
    {
     "data": {
      "text/plain": [
       "Unnamed: 0                0\n",
       "Year                      0\n",
       "Month                     0\n",
       "DayofMonth                0\n",
       "DayOfWeek                 0\n",
       "DepTime                   0\n",
       "CRSDepTime                0\n",
       "ArrTime                7110\n",
       "CRSArrTime                0\n",
       "UniqueCarrier             0\n",
       "FlightNum                 0\n",
       "TailNum                   5\n",
       "ActualElapsedTime      8387\n",
       "CRSElapsedTime          198\n",
       "AirTime                8387\n",
       "ArrDelay               8387\n",
       "DepDelay                  0\n",
       "Origin                    0\n",
       "Dest                      0\n",
       "Distance                  0\n",
       "TaxiIn                 7110\n",
       "TaxiOut                 455\n",
       "Cancelled                 0\n",
       "CancellationCode          0\n",
       "Diverted                  0\n",
       "CarrierDelay         689270\n",
       "WeatherDelay         689270\n",
       "NASDelay             689270\n",
       "SecurityDelay        689270\n",
       "LateAircraftDelay    689270\n",
       "dtype: int64"
      ]
     },
     "execution_count": 4,
     "metadata": {},
     "output_type": "execute_result"
    }
   ],
   "source": [
    "retards_df.isnull().sum()"
   ]
  },
  {
   "cell_type": "markdown",
   "metadata": {},
   "source": [
    "+ *Comprovades les variables que contenen null values, per tal de conservar el màxim d'observacions/dades que ofereix el \n",
    "   dataset; decideixo substituïr-los per la mean de cada una de les variables*"
   ]
  },
  {
   "cell_type": "code",
   "execution_count": 5,
   "metadata": {},
   "outputs": [],
   "source": [
    "air_time_mean = retards_df['ArrTime'].mean()\n",
    "retards_df['ArrTime'].fillna(air_time_mean, inplace=True)"
   ]
  },
  {
   "cell_type": "code",
   "execution_count": 6,
   "metadata": {},
   "outputs": [],
   "source": [
    "retards_df['TailNum'].fillna(method ='pad', inplace = True)"
   ]
  },
  {
   "cell_type": "code",
   "execution_count": 7,
   "metadata": {},
   "outputs": [],
   "source": [
    "aelaps_time_mean = retards_df['ActualElapsedTime'].mean()\n",
    "retards_df['ActualElapsedTime'].fillna(air_time_mean, inplace=True)"
   ]
  },
  {
   "cell_type": "code",
   "execution_count": 8,
   "metadata": {},
   "outputs": [],
   "source": [
    "crseelaps_time_mean = retards_df['CRSElapsedTime'].mean()\n",
    "retards_df['CRSElapsedTime'].fillna(crseelaps_time_mean, inplace=True)"
   ]
  },
  {
   "cell_type": "code",
   "execution_count": 9,
   "metadata": {},
   "outputs": [],
   "source": [
    "crseelaps_time_mean = retards_df['AirTime'].mean()\n",
    "retards_df['AirTime'].fillna(crseelaps_time_mean, inplace=True)"
   ]
  },
  {
   "cell_type": "code",
   "execution_count": 10,
   "metadata": {},
   "outputs": [],
   "source": [
    "arrdelay_time_mean = retards_df['ArrDelay'].mean()\n",
    "retards_df['ArrDelay'].fillna(arrdelay_time_mean, inplace=True)"
   ]
  },
  {
   "cell_type": "code",
   "execution_count": 11,
   "metadata": {},
   "outputs": [],
   "source": [
    "taxiin_time_mean = retards_df['TaxiIn'].mean()\n",
    "retards_df['TaxiIn'].fillna(taxiin_time_mean, inplace=True)"
   ]
  },
  {
   "cell_type": "code",
   "execution_count": 12,
   "metadata": {},
   "outputs": [],
   "source": [
    "taxiout_time_mean = retards_df['TaxiOut'].mean()\n",
    "retards_df['TaxiOut'].fillna(taxiout_time_mean, inplace=True)"
   ]
  },
  {
   "cell_type": "code",
   "execution_count": 13,
   "metadata": {},
   "outputs": [],
   "source": [
    "carrierdelay_time_mean = retards_df['CarrierDelay'].mean()\n",
    "retards_df['CarrierDelay'].fillna(carrierdelay_time_mean, inplace=True)"
   ]
  },
  {
   "cell_type": "code",
   "execution_count": 14,
   "metadata": {},
   "outputs": [],
   "source": [
    "weatherdelay_time_mean = retards_df['WeatherDelay'].mean()\n",
    "retards_df['WeatherDelay'].fillna(weatherdelay_time_mean, inplace=True)"
   ]
  },
  {
   "cell_type": "code",
   "execution_count": 15,
   "metadata": {},
   "outputs": [],
   "source": [
    "nasdelay_time_mean = retards_df['NASDelay'].mean()\n",
    "retards_df['NASDelay'].fillna(nasdelay_time_mean, inplace=True)"
   ]
  },
  {
   "cell_type": "code",
   "execution_count": 16,
   "metadata": {},
   "outputs": [],
   "source": [
    "securitydelay_time_mean = retards_df['SecurityDelay'].mean()\n",
    "retards_df['SecurityDelay'].fillna(securitydelay_time_mean, inplace=True)"
   ]
  },
  {
   "cell_type": "code",
   "execution_count": 17,
   "metadata": {},
   "outputs": [],
   "source": [
    "aircraftdelay_time_mean = retards_df['LateAircraftDelay'].mean()\n",
    "retards_df['LateAircraftDelay'].fillna(aircraftdelay_time_mean, inplace=True)"
   ]
  },
  {
   "cell_type": "code",
   "execution_count": 18,
   "metadata": {},
   "outputs": [
    {
     "data": {
      "text/html": [
       "<div>\n",
       "<style scoped>\n",
       "    .dataframe tbody tr th:only-of-type {\n",
       "        vertical-align: middle;\n",
       "    }\n",
       "\n",
       "    .dataframe tbody tr th {\n",
       "        vertical-align: top;\n",
       "    }\n",
       "\n",
       "    .dataframe thead th {\n",
       "        text-align: right;\n",
       "    }\n",
       "</style>\n",
       "<table border=\"1\" class=\"dataframe\">\n",
       "  <thead>\n",
       "    <tr style=\"text-align: right;\">\n",
       "      <th></th>\n",
       "      <th>Unnamed: 0</th>\n",
       "      <th>Year</th>\n",
       "      <th>Month</th>\n",
       "      <th>DayofMonth</th>\n",
       "      <th>DayOfWeek</th>\n",
       "      <th>DepTime</th>\n",
       "      <th>CRSDepTime</th>\n",
       "      <th>ArrTime</th>\n",
       "      <th>CRSArrTime</th>\n",
       "      <th>UniqueCarrier</th>\n",
       "      <th>...</th>\n",
       "      <th>TaxiIn</th>\n",
       "      <th>TaxiOut</th>\n",
       "      <th>Cancelled</th>\n",
       "      <th>CancellationCode</th>\n",
       "      <th>Diverted</th>\n",
       "      <th>CarrierDelay</th>\n",
       "      <th>WeatherDelay</th>\n",
       "      <th>NASDelay</th>\n",
       "      <th>SecurityDelay</th>\n",
       "      <th>LateAircraftDelay</th>\n",
       "    </tr>\n",
       "  </thead>\n",
       "  <tbody>\n",
       "    <tr>\n",
       "      <th>0</th>\n",
       "      <td>0</td>\n",
       "      <td>2008</td>\n",
       "      <td>1</td>\n",
       "      <td>3</td>\n",
       "      <td>4</td>\n",
       "      <td>2003.0</td>\n",
       "      <td>1955</td>\n",
       "      <td>2211.0</td>\n",
       "      <td>2225</td>\n",
       "      <td>WN</td>\n",
       "      <td>...</td>\n",
       "      <td>4.0</td>\n",
       "      <td>8.0</td>\n",
       "      <td>0</td>\n",
       "      <td>N</td>\n",
       "      <td>0</td>\n",
       "      <td>19.179399</td>\n",
       "      <td>3.703571</td>\n",
       "      <td>15.021635</td>\n",
       "      <td>0.090137</td>\n",
       "      <td>25.296466</td>\n",
       "    </tr>\n",
       "    <tr>\n",
       "      <th>1</th>\n",
       "      <td>1</td>\n",
       "      <td>2008</td>\n",
       "      <td>1</td>\n",
       "      <td>3</td>\n",
       "      <td>4</td>\n",
       "      <td>754.0</td>\n",
       "      <td>735</td>\n",
       "      <td>1002.0</td>\n",
       "      <td>1000</td>\n",
       "      <td>WN</td>\n",
       "      <td>...</td>\n",
       "      <td>5.0</td>\n",
       "      <td>10.0</td>\n",
       "      <td>0</td>\n",
       "      <td>N</td>\n",
       "      <td>0</td>\n",
       "      <td>19.179399</td>\n",
       "      <td>3.703571</td>\n",
       "      <td>15.021635</td>\n",
       "      <td>0.090137</td>\n",
       "      <td>25.296466</td>\n",
       "    </tr>\n",
       "    <tr>\n",
       "      <th>2</th>\n",
       "      <td>2</td>\n",
       "      <td>2008</td>\n",
       "      <td>1</td>\n",
       "      <td>3</td>\n",
       "      <td>4</td>\n",
       "      <td>628.0</td>\n",
       "      <td>620</td>\n",
       "      <td>804.0</td>\n",
       "      <td>750</td>\n",
       "      <td>WN</td>\n",
       "      <td>...</td>\n",
       "      <td>3.0</td>\n",
       "      <td>17.0</td>\n",
       "      <td>0</td>\n",
       "      <td>N</td>\n",
       "      <td>0</td>\n",
       "      <td>19.179399</td>\n",
       "      <td>3.703571</td>\n",
       "      <td>15.021635</td>\n",
       "      <td>0.090137</td>\n",
       "      <td>25.296466</td>\n",
       "    </tr>\n",
       "    <tr>\n",
       "      <th>3</th>\n",
       "      <td>4</td>\n",
       "      <td>2008</td>\n",
       "      <td>1</td>\n",
       "      <td>3</td>\n",
       "      <td>4</td>\n",
       "      <td>1829.0</td>\n",
       "      <td>1755</td>\n",
       "      <td>1959.0</td>\n",
       "      <td>1925</td>\n",
       "      <td>WN</td>\n",
       "      <td>...</td>\n",
       "      <td>3.0</td>\n",
       "      <td>10.0</td>\n",
       "      <td>0</td>\n",
       "      <td>N</td>\n",
       "      <td>0</td>\n",
       "      <td>2.000000</td>\n",
       "      <td>0.000000</td>\n",
       "      <td>0.000000</td>\n",
       "      <td>0.000000</td>\n",
       "      <td>32.000000</td>\n",
       "    </tr>\n",
       "    <tr>\n",
       "      <th>4</th>\n",
       "      <td>5</td>\n",
       "      <td>2008</td>\n",
       "      <td>1</td>\n",
       "      <td>3</td>\n",
       "      <td>4</td>\n",
       "      <td>1940.0</td>\n",
       "      <td>1915</td>\n",
       "      <td>2121.0</td>\n",
       "      <td>2110</td>\n",
       "      <td>WN</td>\n",
       "      <td>...</td>\n",
       "      <td>4.0</td>\n",
       "      <td>10.0</td>\n",
       "      <td>0</td>\n",
       "      <td>N</td>\n",
       "      <td>0</td>\n",
       "      <td>19.179399</td>\n",
       "      <td>3.703571</td>\n",
       "      <td>15.021635</td>\n",
       "      <td>0.090137</td>\n",
       "      <td>25.296466</td>\n",
       "    </tr>\n",
       "    <tr>\n",
       "      <th>...</th>\n",
       "      <td>...</td>\n",
       "      <td>...</td>\n",
       "      <td>...</td>\n",
       "      <td>...</td>\n",
       "      <td>...</td>\n",
       "      <td>...</td>\n",
       "      <td>...</td>\n",
       "      <td>...</td>\n",
       "      <td>...</td>\n",
       "      <td>...</td>\n",
       "      <td>...</td>\n",
       "      <td>...</td>\n",
       "      <td>...</td>\n",
       "      <td>...</td>\n",
       "      <td>...</td>\n",
       "      <td>...</td>\n",
       "      <td>...</td>\n",
       "      <td>...</td>\n",
       "      <td>...</td>\n",
       "      <td>...</td>\n",
       "      <td>...</td>\n",
       "    </tr>\n",
       "    <tr>\n",
       "      <th>1936753</th>\n",
       "      <td>7009710</td>\n",
       "      <td>2008</td>\n",
       "      <td>12</td>\n",
       "      <td>13</td>\n",
       "      <td>6</td>\n",
       "      <td>1250.0</td>\n",
       "      <td>1220</td>\n",
       "      <td>1617.0</td>\n",
       "      <td>1552</td>\n",
       "      <td>DL</td>\n",
       "      <td>...</td>\n",
       "      <td>9.0</td>\n",
       "      <td>18.0</td>\n",
       "      <td>0</td>\n",
       "      <td>N</td>\n",
       "      <td>0</td>\n",
       "      <td>3.000000</td>\n",
       "      <td>0.000000</td>\n",
       "      <td>0.000000</td>\n",
       "      <td>0.000000</td>\n",
       "      <td>22.000000</td>\n",
       "    </tr>\n",
       "    <tr>\n",
       "      <th>1936754</th>\n",
       "      <td>7009717</td>\n",
       "      <td>2008</td>\n",
       "      <td>12</td>\n",
       "      <td>13</td>\n",
       "      <td>6</td>\n",
       "      <td>657.0</td>\n",
       "      <td>600</td>\n",
       "      <td>904.0</td>\n",
       "      <td>749</td>\n",
       "      <td>DL</td>\n",
       "      <td>...</td>\n",
       "      <td>15.0</td>\n",
       "      <td>34.0</td>\n",
       "      <td>0</td>\n",
       "      <td>N</td>\n",
       "      <td>0</td>\n",
       "      <td>0.000000</td>\n",
       "      <td>57.000000</td>\n",
       "      <td>18.000000</td>\n",
       "      <td>0.000000</td>\n",
       "      <td>0.000000</td>\n",
       "    </tr>\n",
       "    <tr>\n",
       "      <th>1936755</th>\n",
       "      <td>7009718</td>\n",
       "      <td>2008</td>\n",
       "      <td>12</td>\n",
       "      <td>13</td>\n",
       "      <td>6</td>\n",
       "      <td>1007.0</td>\n",
       "      <td>847</td>\n",
       "      <td>1149.0</td>\n",
       "      <td>1010</td>\n",
       "      <td>DL</td>\n",
       "      <td>...</td>\n",
       "      <td>8.0</td>\n",
       "      <td>32.0</td>\n",
       "      <td>0</td>\n",
       "      <td>N</td>\n",
       "      <td>0</td>\n",
       "      <td>1.000000</td>\n",
       "      <td>0.000000</td>\n",
       "      <td>19.000000</td>\n",
       "      <td>0.000000</td>\n",
       "      <td>79.000000</td>\n",
       "    </tr>\n",
       "    <tr>\n",
       "      <th>1936756</th>\n",
       "      <td>7009726</td>\n",
       "      <td>2008</td>\n",
       "      <td>12</td>\n",
       "      <td>13</td>\n",
       "      <td>6</td>\n",
       "      <td>1251.0</td>\n",
       "      <td>1240</td>\n",
       "      <td>1446.0</td>\n",
       "      <td>1437</td>\n",
       "      <td>DL</td>\n",
       "      <td>...</td>\n",
       "      <td>13.0</td>\n",
       "      <td>13.0</td>\n",
       "      <td>0</td>\n",
       "      <td>N</td>\n",
       "      <td>0</td>\n",
       "      <td>19.179399</td>\n",
       "      <td>3.703571</td>\n",
       "      <td>15.021635</td>\n",
       "      <td>0.090137</td>\n",
       "      <td>25.296466</td>\n",
       "    </tr>\n",
       "    <tr>\n",
       "      <th>1936757</th>\n",
       "      <td>7009727</td>\n",
       "      <td>2008</td>\n",
       "      <td>12</td>\n",
       "      <td>13</td>\n",
       "      <td>6</td>\n",
       "      <td>1110.0</td>\n",
       "      <td>1103</td>\n",
       "      <td>1413.0</td>\n",
       "      <td>1418</td>\n",
       "      <td>DL</td>\n",
       "      <td>...</td>\n",
       "      <td>8.0</td>\n",
       "      <td>11.0</td>\n",
       "      <td>0</td>\n",
       "      <td>N</td>\n",
       "      <td>0</td>\n",
       "      <td>19.179399</td>\n",
       "      <td>3.703571</td>\n",
       "      <td>15.021635</td>\n",
       "      <td>0.090137</td>\n",
       "      <td>25.296466</td>\n",
       "    </tr>\n",
       "  </tbody>\n",
       "</table>\n",
       "<p>1936758 rows × 30 columns</p>\n",
       "</div>"
      ],
      "text/plain": [
       "         Unnamed: 0  Year  Month  DayofMonth  DayOfWeek  DepTime  CRSDepTime  \\\n",
       "0                 0  2008      1           3          4   2003.0        1955   \n",
       "1                 1  2008      1           3          4    754.0         735   \n",
       "2                 2  2008      1           3          4    628.0         620   \n",
       "3                 4  2008      1           3          4   1829.0        1755   \n",
       "4                 5  2008      1           3          4   1940.0        1915   \n",
       "...             ...   ...    ...         ...        ...      ...         ...   \n",
       "1936753     7009710  2008     12          13          6   1250.0        1220   \n",
       "1936754     7009717  2008     12          13          6    657.0         600   \n",
       "1936755     7009718  2008     12          13          6   1007.0         847   \n",
       "1936756     7009726  2008     12          13          6   1251.0        1240   \n",
       "1936757     7009727  2008     12          13          6   1110.0        1103   \n",
       "\n",
       "         ArrTime  CRSArrTime UniqueCarrier  ...  TaxiIn TaxiOut  Cancelled  \\\n",
       "0         2211.0        2225            WN  ...     4.0     8.0          0   \n",
       "1         1002.0        1000            WN  ...     5.0    10.0          0   \n",
       "2          804.0         750            WN  ...     3.0    17.0          0   \n",
       "3         1959.0        1925            WN  ...     3.0    10.0          0   \n",
       "4         2121.0        2110            WN  ...     4.0    10.0          0   \n",
       "...          ...         ...           ...  ...     ...     ...        ...   \n",
       "1936753   1617.0        1552            DL  ...     9.0    18.0          0   \n",
       "1936754    904.0         749            DL  ...    15.0    34.0          0   \n",
       "1936755   1149.0        1010            DL  ...     8.0    32.0          0   \n",
       "1936756   1446.0        1437            DL  ...    13.0    13.0          0   \n",
       "1936757   1413.0        1418            DL  ...     8.0    11.0          0   \n",
       "\n",
       "         CancellationCode  Diverted  CarrierDelay  WeatherDelay   NASDelay  \\\n",
       "0                       N         0     19.179399      3.703571  15.021635   \n",
       "1                       N         0     19.179399      3.703571  15.021635   \n",
       "2                       N         0     19.179399      3.703571  15.021635   \n",
       "3                       N         0      2.000000      0.000000   0.000000   \n",
       "4                       N         0     19.179399      3.703571  15.021635   \n",
       "...                   ...       ...           ...           ...        ...   \n",
       "1936753                 N         0      3.000000      0.000000   0.000000   \n",
       "1936754                 N         0      0.000000     57.000000  18.000000   \n",
       "1936755                 N         0      1.000000      0.000000  19.000000   \n",
       "1936756                 N         0     19.179399      3.703571  15.021635   \n",
       "1936757                 N         0     19.179399      3.703571  15.021635   \n",
       "\n",
       "        SecurityDelay  LateAircraftDelay  \n",
       "0            0.090137          25.296466  \n",
       "1            0.090137          25.296466  \n",
       "2            0.090137          25.296466  \n",
       "3            0.000000          32.000000  \n",
       "4            0.090137          25.296466  \n",
       "...               ...                ...  \n",
       "1936753      0.000000          22.000000  \n",
       "1936754      0.000000           0.000000  \n",
       "1936755      0.000000          79.000000  \n",
       "1936756      0.090137          25.296466  \n",
       "1936757      0.090137          25.296466  \n",
       "\n",
       "[1936758 rows x 30 columns]"
      ]
     },
     "execution_count": 18,
     "metadata": {},
     "output_type": "execute_result"
    }
   ],
   "source": [
    "retards_df"
   ]
  },
  {
   "cell_type": "markdown",
   "metadata": {},
   "source": [
    "+ *I comprovo que ja no hi ha cap null value*"
   ]
  },
  {
   "cell_type": "code",
   "execution_count": 19,
   "metadata": {},
   "outputs": [
    {
     "data": {
      "text/plain": [
       "Unnamed: 0           0\n",
       "Year                 0\n",
       "Month                0\n",
       "DayofMonth           0\n",
       "DayOfWeek            0\n",
       "DepTime              0\n",
       "CRSDepTime           0\n",
       "ArrTime              0\n",
       "CRSArrTime           0\n",
       "UniqueCarrier        0\n",
       "FlightNum            0\n",
       "TailNum              0\n",
       "ActualElapsedTime    0\n",
       "CRSElapsedTime       0\n",
       "AirTime              0\n",
       "ArrDelay             0\n",
       "DepDelay             0\n",
       "Origin               0\n",
       "Dest                 0\n",
       "Distance             0\n",
       "TaxiIn               0\n",
       "TaxiOut              0\n",
       "Cancelled            0\n",
       "CancellationCode     0\n",
       "Diverted             0\n",
       "CarrierDelay         0\n",
       "WeatherDelay         0\n",
       "NASDelay             0\n",
       "SecurityDelay        0\n",
       "LateAircraftDelay    0\n",
       "dtype: int64"
      ]
     },
     "execution_count": 19,
     "metadata": {},
     "output_type": "execute_result"
    }
   ],
   "source": [
    "retards_df.isnull().sum()"
   ]
  },
  {
   "cell_type": "code",
   "execution_count": 20,
   "metadata": {},
   "outputs": [
    {
     "name": "stdout",
     "output_type": "stream",
     "text": [
      "<class 'pandas.core.frame.DataFrame'>\n",
      "RangeIndex: 1936758 entries, 0 to 1936757\n",
      "Data columns (total 30 columns):\n",
      " #   Column             Dtype  \n",
      "---  ------             -----  \n",
      " 0   Unnamed: 0         int64  \n",
      " 1   Year               int64  \n",
      " 2   Month              int64  \n",
      " 3   DayofMonth         int64  \n",
      " 4   DayOfWeek          int64  \n",
      " 5   DepTime            float64\n",
      " 6   CRSDepTime         int64  \n",
      " 7   ArrTime            float64\n",
      " 8   CRSArrTime         int64  \n",
      " 9   UniqueCarrier      object \n",
      " 10  FlightNum          int64  \n",
      " 11  TailNum            object \n",
      " 12  ActualElapsedTime  float64\n",
      " 13  CRSElapsedTime     float64\n",
      " 14  AirTime            float64\n",
      " 15  ArrDelay           float64\n",
      " 16  DepDelay           float64\n",
      " 17  Origin             object \n",
      " 18  Dest               object \n",
      " 19  Distance           int64  \n",
      " 20  TaxiIn             float64\n",
      " 21  TaxiOut            float64\n",
      " 22  Cancelled          int64  \n",
      " 23  CancellationCode   object \n",
      " 24  Diverted           int64  \n",
      " 25  CarrierDelay       float64\n",
      " 26  WeatherDelay       float64\n",
      " 27  NASDelay           float64\n",
      " 28  SecurityDelay      float64\n",
      " 29  LateAircraftDelay  float64\n",
      "dtypes: float64(14), int64(11), object(5)\n",
      "memory usage: 443.3+ MB\n"
     ]
    }
   ],
   "source": [
    "retards_df.info()"
   ]
  },
  {
   "cell_type": "markdown",
   "metadata": {},
   "source": [
    "+ *Em desfaig de les columnes amb valors no numèrics, de \"Unnamed: 0\" que sembla un índex afegit al del DataFrame, de\n",
    "   \"Year\" que és el mateix per totes les observacions (2008), de les variables \"Time\" que recollen hores com a íntegers o \n",
    "   floats; i de \"Cancelled\" i \"Diverted\" que són variables categòriques convertides i tractades de forma binaria(0, 1)*"
   ]
  },
  {
   "cell_type": "code",
   "execution_count": 21,
   "metadata": {},
   "outputs": [],
   "source": [
    "retards_df.drop(retards_df.columns[[0, 1, 5, 6, 7, 8,  9, 11, 17, 18, 22, 23, 24]], axis = 1, inplace = True)"
   ]
  },
  {
   "cell_type": "code",
   "execution_count": 22,
   "metadata": {},
   "outputs": [
    {
     "data": {
      "text/html": [
       "<div>\n",
       "<style scoped>\n",
       "    .dataframe tbody tr th:only-of-type {\n",
       "        vertical-align: middle;\n",
       "    }\n",
       "\n",
       "    .dataframe tbody tr th {\n",
       "        vertical-align: top;\n",
       "    }\n",
       "\n",
       "    .dataframe thead th {\n",
       "        text-align: right;\n",
       "    }\n",
       "</style>\n",
       "<table border=\"1\" class=\"dataframe\">\n",
       "  <thead>\n",
       "    <tr style=\"text-align: right;\">\n",
       "      <th></th>\n",
       "      <th>Month</th>\n",
       "      <th>DayofMonth</th>\n",
       "      <th>DayOfWeek</th>\n",
       "      <th>FlightNum</th>\n",
       "      <th>ActualElapsedTime</th>\n",
       "      <th>CRSElapsedTime</th>\n",
       "      <th>AirTime</th>\n",
       "      <th>ArrDelay</th>\n",
       "      <th>DepDelay</th>\n",
       "      <th>Distance</th>\n",
       "      <th>TaxiIn</th>\n",
       "      <th>TaxiOut</th>\n",
       "      <th>CarrierDelay</th>\n",
       "      <th>WeatherDelay</th>\n",
       "      <th>NASDelay</th>\n",
       "      <th>SecurityDelay</th>\n",
       "      <th>LateAircraftDelay</th>\n",
       "    </tr>\n",
       "  </thead>\n",
       "  <tbody>\n",
       "    <tr>\n",
       "      <th>0</th>\n",
       "      <td>1</td>\n",
       "      <td>3</td>\n",
       "      <td>4</td>\n",
       "      <td>335</td>\n",
       "      <td>128.0</td>\n",
       "      <td>150.0</td>\n",
       "      <td>116.0</td>\n",
       "      <td>-14.0</td>\n",
       "      <td>8.0</td>\n",
       "      <td>810</td>\n",
       "      <td>4.0</td>\n",
       "      <td>8.0</td>\n",
       "      <td>19.179399</td>\n",
       "      <td>3.703571</td>\n",
       "      <td>15.021635</td>\n",
       "      <td>0.090137</td>\n",
       "      <td>25.296466</td>\n",
       "    </tr>\n",
       "    <tr>\n",
       "      <th>1</th>\n",
       "      <td>1</td>\n",
       "      <td>3</td>\n",
       "      <td>4</td>\n",
       "      <td>3231</td>\n",
       "      <td>128.0</td>\n",
       "      <td>145.0</td>\n",
       "      <td>113.0</td>\n",
       "      <td>2.0</td>\n",
       "      <td>19.0</td>\n",
       "      <td>810</td>\n",
       "      <td>5.0</td>\n",
       "      <td>10.0</td>\n",
       "      <td>19.179399</td>\n",
       "      <td>3.703571</td>\n",
       "      <td>15.021635</td>\n",
       "      <td>0.090137</td>\n",
       "      <td>25.296466</td>\n",
       "    </tr>\n",
       "    <tr>\n",
       "      <th>2</th>\n",
       "      <td>1</td>\n",
       "      <td>3</td>\n",
       "      <td>4</td>\n",
       "      <td>448</td>\n",
       "      <td>96.0</td>\n",
       "      <td>90.0</td>\n",
       "      <td>76.0</td>\n",
       "      <td>14.0</td>\n",
       "      <td>8.0</td>\n",
       "      <td>515</td>\n",
       "      <td>3.0</td>\n",
       "      <td>17.0</td>\n",
       "      <td>19.179399</td>\n",
       "      <td>3.703571</td>\n",
       "      <td>15.021635</td>\n",
       "      <td>0.090137</td>\n",
       "      <td>25.296466</td>\n",
       "    </tr>\n",
       "    <tr>\n",
       "      <th>3</th>\n",
       "      <td>1</td>\n",
       "      <td>3</td>\n",
       "      <td>4</td>\n",
       "      <td>3920</td>\n",
       "      <td>90.0</td>\n",
       "      <td>90.0</td>\n",
       "      <td>77.0</td>\n",
       "      <td>34.0</td>\n",
       "      <td>34.0</td>\n",
       "      <td>515</td>\n",
       "      <td>3.0</td>\n",
       "      <td>10.0</td>\n",
       "      <td>2.000000</td>\n",
       "      <td>0.000000</td>\n",
       "      <td>0.000000</td>\n",
       "      <td>0.000000</td>\n",
       "      <td>32.000000</td>\n",
       "    </tr>\n",
       "    <tr>\n",
       "      <th>4</th>\n",
       "      <td>1</td>\n",
       "      <td>3</td>\n",
       "      <td>4</td>\n",
       "      <td>378</td>\n",
       "      <td>101.0</td>\n",
       "      <td>115.0</td>\n",
       "      <td>87.0</td>\n",
       "      <td>11.0</td>\n",
       "      <td>25.0</td>\n",
       "      <td>688</td>\n",
       "      <td>4.0</td>\n",
       "      <td>10.0</td>\n",
       "      <td>19.179399</td>\n",
       "      <td>3.703571</td>\n",
       "      <td>15.021635</td>\n",
       "      <td>0.090137</td>\n",
       "      <td>25.296466</td>\n",
       "    </tr>\n",
       "    <tr>\n",
       "      <th>...</th>\n",
       "      <td>...</td>\n",
       "      <td>...</td>\n",
       "      <td>...</td>\n",
       "      <td>...</td>\n",
       "      <td>...</td>\n",
       "      <td>...</td>\n",
       "      <td>...</td>\n",
       "      <td>...</td>\n",
       "      <td>...</td>\n",
       "      <td>...</td>\n",
       "      <td>...</td>\n",
       "      <td>...</td>\n",
       "      <td>...</td>\n",
       "      <td>...</td>\n",
       "      <td>...</td>\n",
       "      <td>...</td>\n",
       "      <td>...</td>\n",
       "    </tr>\n",
       "    <tr>\n",
       "      <th>1936753</th>\n",
       "      <td>12</td>\n",
       "      <td>13</td>\n",
       "      <td>6</td>\n",
       "      <td>1621</td>\n",
       "      <td>147.0</td>\n",
       "      <td>152.0</td>\n",
       "      <td>120.0</td>\n",
       "      <td>25.0</td>\n",
       "      <td>30.0</td>\n",
       "      <td>906</td>\n",
       "      <td>9.0</td>\n",
       "      <td>18.0</td>\n",
       "      <td>3.000000</td>\n",
       "      <td>0.000000</td>\n",
       "      <td>0.000000</td>\n",
       "      <td>0.000000</td>\n",
       "      <td>22.000000</td>\n",
       "    </tr>\n",
       "    <tr>\n",
       "      <th>1936754</th>\n",
       "      <td>12</td>\n",
       "      <td>13</td>\n",
       "      <td>6</td>\n",
       "      <td>1631</td>\n",
       "      <td>127.0</td>\n",
       "      <td>109.0</td>\n",
       "      <td>78.0</td>\n",
       "      <td>75.0</td>\n",
       "      <td>57.0</td>\n",
       "      <td>481</td>\n",
       "      <td>15.0</td>\n",
       "      <td>34.0</td>\n",
       "      <td>0.000000</td>\n",
       "      <td>57.000000</td>\n",
       "      <td>18.000000</td>\n",
       "      <td>0.000000</td>\n",
       "      <td>0.000000</td>\n",
       "    </tr>\n",
       "    <tr>\n",
       "      <th>1936755</th>\n",
       "      <td>12</td>\n",
       "      <td>13</td>\n",
       "      <td>6</td>\n",
       "      <td>1631</td>\n",
       "      <td>162.0</td>\n",
       "      <td>143.0</td>\n",
       "      <td>122.0</td>\n",
       "      <td>99.0</td>\n",
       "      <td>80.0</td>\n",
       "      <td>689</td>\n",
       "      <td>8.0</td>\n",
       "      <td>32.0</td>\n",
       "      <td>1.000000</td>\n",
       "      <td>0.000000</td>\n",
       "      <td>19.000000</td>\n",
       "      <td>0.000000</td>\n",
       "      <td>79.000000</td>\n",
       "    </tr>\n",
       "    <tr>\n",
       "      <th>1936756</th>\n",
       "      <td>12</td>\n",
       "      <td>13</td>\n",
       "      <td>6</td>\n",
       "      <td>1639</td>\n",
       "      <td>115.0</td>\n",
       "      <td>117.0</td>\n",
       "      <td>89.0</td>\n",
       "      <td>9.0</td>\n",
       "      <td>11.0</td>\n",
       "      <td>533</td>\n",
       "      <td>13.0</td>\n",
       "      <td>13.0</td>\n",
       "      <td>19.179399</td>\n",
       "      <td>3.703571</td>\n",
       "      <td>15.021635</td>\n",
       "      <td>0.090137</td>\n",
       "      <td>25.296466</td>\n",
       "    </tr>\n",
       "    <tr>\n",
       "      <th>1936757</th>\n",
       "      <td>12</td>\n",
       "      <td>13</td>\n",
       "      <td>6</td>\n",
       "      <td>1641</td>\n",
       "      <td>123.0</td>\n",
       "      <td>135.0</td>\n",
       "      <td>104.0</td>\n",
       "      <td>-5.0</td>\n",
       "      <td>7.0</td>\n",
       "      <td>874</td>\n",
       "      <td>8.0</td>\n",
       "      <td>11.0</td>\n",
       "      <td>19.179399</td>\n",
       "      <td>3.703571</td>\n",
       "      <td>15.021635</td>\n",
       "      <td>0.090137</td>\n",
       "      <td>25.296466</td>\n",
       "    </tr>\n",
       "  </tbody>\n",
       "</table>\n",
       "<p>1936758 rows × 17 columns</p>\n",
       "</div>"
      ],
      "text/plain": [
       "         Month  DayofMonth  DayOfWeek  FlightNum  ActualElapsedTime  \\\n",
       "0            1           3          4        335              128.0   \n",
       "1            1           3          4       3231              128.0   \n",
       "2            1           3          4        448               96.0   \n",
       "3            1           3          4       3920               90.0   \n",
       "4            1           3          4        378              101.0   \n",
       "...        ...         ...        ...        ...                ...   \n",
       "1936753     12          13          6       1621              147.0   \n",
       "1936754     12          13          6       1631              127.0   \n",
       "1936755     12          13          6       1631              162.0   \n",
       "1936756     12          13          6       1639              115.0   \n",
       "1936757     12          13          6       1641              123.0   \n",
       "\n",
       "         CRSElapsedTime  AirTime  ArrDelay  DepDelay  Distance  TaxiIn  \\\n",
       "0                 150.0    116.0     -14.0       8.0       810     4.0   \n",
       "1                 145.0    113.0       2.0      19.0       810     5.0   \n",
       "2                  90.0     76.0      14.0       8.0       515     3.0   \n",
       "3                  90.0     77.0      34.0      34.0       515     3.0   \n",
       "4                 115.0     87.0      11.0      25.0       688     4.0   \n",
       "...                 ...      ...       ...       ...       ...     ...   \n",
       "1936753           152.0    120.0      25.0      30.0       906     9.0   \n",
       "1936754           109.0     78.0      75.0      57.0       481    15.0   \n",
       "1936755           143.0    122.0      99.0      80.0       689     8.0   \n",
       "1936756           117.0     89.0       9.0      11.0       533    13.0   \n",
       "1936757           135.0    104.0      -5.0       7.0       874     8.0   \n",
       "\n",
       "         TaxiOut  CarrierDelay  WeatherDelay   NASDelay  SecurityDelay  \\\n",
       "0            8.0     19.179399      3.703571  15.021635       0.090137   \n",
       "1           10.0     19.179399      3.703571  15.021635       0.090137   \n",
       "2           17.0     19.179399      3.703571  15.021635       0.090137   \n",
       "3           10.0      2.000000      0.000000   0.000000       0.000000   \n",
       "4           10.0     19.179399      3.703571  15.021635       0.090137   \n",
       "...          ...           ...           ...        ...            ...   \n",
       "1936753     18.0      3.000000      0.000000   0.000000       0.000000   \n",
       "1936754     34.0      0.000000     57.000000  18.000000       0.000000   \n",
       "1936755     32.0      1.000000      0.000000  19.000000       0.000000   \n",
       "1936756     13.0     19.179399      3.703571  15.021635       0.090137   \n",
       "1936757     11.0     19.179399      3.703571  15.021635       0.090137   \n",
       "\n",
       "         LateAircraftDelay  \n",
       "0                25.296466  \n",
       "1                25.296466  \n",
       "2                25.296466  \n",
       "3                32.000000  \n",
       "4                25.296466  \n",
       "...                    ...  \n",
       "1936753          22.000000  \n",
       "1936754           0.000000  \n",
       "1936755          79.000000  \n",
       "1936756          25.296466  \n",
       "1936757          25.296466  \n",
       "\n",
       "[1936758 rows x 17 columns]"
      ]
     },
     "execution_count": 22,
     "metadata": {},
     "output_type": "execute_result"
    }
   ],
   "source": [
    "retards_df"
   ]
  },
  {
   "cell_type": "markdown",
   "metadata": {},
   "source": [
    "+ *Del Data set original, en faig un random sample de 2000 observacions, per millor agilitat de l'ordinador*"
   ]
  },
  {
   "cell_type": "code",
   "execution_count": 23,
   "metadata": {},
   "outputs": [
    {
     "data": {
      "text/html": [
       "<div>\n",
       "<style scoped>\n",
       "    .dataframe tbody tr th:only-of-type {\n",
       "        vertical-align: middle;\n",
       "    }\n",
       "\n",
       "    .dataframe tbody tr th {\n",
       "        vertical-align: top;\n",
       "    }\n",
       "\n",
       "    .dataframe thead th {\n",
       "        text-align: right;\n",
       "    }\n",
       "</style>\n",
       "<table border=\"1\" class=\"dataframe\">\n",
       "  <thead>\n",
       "    <tr style=\"text-align: right;\">\n",
       "      <th></th>\n",
       "      <th>Month</th>\n",
       "      <th>DayofMonth</th>\n",
       "      <th>DayOfWeek</th>\n",
       "      <th>FlightNum</th>\n",
       "      <th>ActualElapsedTime</th>\n",
       "      <th>CRSElapsedTime</th>\n",
       "      <th>AirTime</th>\n",
       "      <th>ArrDelay</th>\n",
       "      <th>DepDelay</th>\n",
       "      <th>Distance</th>\n",
       "      <th>TaxiIn</th>\n",
       "      <th>TaxiOut</th>\n",
       "      <th>CarrierDelay</th>\n",
       "      <th>WeatherDelay</th>\n",
       "      <th>NASDelay</th>\n",
       "      <th>SecurityDelay</th>\n",
       "      <th>LateAircraftDelay</th>\n",
       "    </tr>\n",
       "  </thead>\n",
       "  <tbody>\n",
       "    <tr>\n",
       "      <th>0</th>\n",
       "      <td>4</td>\n",
       "      <td>24</td>\n",
       "      <td>4</td>\n",
       "      <td>1456</td>\n",
       "      <td>84.0</td>\n",
       "      <td>70.0</td>\n",
       "      <td>51.0</td>\n",
       "      <td>28.0</td>\n",
       "      <td>14.0</td>\n",
       "      <td>236</td>\n",
       "      <td>7.0</td>\n",
       "      <td>26.0</td>\n",
       "      <td>0.000000</td>\n",
       "      <td>0.000000</td>\n",
       "      <td>14.000000</td>\n",
       "      <td>0.000000</td>\n",
       "      <td>14.000000</td>\n",
       "    </tr>\n",
       "    <tr>\n",
       "      <th>1</th>\n",
       "      <td>5</td>\n",
       "      <td>26</td>\n",
       "      <td>1</td>\n",
       "      <td>354</td>\n",
       "      <td>153.0</td>\n",
       "      <td>177.0</td>\n",
       "      <td>130.0</td>\n",
       "      <td>-7.0</td>\n",
       "      <td>17.0</td>\n",
       "      <td>1024</td>\n",
       "      <td>5.0</td>\n",
       "      <td>18.0</td>\n",
       "      <td>19.179399</td>\n",
       "      <td>3.703571</td>\n",
       "      <td>15.021635</td>\n",
       "      <td>0.090137</td>\n",
       "      <td>25.296466</td>\n",
       "    </tr>\n",
       "    <tr>\n",
       "      <th>2</th>\n",
       "      <td>1</td>\n",
       "      <td>28</td>\n",
       "      <td>1</td>\n",
       "      <td>3802</td>\n",
       "      <td>125.0</td>\n",
       "      <td>95.0</td>\n",
       "      <td>81.0</td>\n",
       "      <td>73.0</td>\n",
       "      <td>43.0</td>\n",
       "      <td>532</td>\n",
       "      <td>8.0</td>\n",
       "      <td>36.0</td>\n",
       "      <td>73.000000</td>\n",
       "      <td>0.000000</td>\n",
       "      <td>0.000000</td>\n",
       "      <td>0.000000</td>\n",
       "      <td>0.000000</td>\n",
       "    </tr>\n",
       "    <tr>\n",
       "      <th>3</th>\n",
       "      <td>3</td>\n",
       "      <td>8</td>\n",
       "      <td>6</td>\n",
       "      <td>1449</td>\n",
       "      <td>158.0</td>\n",
       "      <td>168.0</td>\n",
       "      <td>131.0</td>\n",
       "      <td>437.0</td>\n",
       "      <td>447.0</td>\n",
       "      <td>1024</td>\n",
       "      <td>11.0</td>\n",
       "      <td>16.0</td>\n",
       "      <td>0.000000</td>\n",
       "      <td>0.000000</td>\n",
       "      <td>437.000000</td>\n",
       "      <td>0.000000</td>\n",
       "      <td>0.000000</td>\n",
       "    </tr>\n",
       "    <tr>\n",
       "      <th>4</th>\n",
       "      <td>11</td>\n",
       "      <td>11</td>\n",
       "      <td>2</td>\n",
       "      <td>442</td>\n",
       "      <td>159.0</td>\n",
       "      <td>86.0</td>\n",
       "      <td>57.0</td>\n",
       "      <td>130.0</td>\n",
       "      <td>57.0</td>\n",
       "      <td>429</td>\n",
       "      <td>7.0</td>\n",
       "      <td>95.0</td>\n",
       "      <td>0.000000</td>\n",
       "      <td>7.000000</td>\n",
       "      <td>73.000000</td>\n",
       "      <td>0.000000</td>\n",
       "      <td>50.000000</td>\n",
       "    </tr>\n",
       "    <tr>\n",
       "      <th>...</th>\n",
       "      <td>...</td>\n",
       "      <td>...</td>\n",
       "      <td>...</td>\n",
       "      <td>...</td>\n",
       "      <td>...</td>\n",
       "      <td>...</td>\n",
       "      <td>...</td>\n",
       "      <td>...</td>\n",
       "      <td>...</td>\n",
       "      <td>...</td>\n",
       "      <td>...</td>\n",
       "      <td>...</td>\n",
       "      <td>...</td>\n",
       "      <td>...</td>\n",
       "      <td>...</td>\n",
       "      <td>...</td>\n",
       "      <td>...</td>\n",
       "    </tr>\n",
       "    <tr>\n",
       "      <th>1995</th>\n",
       "      <td>6</td>\n",
       "      <td>26</td>\n",
       "      <td>4</td>\n",
       "      <td>980</td>\n",
       "      <td>149.0</td>\n",
       "      <td>155.0</td>\n",
       "      <td>136.0</td>\n",
       "      <td>80.0</td>\n",
       "      <td>86.0</td>\n",
       "      <td>935</td>\n",
       "      <td>5.0</td>\n",
       "      <td>8.0</td>\n",
       "      <td>0.000000</td>\n",
       "      <td>0.000000</td>\n",
       "      <td>0.000000</td>\n",
       "      <td>0.000000</td>\n",
       "      <td>80.000000</td>\n",
       "    </tr>\n",
       "    <tr>\n",
       "      <th>1996</th>\n",
       "      <td>9</td>\n",
       "      <td>13</td>\n",
       "      <td>6</td>\n",
       "      <td>1144</td>\n",
       "      <td>198.0</td>\n",
       "      <td>205.0</td>\n",
       "      <td>178.0</td>\n",
       "      <td>9.0</td>\n",
       "      <td>16.0</td>\n",
       "      <td>1464</td>\n",
       "      <td>5.0</td>\n",
       "      <td>15.0</td>\n",
       "      <td>19.179399</td>\n",
       "      <td>3.703571</td>\n",
       "      <td>15.021635</td>\n",
       "      <td>0.090137</td>\n",
       "      <td>25.296466</td>\n",
       "    </tr>\n",
       "    <tr>\n",
       "      <th>1997</th>\n",
       "      <td>4</td>\n",
       "      <td>22</td>\n",
       "      <td>2</td>\n",
       "      <td>372</td>\n",
       "      <td>134.0</td>\n",
       "      <td>136.0</td>\n",
       "      <td>111.0</td>\n",
       "      <td>72.0</td>\n",
       "      <td>74.0</td>\n",
       "      <td>761</td>\n",
       "      <td>10.0</td>\n",
       "      <td>13.0</td>\n",
       "      <td>0.000000</td>\n",
       "      <td>0.000000</td>\n",
       "      <td>0.000000</td>\n",
       "      <td>0.000000</td>\n",
       "      <td>72.000000</td>\n",
       "    </tr>\n",
       "    <tr>\n",
       "      <th>1998</th>\n",
       "      <td>2</td>\n",
       "      <td>12</td>\n",
       "      <td>2</td>\n",
       "      <td>341</td>\n",
       "      <td>156.0</td>\n",
       "      <td>170.0</td>\n",
       "      <td>125.0</td>\n",
       "      <td>274.0</td>\n",
       "      <td>288.0</td>\n",
       "      <td>733</td>\n",
       "      <td>14.0</td>\n",
       "      <td>17.0</td>\n",
       "      <td>0.000000</td>\n",
       "      <td>0.000000</td>\n",
       "      <td>63.000000</td>\n",
       "      <td>0.000000</td>\n",
       "      <td>211.000000</td>\n",
       "    </tr>\n",
       "    <tr>\n",
       "      <th>1999</th>\n",
       "      <td>11</td>\n",
       "      <td>5</td>\n",
       "      <td>3</td>\n",
       "      <td>2324</td>\n",
       "      <td>57.0</td>\n",
       "      <td>55.0</td>\n",
       "      <td>45.0</td>\n",
       "      <td>28.0</td>\n",
       "      <td>26.0</td>\n",
       "      <td>197</td>\n",
       "      <td>6.0</td>\n",
       "      <td>6.0</td>\n",
       "      <td>0.000000</td>\n",
       "      <td>0.000000</td>\n",
       "      <td>2.000000</td>\n",
       "      <td>0.000000</td>\n",
       "      <td>26.000000</td>\n",
       "    </tr>\n",
       "  </tbody>\n",
       "</table>\n",
       "<p>2000 rows × 17 columns</p>\n",
       "</div>"
      ],
      "text/plain": [
       "      Month  DayofMonth  DayOfWeek  FlightNum  ActualElapsedTime  \\\n",
       "0         4          24          4       1456               84.0   \n",
       "1         5          26          1        354              153.0   \n",
       "2         1          28          1       3802              125.0   \n",
       "3         3           8          6       1449              158.0   \n",
       "4        11          11          2        442              159.0   \n",
       "...     ...         ...        ...        ...                ...   \n",
       "1995      6          26          4        980              149.0   \n",
       "1996      9          13          6       1144              198.0   \n",
       "1997      4          22          2        372              134.0   \n",
       "1998      2          12          2        341              156.0   \n",
       "1999     11           5          3       2324               57.0   \n",
       "\n",
       "      CRSElapsedTime  AirTime  ArrDelay  DepDelay  Distance  TaxiIn  TaxiOut  \\\n",
       "0               70.0     51.0      28.0      14.0       236     7.0     26.0   \n",
       "1              177.0    130.0      -7.0      17.0      1024     5.0     18.0   \n",
       "2               95.0     81.0      73.0      43.0       532     8.0     36.0   \n",
       "3              168.0    131.0     437.0     447.0      1024    11.0     16.0   \n",
       "4               86.0     57.0     130.0      57.0       429     7.0     95.0   \n",
       "...              ...      ...       ...       ...       ...     ...      ...   \n",
       "1995           155.0    136.0      80.0      86.0       935     5.0      8.0   \n",
       "1996           205.0    178.0       9.0      16.0      1464     5.0     15.0   \n",
       "1997           136.0    111.0      72.0      74.0       761    10.0     13.0   \n",
       "1998           170.0    125.0     274.0     288.0       733    14.0     17.0   \n",
       "1999            55.0     45.0      28.0      26.0       197     6.0      6.0   \n",
       "\n",
       "      CarrierDelay  WeatherDelay    NASDelay  SecurityDelay  LateAircraftDelay  \n",
       "0         0.000000      0.000000   14.000000       0.000000          14.000000  \n",
       "1        19.179399      3.703571   15.021635       0.090137          25.296466  \n",
       "2        73.000000      0.000000    0.000000       0.000000           0.000000  \n",
       "3         0.000000      0.000000  437.000000       0.000000           0.000000  \n",
       "4         0.000000      7.000000   73.000000       0.000000          50.000000  \n",
       "...            ...           ...         ...            ...                ...  \n",
       "1995      0.000000      0.000000    0.000000       0.000000          80.000000  \n",
       "1996     19.179399      3.703571   15.021635       0.090137          25.296466  \n",
       "1997      0.000000      0.000000    0.000000       0.000000          72.000000  \n",
       "1998      0.000000      0.000000   63.000000       0.000000         211.000000  \n",
       "1999      0.000000      0.000000    2.000000       0.000000          26.000000  \n",
       "\n",
       "[2000 rows x 17 columns]"
      ]
     },
     "execution_count": 23,
     "metadata": {},
     "output_type": "execute_result"
    }
   ],
   "source": [
    "retards_df = retards_df.sample(n = 2000,  random_state = 4).reset_index(drop=True)\n",
    "retards_df"
   ]
  },
  {
   "cell_type": "markdown",
   "metadata": {},
   "source": [
    "+ *Divideixo el Data Set a (variables independents) i b (variable dependent), només per tenir variable target al final del \n",
    "   DataFrame*"
   ]
  },
  {
   "cell_type": "code",
   "execution_count": 24,
   "metadata": {},
   "outputs": [],
   "source": [
    "a = retards_df.drop(\"ArrDelay\", 1)\n",
    "b = retards_df[\"ArrDelay\"]"
   ]
  },
  {
   "cell_type": "markdown",
   "metadata": {},
   "source": [
    "+ *I faig un \"pd.concat()\" per deixar el Data set amb la variable dependent \"ArrDelay\" al final a la dreta*"
   ]
  },
  {
   "cell_type": "code",
   "execution_count": 25,
   "metadata": {},
   "outputs": [],
   "source": [
    "retards2_df = pd.concat([a, b], axis = 1)"
   ]
  },
  {
   "cell_type": "code",
   "execution_count": 26,
   "metadata": {},
   "outputs": [
    {
     "data": {
      "text/html": [
       "<div>\n",
       "<style scoped>\n",
       "    .dataframe tbody tr th:only-of-type {\n",
       "        vertical-align: middle;\n",
       "    }\n",
       "\n",
       "    .dataframe tbody tr th {\n",
       "        vertical-align: top;\n",
       "    }\n",
       "\n",
       "    .dataframe thead th {\n",
       "        text-align: right;\n",
       "    }\n",
       "</style>\n",
       "<table border=\"1\" class=\"dataframe\">\n",
       "  <thead>\n",
       "    <tr style=\"text-align: right;\">\n",
       "      <th></th>\n",
       "      <th>Month</th>\n",
       "      <th>DayofMonth</th>\n",
       "      <th>DayOfWeek</th>\n",
       "      <th>FlightNum</th>\n",
       "      <th>ActualElapsedTime</th>\n",
       "      <th>CRSElapsedTime</th>\n",
       "      <th>AirTime</th>\n",
       "      <th>DepDelay</th>\n",
       "      <th>Distance</th>\n",
       "      <th>TaxiIn</th>\n",
       "      <th>TaxiOut</th>\n",
       "      <th>CarrierDelay</th>\n",
       "      <th>WeatherDelay</th>\n",
       "      <th>NASDelay</th>\n",
       "      <th>SecurityDelay</th>\n",
       "      <th>LateAircraftDelay</th>\n",
       "      <th>ArrDelay</th>\n",
       "    </tr>\n",
       "  </thead>\n",
       "  <tbody>\n",
       "    <tr>\n",
       "      <th>0</th>\n",
       "      <td>4</td>\n",
       "      <td>24</td>\n",
       "      <td>4</td>\n",
       "      <td>1456</td>\n",
       "      <td>84.0</td>\n",
       "      <td>70.0</td>\n",
       "      <td>51.0</td>\n",
       "      <td>14.0</td>\n",
       "      <td>236</td>\n",
       "      <td>7.0</td>\n",
       "      <td>26.0</td>\n",
       "      <td>0.000000</td>\n",
       "      <td>0.000000</td>\n",
       "      <td>14.000000</td>\n",
       "      <td>0.000000</td>\n",
       "      <td>14.000000</td>\n",
       "      <td>28.0</td>\n",
       "    </tr>\n",
       "    <tr>\n",
       "      <th>1</th>\n",
       "      <td>5</td>\n",
       "      <td>26</td>\n",
       "      <td>1</td>\n",
       "      <td>354</td>\n",
       "      <td>153.0</td>\n",
       "      <td>177.0</td>\n",
       "      <td>130.0</td>\n",
       "      <td>17.0</td>\n",
       "      <td>1024</td>\n",
       "      <td>5.0</td>\n",
       "      <td>18.0</td>\n",
       "      <td>19.179399</td>\n",
       "      <td>3.703571</td>\n",
       "      <td>15.021635</td>\n",
       "      <td>0.090137</td>\n",
       "      <td>25.296466</td>\n",
       "      <td>-7.0</td>\n",
       "    </tr>\n",
       "    <tr>\n",
       "      <th>2</th>\n",
       "      <td>1</td>\n",
       "      <td>28</td>\n",
       "      <td>1</td>\n",
       "      <td>3802</td>\n",
       "      <td>125.0</td>\n",
       "      <td>95.0</td>\n",
       "      <td>81.0</td>\n",
       "      <td>43.0</td>\n",
       "      <td>532</td>\n",
       "      <td>8.0</td>\n",
       "      <td>36.0</td>\n",
       "      <td>73.000000</td>\n",
       "      <td>0.000000</td>\n",
       "      <td>0.000000</td>\n",
       "      <td>0.000000</td>\n",
       "      <td>0.000000</td>\n",
       "      <td>73.0</td>\n",
       "    </tr>\n",
       "    <tr>\n",
       "      <th>3</th>\n",
       "      <td>3</td>\n",
       "      <td>8</td>\n",
       "      <td>6</td>\n",
       "      <td>1449</td>\n",
       "      <td>158.0</td>\n",
       "      <td>168.0</td>\n",
       "      <td>131.0</td>\n",
       "      <td>447.0</td>\n",
       "      <td>1024</td>\n",
       "      <td>11.0</td>\n",
       "      <td>16.0</td>\n",
       "      <td>0.000000</td>\n",
       "      <td>0.000000</td>\n",
       "      <td>437.000000</td>\n",
       "      <td>0.000000</td>\n",
       "      <td>0.000000</td>\n",
       "      <td>437.0</td>\n",
       "    </tr>\n",
       "    <tr>\n",
       "      <th>4</th>\n",
       "      <td>11</td>\n",
       "      <td>11</td>\n",
       "      <td>2</td>\n",
       "      <td>442</td>\n",
       "      <td>159.0</td>\n",
       "      <td>86.0</td>\n",
       "      <td>57.0</td>\n",
       "      <td>57.0</td>\n",
       "      <td>429</td>\n",
       "      <td>7.0</td>\n",
       "      <td>95.0</td>\n",
       "      <td>0.000000</td>\n",
       "      <td>7.000000</td>\n",
       "      <td>73.000000</td>\n",
       "      <td>0.000000</td>\n",
       "      <td>50.000000</td>\n",
       "      <td>130.0</td>\n",
       "    </tr>\n",
       "    <tr>\n",
       "      <th>...</th>\n",
       "      <td>...</td>\n",
       "      <td>...</td>\n",
       "      <td>...</td>\n",
       "      <td>...</td>\n",
       "      <td>...</td>\n",
       "      <td>...</td>\n",
       "      <td>...</td>\n",
       "      <td>...</td>\n",
       "      <td>...</td>\n",
       "      <td>...</td>\n",
       "      <td>...</td>\n",
       "      <td>...</td>\n",
       "      <td>...</td>\n",
       "      <td>...</td>\n",
       "      <td>...</td>\n",
       "      <td>...</td>\n",
       "      <td>...</td>\n",
       "    </tr>\n",
       "    <tr>\n",
       "      <th>1995</th>\n",
       "      <td>6</td>\n",
       "      <td>26</td>\n",
       "      <td>4</td>\n",
       "      <td>980</td>\n",
       "      <td>149.0</td>\n",
       "      <td>155.0</td>\n",
       "      <td>136.0</td>\n",
       "      <td>86.0</td>\n",
       "      <td>935</td>\n",
       "      <td>5.0</td>\n",
       "      <td>8.0</td>\n",
       "      <td>0.000000</td>\n",
       "      <td>0.000000</td>\n",
       "      <td>0.000000</td>\n",
       "      <td>0.000000</td>\n",
       "      <td>80.000000</td>\n",
       "      <td>80.0</td>\n",
       "    </tr>\n",
       "    <tr>\n",
       "      <th>1996</th>\n",
       "      <td>9</td>\n",
       "      <td>13</td>\n",
       "      <td>6</td>\n",
       "      <td>1144</td>\n",
       "      <td>198.0</td>\n",
       "      <td>205.0</td>\n",
       "      <td>178.0</td>\n",
       "      <td>16.0</td>\n",
       "      <td>1464</td>\n",
       "      <td>5.0</td>\n",
       "      <td>15.0</td>\n",
       "      <td>19.179399</td>\n",
       "      <td>3.703571</td>\n",
       "      <td>15.021635</td>\n",
       "      <td>0.090137</td>\n",
       "      <td>25.296466</td>\n",
       "      <td>9.0</td>\n",
       "    </tr>\n",
       "    <tr>\n",
       "      <th>1997</th>\n",
       "      <td>4</td>\n",
       "      <td>22</td>\n",
       "      <td>2</td>\n",
       "      <td>372</td>\n",
       "      <td>134.0</td>\n",
       "      <td>136.0</td>\n",
       "      <td>111.0</td>\n",
       "      <td>74.0</td>\n",
       "      <td>761</td>\n",
       "      <td>10.0</td>\n",
       "      <td>13.0</td>\n",
       "      <td>0.000000</td>\n",
       "      <td>0.000000</td>\n",
       "      <td>0.000000</td>\n",
       "      <td>0.000000</td>\n",
       "      <td>72.000000</td>\n",
       "      <td>72.0</td>\n",
       "    </tr>\n",
       "    <tr>\n",
       "      <th>1998</th>\n",
       "      <td>2</td>\n",
       "      <td>12</td>\n",
       "      <td>2</td>\n",
       "      <td>341</td>\n",
       "      <td>156.0</td>\n",
       "      <td>170.0</td>\n",
       "      <td>125.0</td>\n",
       "      <td>288.0</td>\n",
       "      <td>733</td>\n",
       "      <td>14.0</td>\n",
       "      <td>17.0</td>\n",
       "      <td>0.000000</td>\n",
       "      <td>0.000000</td>\n",
       "      <td>63.000000</td>\n",
       "      <td>0.000000</td>\n",
       "      <td>211.000000</td>\n",
       "      <td>274.0</td>\n",
       "    </tr>\n",
       "    <tr>\n",
       "      <th>1999</th>\n",
       "      <td>11</td>\n",
       "      <td>5</td>\n",
       "      <td>3</td>\n",
       "      <td>2324</td>\n",
       "      <td>57.0</td>\n",
       "      <td>55.0</td>\n",
       "      <td>45.0</td>\n",
       "      <td>26.0</td>\n",
       "      <td>197</td>\n",
       "      <td>6.0</td>\n",
       "      <td>6.0</td>\n",
       "      <td>0.000000</td>\n",
       "      <td>0.000000</td>\n",
       "      <td>2.000000</td>\n",
       "      <td>0.000000</td>\n",
       "      <td>26.000000</td>\n",
       "      <td>28.0</td>\n",
       "    </tr>\n",
       "  </tbody>\n",
       "</table>\n",
       "<p>2000 rows × 17 columns</p>\n",
       "</div>"
      ],
      "text/plain": [
       "      Month  DayofMonth  DayOfWeek  FlightNum  ActualElapsedTime  \\\n",
       "0         4          24          4       1456               84.0   \n",
       "1         5          26          1        354              153.0   \n",
       "2         1          28          1       3802              125.0   \n",
       "3         3           8          6       1449              158.0   \n",
       "4        11          11          2        442              159.0   \n",
       "...     ...         ...        ...        ...                ...   \n",
       "1995      6          26          4        980              149.0   \n",
       "1996      9          13          6       1144              198.0   \n",
       "1997      4          22          2        372              134.0   \n",
       "1998      2          12          2        341              156.0   \n",
       "1999     11           5          3       2324               57.0   \n",
       "\n",
       "      CRSElapsedTime  AirTime  DepDelay  Distance  TaxiIn  TaxiOut  \\\n",
       "0               70.0     51.0      14.0       236     7.0     26.0   \n",
       "1              177.0    130.0      17.0      1024     5.0     18.0   \n",
       "2               95.0     81.0      43.0       532     8.0     36.0   \n",
       "3              168.0    131.0     447.0      1024    11.0     16.0   \n",
       "4               86.0     57.0      57.0       429     7.0     95.0   \n",
       "...              ...      ...       ...       ...     ...      ...   \n",
       "1995           155.0    136.0      86.0       935     5.0      8.0   \n",
       "1996           205.0    178.0      16.0      1464     5.0     15.0   \n",
       "1997           136.0    111.0      74.0       761    10.0     13.0   \n",
       "1998           170.0    125.0     288.0       733    14.0     17.0   \n",
       "1999            55.0     45.0      26.0       197     6.0      6.0   \n",
       "\n",
       "      CarrierDelay  WeatherDelay    NASDelay  SecurityDelay  \\\n",
       "0         0.000000      0.000000   14.000000       0.000000   \n",
       "1        19.179399      3.703571   15.021635       0.090137   \n",
       "2        73.000000      0.000000    0.000000       0.000000   \n",
       "3         0.000000      0.000000  437.000000       0.000000   \n",
       "4         0.000000      7.000000   73.000000       0.000000   \n",
       "...            ...           ...         ...            ...   \n",
       "1995      0.000000      0.000000    0.000000       0.000000   \n",
       "1996     19.179399      3.703571   15.021635       0.090137   \n",
       "1997      0.000000      0.000000    0.000000       0.000000   \n",
       "1998      0.000000      0.000000   63.000000       0.000000   \n",
       "1999      0.000000      0.000000    2.000000       0.000000   \n",
       "\n",
       "      LateAircraftDelay  ArrDelay  \n",
       "0             14.000000      28.0  \n",
       "1             25.296466      -7.0  \n",
       "2              0.000000      73.0  \n",
       "3              0.000000     437.0  \n",
       "4             50.000000     130.0  \n",
       "...                 ...       ...  \n",
       "1995          80.000000      80.0  \n",
       "1996          25.296466       9.0  \n",
       "1997          72.000000      72.0  \n",
       "1998         211.000000     274.0  \n",
       "1999          26.000000      28.0  \n",
       "\n",
       "[2000 rows x 17 columns]"
      ]
     },
     "execution_count": 26,
     "metadata": {},
     "output_type": "execute_result"
    }
   ],
   "source": [
    "retards2_df"
   ]
  },
  {
   "cell_type": "code",
   "execution_count": 27,
   "metadata": {},
   "outputs": [
    {
     "data": {
      "text/html": [
       "<div>\n",
       "<style scoped>\n",
       "    .dataframe tbody tr th:only-of-type {\n",
       "        vertical-align: middle;\n",
       "    }\n",
       "\n",
       "    .dataframe tbody tr th {\n",
       "        vertical-align: top;\n",
       "    }\n",
       "\n",
       "    .dataframe thead th {\n",
       "        text-align: right;\n",
       "    }\n",
       "</style>\n",
       "<table border=\"1\" class=\"dataframe\">\n",
       "  <thead>\n",
       "    <tr style=\"text-align: right;\">\n",
       "      <th></th>\n",
       "      <th>Month</th>\n",
       "      <th>DayofMonth</th>\n",
       "      <th>DayOfWeek</th>\n",
       "      <th>FlightNum</th>\n",
       "      <th>ActualElapsedTime</th>\n",
       "      <th>CRSElapsedTime</th>\n",
       "      <th>AirTime</th>\n",
       "      <th>DepDelay</th>\n",
       "      <th>Distance</th>\n",
       "      <th>TaxiIn</th>\n",
       "      <th>TaxiOut</th>\n",
       "      <th>CarrierDelay</th>\n",
       "      <th>WeatherDelay</th>\n",
       "      <th>NASDelay</th>\n",
       "      <th>SecurityDelay</th>\n",
       "      <th>LateAircraftDelay</th>\n",
       "      <th>ArrDelay</th>\n",
       "    </tr>\n",
       "  </thead>\n",
       "  <tbody>\n",
       "    <tr>\n",
       "      <th>count</th>\n",
       "      <td>2000.000000</td>\n",
       "      <td>2000.000000</td>\n",
       "      <td>2000.000000</td>\n",
       "      <td>2000.000000</td>\n",
       "      <td>2000.000000</td>\n",
       "      <td>2000.000000</td>\n",
       "      <td>2000.000000</td>\n",
       "      <td>2000.00000</td>\n",
       "      <td>2000.000000</td>\n",
       "      <td>2000.000000</td>\n",
       "      <td>2000.000000</td>\n",
       "      <td>2000.000000</td>\n",
       "      <td>2000.000000</td>\n",
       "      <td>2000.000000</td>\n",
       "      <td>2000.000000</td>\n",
       "      <td>2000.000000</td>\n",
       "      <td>2000.000000</td>\n",
       "    </tr>\n",
       "    <tr>\n",
       "      <th>mean</th>\n",
       "      <td>6.039000</td>\n",
       "      <td>15.787500</td>\n",
       "      <td>3.973500</td>\n",
       "      <td>2145.272500</td>\n",
       "      <td>144.941844</td>\n",
       "      <td>136.589500</td>\n",
       "      <td>110.991663</td>\n",
       "      <td>45.00950</td>\n",
       "      <td>783.710000</td>\n",
       "      <td>6.966471</td>\n",
       "      <td>18.148616</td>\n",
       "      <td>18.334751</td>\n",
       "      <td>3.687639</td>\n",
       "      <td>16.618508</td>\n",
       "      <td>0.149778</td>\n",
       "      <td>26.133874</td>\n",
       "      <td>44.550199</td>\n",
       "    </tr>\n",
       "    <tr>\n",
       "      <th>std</th>\n",
       "      <td>3.510932</td>\n",
       "      <td>8.799378</td>\n",
       "      <td>1.994439</td>\n",
       "      <td>1947.304349</td>\n",
       "      <td>136.384458</td>\n",
       "      <td>74.096593</td>\n",
       "      <td>71.574275</td>\n",
       "      <td>57.62573</td>\n",
       "      <td>595.294679</td>\n",
       "      <td>6.180669</td>\n",
       "      <td>13.725838</td>\n",
       "      <td>34.898253</td>\n",
       "      <td>15.250171</td>\n",
       "      <td>31.772982</td>\n",
       "      <td>3.022160</td>\n",
       "      <td>36.896660</td>\n",
       "      <td>60.926511</td>\n",
       "    </tr>\n",
       "    <tr>\n",
       "      <th>min</th>\n",
       "      <td>1.000000</td>\n",
       "      <td>1.000000</td>\n",
       "      <td>1.000000</td>\n",
       "      <td>1.000000</td>\n",
       "      <td>30.000000</td>\n",
       "      <td>34.000000</td>\n",
       "      <td>15.000000</td>\n",
       "      <td>6.00000</td>\n",
       "      <td>67.000000</td>\n",
       "      <td>1.000000</td>\n",
       "      <td>3.000000</td>\n",
       "      <td>0.000000</td>\n",
       "      <td>0.000000</td>\n",
       "      <td>0.000000</td>\n",
       "      <td>0.000000</td>\n",
       "      <td>0.000000</td>\n",
       "      <td>-44.000000</td>\n",
       "    </tr>\n",
       "    <tr>\n",
       "      <th>25%</th>\n",
       "      <td>3.000000</td>\n",
       "      <td>8.000000</td>\n",
       "      <td>2.000000</td>\n",
       "      <td>608.500000</td>\n",
       "      <td>81.000000</td>\n",
       "      <td>83.000000</td>\n",
       "      <td>59.000000</td>\n",
       "      <td>12.00000</td>\n",
       "      <td>349.750000</td>\n",
       "      <td>4.000000</td>\n",
       "      <td>10.000000</td>\n",
       "      <td>0.000000</td>\n",
       "      <td>0.000000</td>\n",
       "      <td>0.000000</td>\n",
       "      <td>0.000000</td>\n",
       "      <td>0.000000</td>\n",
       "      <td>9.750000</td>\n",
       "    </tr>\n",
       "    <tr>\n",
       "      <th>50%</th>\n",
       "      <td>6.000000</td>\n",
       "      <td>16.000000</td>\n",
       "      <td>4.000000</td>\n",
       "      <td>1472.000000</td>\n",
       "      <td>116.000000</td>\n",
       "      <td>116.000000</td>\n",
       "      <td>91.000000</td>\n",
       "      <td>25.00000</td>\n",
       "      <td>611.500000</td>\n",
       "      <td>5.000000</td>\n",
       "      <td>14.000000</td>\n",
       "      <td>19.179399</td>\n",
       "      <td>0.000000</td>\n",
       "      <td>15.021635</td>\n",
       "      <td>0.000000</td>\n",
       "      <td>25.296466</td>\n",
       "      <td>26.000000</td>\n",
       "    </tr>\n",
       "    <tr>\n",
       "      <th>75%</th>\n",
       "      <td>9.000000</td>\n",
       "      <td>23.000000</td>\n",
       "      <td>6.000000</td>\n",
       "      <td>3330.000000</td>\n",
       "      <td>170.250000</td>\n",
       "      <td>169.000000</td>\n",
       "      <td>141.000000</td>\n",
       "      <td>55.00000</td>\n",
       "      <td>1024.000000</td>\n",
       "      <td>8.000000</td>\n",
       "      <td>21.000000</td>\n",
       "      <td>19.179399</td>\n",
       "      <td>3.703571</td>\n",
       "      <td>15.021635</td>\n",
       "      <td>0.090137</td>\n",
       "      <td>25.296466</td>\n",
       "      <td>58.000000</td>\n",
       "    </tr>\n",
       "    <tr>\n",
       "      <th>max</th>\n",
       "      <td>12.000000</td>\n",
       "      <td>31.000000</td>\n",
       "      <td>7.000000</td>\n",
       "      <td>7767.000000</td>\n",
       "      <td>1610.140629</td>\n",
       "      <td>635.000000</td>\n",
       "      <td>599.000000</td>\n",
       "      <td>1153.00000</td>\n",
       "      <td>4962.000000</td>\n",
       "      <td>121.000000</td>\n",
       "      <td>173.000000</td>\n",
       "      <td>865.000000</td>\n",
       "      <td>316.000000</td>\n",
       "      <td>437.000000</td>\n",
       "      <td>126.000000</td>\n",
       "      <td>470.000000</td>\n",
       "      <td>1129.000000</td>\n",
       "    </tr>\n",
       "  </tbody>\n",
       "</table>\n",
       "</div>"
      ],
      "text/plain": [
       "             Month   DayofMonth    DayOfWeek    FlightNum  ActualElapsedTime  \\\n",
       "count  2000.000000  2000.000000  2000.000000  2000.000000        2000.000000   \n",
       "mean      6.039000    15.787500     3.973500  2145.272500         144.941844   \n",
       "std       3.510932     8.799378     1.994439  1947.304349         136.384458   \n",
       "min       1.000000     1.000000     1.000000     1.000000          30.000000   \n",
       "25%       3.000000     8.000000     2.000000   608.500000          81.000000   \n",
       "50%       6.000000    16.000000     4.000000  1472.000000         116.000000   \n",
       "75%       9.000000    23.000000     6.000000  3330.000000         170.250000   \n",
       "max      12.000000    31.000000     7.000000  7767.000000        1610.140629   \n",
       "\n",
       "       CRSElapsedTime      AirTime    DepDelay     Distance       TaxiIn  \\\n",
       "count     2000.000000  2000.000000  2000.00000  2000.000000  2000.000000   \n",
       "mean       136.589500   110.991663    45.00950   783.710000     6.966471   \n",
       "std         74.096593    71.574275    57.62573   595.294679     6.180669   \n",
       "min         34.000000    15.000000     6.00000    67.000000     1.000000   \n",
       "25%         83.000000    59.000000    12.00000   349.750000     4.000000   \n",
       "50%        116.000000    91.000000    25.00000   611.500000     5.000000   \n",
       "75%        169.000000   141.000000    55.00000  1024.000000     8.000000   \n",
       "max        635.000000   599.000000  1153.00000  4962.000000   121.000000   \n",
       "\n",
       "           TaxiOut  CarrierDelay  WeatherDelay     NASDelay  SecurityDelay  \\\n",
       "count  2000.000000   2000.000000   2000.000000  2000.000000    2000.000000   \n",
       "mean     18.148616     18.334751      3.687639    16.618508       0.149778   \n",
       "std      13.725838     34.898253     15.250171    31.772982       3.022160   \n",
       "min       3.000000      0.000000      0.000000     0.000000       0.000000   \n",
       "25%      10.000000      0.000000      0.000000     0.000000       0.000000   \n",
       "50%      14.000000     19.179399      0.000000    15.021635       0.000000   \n",
       "75%      21.000000     19.179399      3.703571    15.021635       0.090137   \n",
       "max     173.000000    865.000000    316.000000   437.000000     126.000000   \n",
       "\n",
       "       LateAircraftDelay     ArrDelay  \n",
       "count        2000.000000  2000.000000  \n",
       "mean           26.133874    44.550199  \n",
       "std            36.896660    60.926511  \n",
       "min             0.000000   -44.000000  \n",
       "25%             0.000000     9.750000  \n",
       "50%            25.296466    26.000000  \n",
       "75%            25.296466    58.000000  \n",
       "max           470.000000  1129.000000  "
      ]
     },
     "execution_count": 27,
     "metadata": {},
     "output_type": "execute_result"
    }
   ],
   "source": [
    "retards2_df.describe()"
   ]
  },
  {
   "cell_type": "markdown",
   "metadata": {},
   "source": [
    "+ *Comprovo que el shape de \"X\" i de \"y\", ha quedat correctament*"
   ]
  },
  {
   "cell_type": "markdown",
   "metadata": {},
   "source": [
    "+ *Divideixo el Data Set en \"X\" (variables independents) i \"y\" (variable dependent)*\n",
    "\n",
    "+ *I Comprovo que el shape de \"X\" i de \"y\", ha quedat correctament*"
   ]
  },
  {
   "cell_type": "code",
   "execution_count": 28,
   "metadata": {},
   "outputs": [],
   "source": [
    "X = retards2_df.drop(\"ArrDelay\", 1)\n",
    "y = retards2_df[\"ArrDelay\"]"
   ]
  },
  {
   "cell_type": "code",
   "execution_count": 29,
   "metadata": {
    "scrolled": true
   },
   "outputs": [
    {
     "data": {
      "text/plain": [
       "(2000, 16)"
      ]
     },
     "execution_count": 29,
     "metadata": {},
     "output_type": "execute_result"
    }
   ],
   "source": [
    "X.shape"
   ]
  },
  {
   "cell_type": "code",
   "execution_count": 30,
   "metadata": {},
   "outputs": [
    {
     "data": {
      "text/plain": [
       "pandas.core.frame.DataFrame"
      ]
     },
     "execution_count": 30,
     "metadata": {},
     "output_type": "execute_result"
    }
   ],
   "source": [
    "type(X)"
   ]
  },
  {
   "cell_type": "code",
   "execution_count": 31,
   "metadata": {
    "scrolled": true
   },
   "outputs": [
    {
     "data": {
      "text/plain": [
       "(2000,)"
      ]
     },
     "execution_count": 31,
     "metadata": {},
     "output_type": "execute_result"
    }
   ],
   "source": [
    "y.shape"
   ]
  },
  {
   "cell_type": "code",
   "execution_count": 32,
   "metadata": {
    "scrolled": true
   },
   "outputs": [
    {
     "data": {
      "text/plain": [
       "pandas.core.series.Series"
      ]
     },
     "execution_count": 32,
     "metadata": {},
     "output_type": "execute_result"
    }
   ],
   "source": [
    "type(y)"
   ]
  },
  {
   "cell_type": "markdown",
   "metadata": {},
   "source": [
    "### a.1) OPCIÓ AMB MULTILINEAR REGRESSION - AMB TOTES LES DADES"
   ]
  },
  {
   "cell_type": "code",
   "execution_count": 34,
   "metadata": {},
   "outputs": [],
   "source": [
    "from sklearn.linear_model import LinearRegression"
   ]
  },
  {
   "cell_type": "markdown",
   "metadata": {},
   "source": [
    "+ *Definim el model de regressió*"
   ]
  },
  {
   "cell_type": "code",
   "execution_count": 35,
   "metadata": {},
   "outputs": [],
   "source": [
    "model = LinearRegression().fit(X, y)"
   ]
  },
  {
   "cell_type": "markdown",
   "metadata": {},
   "source": [
    "+ *L'entrenem amb \".fit\" sobre les variables independents*"
   ]
  },
  {
   "cell_type": "markdown",
   "metadata": {},
   "source": [
    "+ *Obtenim R2 - coeficient de determinació*"
   ]
  },
  {
   "cell_type": "code",
   "execution_count": 36,
   "metadata": {},
   "outputs": [
    {
     "name": "stdout",
     "output_type": "stream",
     "text": [
      "coefficient of determination: 0.9939342128701782\n"
     ]
    }
   ],
   "source": [
    "r_sq = model.score(X, y)\n",
    "print('coefficient of determination:', r_sq)"
   ]
  },
  {
   "cell_type": "markdown",
   "metadata": {},
   "source": [
    "+ *Fem una predicció amb \".predict(X)\" - on X = variables independents -*"
   ]
  },
  {
   "cell_type": "code",
   "execution_count": 37,
   "metadata": {},
   "outputs": [
    {
     "name": "stdout",
     "output_type": "stream",
     "text": [
      "[ 27.35587026  -4.31769317  72.49846559 ...  71.52473581 274.18715038\n",
      "  26.10304119]\n"
     ]
    }
   ],
   "source": [
    "y_predict = model.predict(X)\n",
    "print(y_predict)"
   ]
  },
  {
   "cell_type": "markdown",
   "metadata": {},
   "source": [
    "+ *Els valors reals del data set per \"ArrDelay\" són [ 28.0,  -7.0,  73.0, ...  72.0, 274.0,  28.0]*\n",
    "\n",
    "  *D'acord amb R2 = 0.9940, podem veure con s'apropa el model quan fa la seva predicció, als valors reals que tenim*"
   ]
  },
  {
   "cell_type": "markdown",
   "metadata": {},
   "source": [
    "+ *Importo \"mean_squared_error\" per utilitzar-lo*"
   ]
  },
  {
   "cell_type": "code",
   "execution_count": 38,
   "metadata": {},
   "outputs": [],
   "source": [
    "from sklearn.metrics import mean_squared_error"
   ]
  },
  {
   "cell_type": "code",
   "execution_count": 39,
   "metadata": {},
   "outputs": [
    {
     "name": "stdout",
     "output_type": "stream",
     "text": [
      "MSE = 22.50518467751974\n"
     ]
    }
   ],
   "source": [
    "print('MSE = {}'.format (mean_squared_error(y, y_predict)))"
   ]
  },
  {
   "cell_type": "markdown",
   "metadata": {},
   "source": [
    "+ *Hem obtingut un MSE de 22.50*"
   ]
  },
  {
   "cell_type": "markdown",
   "metadata": {},
   "source": [
    "+ *I per últim obtenim \"intercept\" i els \"coefficients\" de vcada variable independen de l'equació de regressió.*"
   ]
  },
  {
   "cell_type": "code",
   "execution_count": 40,
   "metadata": {},
   "outputs": [
    {
     "name": "stdout",
     "output_type": "stream",
     "text": [
      "intercept: -1.4690977931443427\n",
      "coefficients: [-4.86417823e-02  1.68501795e-02 -1.64339344e-02  6.55058004e-05\n",
      "  3.36204698e-04 -9.22905582e-01  8.90147380e-01  9.80383094e-01\n",
      "  3.88340440e-03  9.84537603e-01  9.85981538e-01  1.71201039e-02\n",
      "  1.71252738e-02  2.40504687e-02  2.24576580e-02  1.83776300e-02]\n"
     ]
    }
   ],
   "source": [
    "print('intercept:', model.intercept_)\n",
    "print('coefficients:', model.coef_)"
   ]
  },
  {
   "cell_type": "markdown",
   "metadata": {},
   "source": [
    "### a.2) OPCIÓ AMB STATS MODELS - AMB TOTES LES DADES - (alternativa al model anterior.)"
   ]
  },
  {
   "cell_type": "code",
   "execution_count": 41,
   "metadata": {},
   "outputs": [],
   "source": [
    "import statsmodels.api as sm"
   ]
  },
  {
   "cell_type": "code",
   "execution_count": 42,
   "metadata": {},
   "outputs": [],
   "source": [
    "X = sm.add_constant(X)"
   ]
  },
  {
   "cell_type": "code",
   "execution_count": 43,
   "metadata": {},
   "outputs": [],
   "source": [
    "model = sm.OLS(y, X)"
   ]
  },
  {
   "cell_type": "code",
   "execution_count": 44,
   "metadata": {},
   "outputs": [],
   "source": [
    "results = model.fit()"
   ]
  },
  {
   "cell_type": "code",
   "execution_count": 45,
   "metadata": {},
   "outputs": [
    {
     "name": "stdout",
     "output_type": "stream",
     "text": [
      "                            OLS Regression Results                            \n",
      "==============================================================================\n",
      "Dep. Variable:               ArrDelay   R-squared:                       0.994\n",
      "Model:                            OLS   Adj. R-squared:                  0.994\n",
      "Method:                 Least Squares   F-statistic:                 2.031e+04\n",
      "Date:                Wed, 30 Jun 2021   Prob (F-statistic):               0.00\n",
      "Time:                        21:28:04   Log-Likelihood:                -5951.6\n",
      "No. Observations:                2000   AIC:                         1.194e+04\n",
      "Df Residuals:                    1983   BIC:                         1.203e+04\n",
      "Df Model:                          16                                         \n",
      "Covariance Type:            nonrobust                                         \n",
      "=====================================================================================\n",
      "                        coef    std err          t      P>|t|      [0.025      0.975]\n",
      "-------------------------------------------------------------------------------------\n",
      "const                -1.4691      0.553     -2.655      0.008      -2.554      -0.384\n",
      "Month                -0.0486      0.031     -1.594      0.111      -0.108       0.011\n",
      "DayofMonth            0.0169      0.012      1.384      0.166      -0.007       0.041\n",
      "DayOfWeek            -0.0164      0.054     -0.306      0.759      -0.122       0.089\n",
      "FlightNum          6.551e-05   5.95e-05      1.100      0.271   -5.13e-05       0.000\n",
      "ActualElapsedTime     0.0003      0.001      0.350      0.727      -0.002       0.002\n",
      "CRSElapsedTime       -0.9229      0.010    -88.682      0.000      -0.943      -0.902\n",
      "AirTime               0.8901      0.009    100.739      0.000       0.873       0.907\n",
      "DepDelay              0.9804      0.004    240.216      0.000       0.972       0.988\n",
      "Distance              0.0039      0.001      3.500      0.000       0.002       0.006\n",
      "TaxiIn                0.9845      0.018     53.441      0.000       0.948       1.021\n",
      "TaxiOut               0.9860      0.009    109.492      0.000       0.968       1.004\n",
      "CarrierDelay          0.0171      0.005      3.327      0.001       0.007       0.027\n",
      "WeatherDelay          0.0171      0.008      2.131      0.033       0.001       0.033\n",
      "NASDelay              0.0241      0.005      4.607      0.000       0.014       0.034\n",
      "SecurityDelay         0.0225      0.036      0.629      0.529      -0.048       0.092\n",
      "LateAircraftDelay     0.0184      0.005      3.595      0.000       0.008       0.028\n",
      "==============================================================================\n",
      "Omnibus:                     1395.864   Durbin-Watson:                   1.991\n",
      "Prob(Omnibus):                  0.000   Jarque-Bera (JB):         10330967.818\n",
      "Skew:                          -1.464   Prob(JB):                         0.00\n",
      "Kurtosis:                     355.084   Cond. No.                     1.53e+04\n",
      "==============================================================================\n",
      "\n",
      "Notes:\n",
      "[1] Standard Errors assume that the covariance matrix of the errors is correctly specified.\n",
      "[2] The condition number is large, 1.53e+04. This might indicate that there are\n",
      "strong multicollinearity or other numerical problems.\n"
     ]
    }
   ],
   "source": [
    " print(results.summary())"
   ]
  },
  {
   "cell_type": "markdown",
   "metadata": {},
   "source": [
    "+ *Veiem en el quadre del summary que R2 = 0.994*\n",
    "\n",
    "  *Però el calculem amb el mètode que inclou el mòdul statsmodels.api*"
   ]
  },
  {
   "cell_type": "code",
   "execution_count": 46,
   "metadata": {},
   "outputs": [
    {
     "name": "stdout",
     "output_type": "stream",
     "text": [
      "R2 = 0.9939342128701782\n"
     ]
    }
   ],
   "source": [
    "print('R2 = {}'.format (results.rsquared))"
   ]
  },
  {
   "cell_type": "markdown",
   "metadata": {},
   "source": [
    "+ *I veiem que és exactament igual a l'obtingut amb Multilinear Regression*"
   ]
  },
  {
   "cell_type": "markdown",
   "metadata": {},
   "source": [
    "+ *Fem la predicció amb el model definit*"
   ]
  },
  {
   "cell_type": "code",
   "execution_count": 47,
   "metadata": {},
   "outputs": [],
   "source": [
    "predictions = results.predict()"
   ]
  },
  {
   "cell_type": "code",
   "execution_count": 48,
   "metadata": {},
   "outputs": [
    {
     "data": {
      "text/plain": [
       "array([ 27.35587026,  -4.31769317,  72.49846559, ...,  71.52473581,\n",
       "       274.18715038,  26.10304119])"
      ]
     },
     "execution_count": 48,
     "metadata": {},
     "output_type": "execute_result"
    }
   ],
   "source": [
    "predictions"
   ]
  },
  {
   "cell_type": "markdown",
   "metadata": {},
   "source": [
    "+ *Els valors reals del data set per \"ArrDelay\" són [ 28.  -7.  73. ...  72. 274.  28.]*\n",
    "\n",
    "  *D'acord amb R2 = 0.9940, podem veure con s'apropa el model quan fa la seva predicció, als valors reals que tenim*"
   ]
  },
  {
   "cell_type": "code",
   "execution_count": 49,
   "metadata": {},
   "outputs": [
    {
     "data": {
      "text/plain": [
       "22.505184677519747"
      ]
     },
     "execution_count": 49,
     "metadata": {},
     "output_type": "execute_result"
    }
   ],
   "source": [
    "sm.tools.eval_measures.mse(y, predictions, axis=0)"
   ]
  },
  {
   "cell_type": "markdown",
   "metadata": {},
   "source": [
    "+ *Veiem que el MSE és el mateix que hem obtingut amb Multilinear Regression*"
   ]
  },
  {
   "cell_type": "markdown",
   "metadata": {},
   "source": [
    "### b) OPCIÓ AMB POLYNOMIAL FEATURES - AMB TOTES LES DADES"
   ]
  },
  {
   "cell_type": "code",
   "execution_count": 50,
   "metadata": {},
   "outputs": [],
   "source": [
    "from sklearn.preprocessing import PolynomialFeatures"
   ]
  },
  {
   "cell_type": "markdown",
   "metadata": {},
   "source": [
    "+ *Fixem el grau = 2, de la funció polinòmica de regressió (encara que és el valor del paràmetre degree per Default)*"
   ]
  },
  {
   "cell_type": "code",
   "execution_count": 51,
   "metadata": {},
   "outputs": [],
   "source": [
    "poly_reg = PolynomialFeatures(degree=2)"
   ]
  },
  {
   "cell_type": "code",
   "execution_count": 52,
   "metadata": {},
   "outputs": [
    {
     "data": {
      "text/plain": [
       "PolynomialFeatures()"
      ]
     },
     "execution_count": 52,
     "metadata": {},
     "output_type": "execute_result"
    }
   ],
   "source": [
    "poly_reg.fit(X)"
   ]
  },
  {
   "cell_type": "markdown",
   "metadata": {},
   "source": [
    "+ *I apliquem \".transform()\" per transformar les dades*"
   ]
  },
  {
   "cell_type": "code",
   "execution_count": 53,
   "metadata": {},
   "outputs": [],
   "source": [
    "X_poly = poly_reg.transform(X)"
   ]
  },
  {
   "cell_type": "code",
   "execution_count": 54,
   "metadata": {},
   "outputs": [
    {
     "data": {
      "text/plain": [
       "numpy.ndarray"
      ]
     },
     "execution_count": 54,
     "metadata": {},
     "output_type": "execute_result"
    }
   ],
   "source": [
    "type(X_poly)"
   ]
  },
  {
   "cell_type": "code",
   "execution_count": 56,
   "metadata": {},
   "outputs": [
    {
     "data": {
      "text/plain": [
       "array([[1.00000000e+00, 1.00000000e+00, 4.00000000e+00, ...,\n",
       "        0.00000000e+00, 0.00000000e+00, 1.96000000e+02],\n",
       "       [1.00000000e+00, 1.00000000e+00, 5.00000000e+00, ...,\n",
       "        8.12470393e-03, 2.28015110e+00, 6.39911201e+02],\n",
       "       [1.00000000e+00, 1.00000000e+00, 1.00000000e+00, ...,\n",
       "        0.00000000e+00, 0.00000000e+00, 0.00000000e+00],\n",
       "       ...,\n",
       "       [1.00000000e+00, 1.00000000e+00, 4.00000000e+00, ...,\n",
       "        0.00000000e+00, 0.00000000e+00, 5.18400000e+03],\n",
       "       [1.00000000e+00, 1.00000000e+00, 2.00000000e+00, ...,\n",
       "        0.00000000e+00, 0.00000000e+00, 4.45210000e+04],\n",
       "       [1.00000000e+00, 1.00000000e+00, 1.10000000e+01, ...,\n",
       "        0.00000000e+00, 0.00000000e+00, 6.76000000e+02]])"
      ]
     },
     "execution_count": 56,
     "metadata": {},
     "output_type": "execute_result"
    }
   ],
   "source": [
    "X_poly"
   ]
  },
  {
   "cell_type": "code",
   "execution_count": 64,
   "metadata": {},
   "outputs": [
    {
     "data": {
      "text/plain": [
       "2000"
      ]
     },
     "execution_count": 64,
     "metadata": {},
     "output_type": "execute_result"
    }
   ],
   "source": [
    "len(X_poly)"
   ]
  },
  {
   "cell_type": "code",
   "execution_count": 57,
   "metadata": {},
   "outputs": [
    {
     "data": {
      "text/plain": [
       "pandas.core.series.Series"
      ]
     },
     "execution_count": 57,
     "metadata": {},
     "output_type": "execute_result"
    }
   ],
   "source": [
    "type(y)"
   ]
  },
  {
   "cell_type": "code",
   "execution_count": 58,
   "metadata": {},
   "outputs": [],
   "source": [
    "model = LinearRegression()"
   ]
  },
  {
   "cell_type": "code",
   "execution_count": 59,
   "metadata": {},
   "outputs": [
    {
     "data": {
      "text/plain": [
       "LinearRegression()"
      ]
     },
     "execution_count": 59,
     "metadata": {},
     "output_type": "execute_result"
    }
   ],
   "source": [
    "model.fit(X_poly, y)"
   ]
  },
  {
   "cell_type": "code",
   "execution_count": 60,
   "metadata": {},
   "outputs": [
    {
     "name": "stdout",
     "output_type": "stream",
     "text": [
      "coefficient of determination: 0.9999999845768733\n"
     ]
    }
   ],
   "source": [
    "r_sq = model.score(X_poly, y)\n",
    "print('coefficient of determination:', r_sq)"
   ]
  },
  {
   "cell_type": "code",
   "execution_count": 61,
   "metadata": {},
   "outputs": [
    {
     "name": "stdout",
     "output_type": "stream",
     "text": [
      "[ 27.99968696  -6.98310542  73.00294066 ...  72.00023298 273.99945955\n",
      "  28.00283237]\n"
     ]
    }
   ],
   "source": [
    "y_predict = model.predict(X_poly)\n",
    "print(y_predict)"
   ]
  },
  {
   "cell_type": "markdown",
   "metadata": {},
   "source": [
    "+ *Els valors reals del data set per \"ArrDelay\" són [ 28.  -7.  73. ...  72. 274.  28.]*\n",
    "\n",
    "  *D'acord amb R2 = 9,999999 podem veure com el model encerta quasi perfectament quan fa la seva predicció, els valors reals que tenim*"
   ]
  },
  {
   "cell_type": "code",
   "execution_count": 62,
   "metadata": {},
   "outputs": [
    {
     "name": "stdout",
     "output_type": "stream",
     "text": [
      "MSE = 5.722263363604194e-05\n"
     ]
    }
   ],
   "source": [
    "print('MSE = {}'.format (mean_squared_error(y, y_predict)))"
   ]
  },
  {
   "cell_type": "markdown",
   "metadata": {},
   "source": [
    "+ *+ *I en consequència, obtenim un MSE quasi igual a zero = 5.722263363604194e-05*"
   ]
  },
  {
   "cell_type": "code",
   "execution_count": 63,
   "metadata": {},
   "outputs": [
    {
     "name": "stdout",
     "output_type": "stream",
     "text": [
      "intercept: 0.0024156391464487115\n",
      "coefficients: [ 1.73249908e-09  6.11715355e-09  9.85326389e-05 -6.19279609e-05\n",
      " -3.10630896e-04 -3.44609491e-07  2.83006544e-01 -3.77372099e-01\n",
      "  9.44927199e-02  3.77290671e-01 -1.55994175e-05  9.42190778e-02\n",
      "  9.42957061e-02  1.22724573e-01  1.22703726e-01  1.22687872e-01\n",
      "  5.40100446e-01  1.22712697e-01  1.53734794e-11  9.85315672e-05\n",
      " -6.19292967e-05 -3.10631267e-04 -3.45127776e-07  2.83006545e-01\n",
      " -3.77372099e-01  9.44927198e-02  3.77290671e-01 -1.55994093e-05\n",
      "  9.42190777e-02  9.42957061e-02  1.22724572e-01  1.22703726e-01\n",
      "  1.22687872e-01  5.40100446e-01  1.22712697e-01 -2.74111129e-06\n",
      "  5.65896813e-06  4.80195014e-05  1.58492795e-08  1.15792186e-04\n",
      "  1.64705320e-04 -2.84327739e-04 -1.76513595e-04  4.21720045e-07\n",
      " -2.86899723e-04 -2.95340226e-04  1.76516066e-04  1.78455789e-04\n",
      "  1.76032731e-04 -1.19378614e-01  1.77017592e-04  2.83120786e-06\n",
      "  2.72333086e-06  5.65982898e-09  4.87309786e-05  6.01287259e-05\n",
      " -1.11474552e-04 -6.37882287e-05  3.10209622e-07 -1.10879393e-04\n",
      " -1.06366039e-04  6.40670460e-05  6.33113758e-05  6.33620813e-05\n",
      " -4.00690321e-02  6.39436981e-05  2.95872090e-05  1.83407360e-09\n",
      " -2.55941173e-04 -2.36040167e-04  4.82987027e-04  2.59941961e-04\n",
      "  9.87439572e-07  4.75718127e-04  5.04443689e-04 -2.61628318e-04\n",
      " -2.55544392e-04 -2.55532780e-04  1.68541483e-01 -2.60045352e-04\n",
      " -3.10628962e-11  3.32321848e-07  9.36596926e-08 -4.17106532e-07\n",
      " -7.05633516e-08 -1.24491854e-09 -4.23116606e-07 -3.96038670e-07\n",
      "  6.84795007e-08  6.85757833e-08  7.32174257e-08 -4.01386101e-05\n",
      "  7.05996818e-08 -4.97511620e-04  7.04407104e-04  4.61284027e-04\n",
      " -6.76674480e-04 -2.77530072e-06  7.51714490e-04 -1.66186989e-04\n",
      "  1.44272017e-04  4.60647102e-02  1.93447276e-03  3.90557950e-02\n",
      " -8.54221391e-04  5.53042903e-06 -7.12295190e-04 -6.11633175e-05\n",
      " -2.93759865e-07 -8.47734387e-04 -6.20097828e-04 -2.14106603e-04\n",
      " -6.14370435e-02 -2.59814682e-03 -4.20135718e-02  1.11549156e-03\n",
      "  3.65781215e-05  7.30188232e-04  3.58823228e-06 -7.61852813e-05\n",
      "  6.04742439e-04  7.74194616e-05  1.53804403e-02  6.71228067e-04\n",
      " -3.74534024e-03 -2.53512910e-04  5.88015496e-05  8.68953741e-07\n",
      "  8.81080016e-04  6.48145107e-04  1.57875104e-04  6.13796221e-02\n",
      "  2.54333981e-03  7.29872407e-02 -1.17201545e-03 -3.35043415e-08\n",
      "  2.94950874e-06  4.04875810e-06 -8.77051630e-07 -9.04215040e-07\n",
      " -8.79713190e-07  7.77723119e-04 -8.83049304e-07 -1.08760110e-04\n",
      "  4.65730208e-04 -7.38928617e-05  1.52271490e-02  5.22491668e-04\n",
      "  9.69728227e-02 -4.04623459e-04  5.76440246e-04  1.59140825e-04\n",
      "  1.54606731e-02  7.55160619e-04 -5.41716011e-02 -1.71822589e-04\n",
      " -2.16699396e-04 -6.16516220e-02 -2.81796262e-03 -6.49632838e-02\n",
      "  8.96643738e-04 -6.14383629e-02 -6.40397203e-02  3.91374180e-01\n",
      " -6.03251715e-02 -2.60216624e-03 -2.32209981e-02 -1.48903937e-03\n",
      " -3.59052615e-02 -1.13835554e-01  1.11317235e-03]\n"
     ]
    }
   ],
   "source": [
    "print('intercept:', model.intercept_)\n",
    "print('coefficients:', model.coef_)"
   ]
  },
  {
   "cell_type": "markdown",
   "metadata": {},
   "source": [
    "### c) OPCIÓ AMB DECISION TREE REGRESSION - AMB TOTES LES DADES"
   ]
  },
  {
   "cell_type": "code",
   "execution_count": 65,
   "metadata": {},
   "outputs": [],
   "source": [
    "from sklearn.tree import DecisionTreeRegressor"
   ]
  },
  {
   "cell_type": "code",
   "execution_count": 66,
   "metadata": {},
   "outputs": [],
   "source": [
    "regressor = DecisionTreeRegressor(random_state=0)"
   ]
  },
  {
   "cell_type": "code",
   "execution_count": 67,
   "metadata": {},
   "outputs": [
    {
     "data": {
      "text/plain": [
       "DecisionTreeRegressor(random_state=0)"
      ]
     },
     "execution_count": 67,
     "metadata": {},
     "output_type": "execute_result"
    }
   ],
   "source": [
    "regressor.fit(X,y)"
   ]
  },
  {
   "cell_type": "markdown",
   "metadata": {},
   "source": [
    "+ *Obtenim R2*"
   ]
  },
  {
   "cell_type": "code",
   "execution_count": 68,
   "metadata": {},
   "outputs": [
    {
     "name": "stdout",
     "output_type": "stream",
     "text": [
      "coefficient of determination: 1.0\n"
     ]
    }
   ],
   "source": [
    "r_sq = regressor.score(X, y)\n",
    "print('coefficient of determination:', r_sq)"
   ]
  },
  {
   "cell_type": "markdown",
   "metadata": {},
   "source": [
    "+ *Fem la predicció sobre X*"
   ]
  },
  {
   "cell_type": "code",
   "execution_count": 69,
   "metadata": {},
   "outputs": [
    {
     "name": "stdout",
     "output_type": "stream",
     "text": [
      "[ 28.  -7.  73. ...  72. 274.  28.]\n"
     ]
    }
   ],
   "source": [
    "y_predict =regressor.predict(X)\n",
    "print(y_predict)"
   ]
  },
  {
   "cell_type": "markdown",
   "metadata": {},
   "source": [
    "+ *Els valors reals del data set per \"ArrDelay\" són [ 28.  -7.  73. ...  72. 274.  28.]*\n",
    "\n",
    "  *D'acord amb R2 = 1.0, podem veure com el model encerta perfectament quan fa la seva predicció, els valors reals que tenim*"
   ]
  },
  {
   "cell_type": "markdown",
   "metadata": {},
   "source": [
    "+ *I obtenim el MSE*"
   ]
  },
  {
   "cell_type": "code",
   "execution_count": 70,
   "metadata": {},
   "outputs": [
    {
     "name": "stdout",
     "output_type": "stream",
     "text": [
      "MSE = 0.0\n"
     ]
    }
   ],
   "source": [
    "print('MSE = {}'.format (mean_squared_error(y, y_predict)))"
   ]
  },
  {
   "cell_type": "markdown",
   "metadata": {},
   "source": [
    "+ *I d'acord amb el R2 obtingut = 1.0; MSE = 0.0"
   ]
  },
  {
   "cell_type": "markdown",
   "metadata": {},
   "source": [
    "### RESUM COMPARACIÓ MODELS REGRESSIÓ UTILITZATS\n",
    "\n",
    "\n",
    "\n",
    "Amb tantes features (17) i amb 2000 observacions, els models de Multilinear Regression i el de \"statsmodels\" han donat mateixos resultats de R2 i MSE:\n",
    "+ coefficient of determination: 0.9939\n",
    "+ MSE = 22.50\n",
    "\n",
    "Els models anteriors han donat pitjors resultats que  els models de Linear Regression amb Polynomial Features i Decision Tree Regression que han estat respectivament:\n",
    "+ coefficient of determination: 0.9999 i  MSE =  5.722263363604194e-05\n",
    "+ coefficient of determination: 1.0 i  MSE = 0.0.\n",
    "\n",
    "El que jo entenc, és que estem davant d'un cas clar de \"overfitting\".La quantitat de features utilitzades per l'entrenament (17) i la quantitat d'observacions contemplades pels models de regressió (2000), fan que  obtinguem valors de R2 molt alts, amb multilinear regression (i Statsmodel) però probablement no ho farien tant bé amb new Data amb les que fer predicció.\n",
    "\n",
    "El mateix argument serveix per argumentar que el models Polynomial Features i Decission Tree Regression, aconsegueixen una R2 = 1 (o quasi).\n",
    "I en consequència un MSE igual o quasi zero i igual a 0.0 respectivament."
   ]
  },
  {
   "cell_type": "markdown",
   "metadata": {},
   "source": [
    "###  *Exercici 3*\n"
   ]
  },
  {
   "cell_type": "markdown",
   "metadata": {},
   "source": [
    "Entrena’ls utilitzant els diferents paràmetres que admeten"
   ]
  },
  {
   "cell_type": "code",
   "execution_count": 71,
   "metadata": {},
   "outputs": [
    {
     "data": {
      "text/html": [
       "<div>\n",
       "<style scoped>\n",
       "    .dataframe tbody tr th:only-of-type {\n",
       "        vertical-align: middle;\n",
       "    }\n",
       "\n",
       "    .dataframe tbody tr th {\n",
       "        vertical-align: top;\n",
       "    }\n",
       "\n",
       "    .dataframe thead th {\n",
       "        text-align: right;\n",
       "    }\n",
       "</style>\n",
       "<table border=\"1\" class=\"dataframe\">\n",
       "  <thead>\n",
       "    <tr style=\"text-align: right;\">\n",
       "      <th></th>\n",
       "      <th>Month</th>\n",
       "      <th>DayofMonth</th>\n",
       "      <th>DayOfWeek</th>\n",
       "      <th>FlightNum</th>\n",
       "      <th>ActualElapsedTime</th>\n",
       "      <th>CRSElapsedTime</th>\n",
       "      <th>AirTime</th>\n",
       "      <th>DepDelay</th>\n",
       "      <th>Distance</th>\n",
       "      <th>TaxiIn</th>\n",
       "      <th>TaxiOut</th>\n",
       "      <th>CarrierDelay</th>\n",
       "      <th>WeatherDelay</th>\n",
       "      <th>NASDelay</th>\n",
       "      <th>SecurityDelay</th>\n",
       "      <th>LateAircraftDelay</th>\n",
       "      <th>ArrDelay</th>\n",
       "    </tr>\n",
       "  </thead>\n",
       "  <tbody>\n",
       "    <tr>\n",
       "      <th>0</th>\n",
       "      <td>4</td>\n",
       "      <td>24</td>\n",
       "      <td>4</td>\n",
       "      <td>1456</td>\n",
       "      <td>84.0</td>\n",
       "      <td>70.0</td>\n",
       "      <td>51.0</td>\n",
       "      <td>14.0</td>\n",
       "      <td>236</td>\n",
       "      <td>7.0</td>\n",
       "      <td>26.0</td>\n",
       "      <td>0.000000</td>\n",
       "      <td>0.000000</td>\n",
       "      <td>14.000000</td>\n",
       "      <td>0.000000</td>\n",
       "      <td>14.000000</td>\n",
       "      <td>28.0</td>\n",
       "    </tr>\n",
       "    <tr>\n",
       "      <th>1</th>\n",
       "      <td>5</td>\n",
       "      <td>26</td>\n",
       "      <td>1</td>\n",
       "      <td>354</td>\n",
       "      <td>153.0</td>\n",
       "      <td>177.0</td>\n",
       "      <td>130.0</td>\n",
       "      <td>17.0</td>\n",
       "      <td>1024</td>\n",
       "      <td>5.0</td>\n",
       "      <td>18.0</td>\n",
       "      <td>19.179399</td>\n",
       "      <td>3.703571</td>\n",
       "      <td>15.021635</td>\n",
       "      <td>0.090137</td>\n",
       "      <td>25.296466</td>\n",
       "      <td>-7.0</td>\n",
       "    </tr>\n",
       "    <tr>\n",
       "      <th>2</th>\n",
       "      <td>1</td>\n",
       "      <td>28</td>\n",
       "      <td>1</td>\n",
       "      <td>3802</td>\n",
       "      <td>125.0</td>\n",
       "      <td>95.0</td>\n",
       "      <td>81.0</td>\n",
       "      <td>43.0</td>\n",
       "      <td>532</td>\n",
       "      <td>8.0</td>\n",
       "      <td>36.0</td>\n",
       "      <td>73.000000</td>\n",
       "      <td>0.000000</td>\n",
       "      <td>0.000000</td>\n",
       "      <td>0.000000</td>\n",
       "      <td>0.000000</td>\n",
       "      <td>73.0</td>\n",
       "    </tr>\n",
       "    <tr>\n",
       "      <th>3</th>\n",
       "      <td>3</td>\n",
       "      <td>8</td>\n",
       "      <td>6</td>\n",
       "      <td>1449</td>\n",
       "      <td>158.0</td>\n",
       "      <td>168.0</td>\n",
       "      <td>131.0</td>\n",
       "      <td>447.0</td>\n",
       "      <td>1024</td>\n",
       "      <td>11.0</td>\n",
       "      <td>16.0</td>\n",
       "      <td>0.000000</td>\n",
       "      <td>0.000000</td>\n",
       "      <td>437.000000</td>\n",
       "      <td>0.000000</td>\n",
       "      <td>0.000000</td>\n",
       "      <td>437.0</td>\n",
       "    </tr>\n",
       "    <tr>\n",
       "      <th>4</th>\n",
       "      <td>11</td>\n",
       "      <td>11</td>\n",
       "      <td>2</td>\n",
       "      <td>442</td>\n",
       "      <td>159.0</td>\n",
       "      <td>86.0</td>\n",
       "      <td>57.0</td>\n",
       "      <td>57.0</td>\n",
       "      <td>429</td>\n",
       "      <td>7.0</td>\n",
       "      <td>95.0</td>\n",
       "      <td>0.000000</td>\n",
       "      <td>7.000000</td>\n",
       "      <td>73.000000</td>\n",
       "      <td>0.000000</td>\n",
       "      <td>50.000000</td>\n",
       "      <td>130.0</td>\n",
       "    </tr>\n",
       "    <tr>\n",
       "      <th>...</th>\n",
       "      <td>...</td>\n",
       "      <td>...</td>\n",
       "      <td>...</td>\n",
       "      <td>...</td>\n",
       "      <td>...</td>\n",
       "      <td>...</td>\n",
       "      <td>...</td>\n",
       "      <td>...</td>\n",
       "      <td>...</td>\n",
       "      <td>...</td>\n",
       "      <td>...</td>\n",
       "      <td>...</td>\n",
       "      <td>...</td>\n",
       "      <td>...</td>\n",
       "      <td>...</td>\n",
       "      <td>...</td>\n",
       "      <td>...</td>\n",
       "    </tr>\n",
       "    <tr>\n",
       "      <th>1995</th>\n",
       "      <td>6</td>\n",
       "      <td>26</td>\n",
       "      <td>4</td>\n",
       "      <td>980</td>\n",
       "      <td>149.0</td>\n",
       "      <td>155.0</td>\n",
       "      <td>136.0</td>\n",
       "      <td>86.0</td>\n",
       "      <td>935</td>\n",
       "      <td>5.0</td>\n",
       "      <td>8.0</td>\n",
       "      <td>0.000000</td>\n",
       "      <td>0.000000</td>\n",
       "      <td>0.000000</td>\n",
       "      <td>0.000000</td>\n",
       "      <td>80.000000</td>\n",
       "      <td>80.0</td>\n",
       "    </tr>\n",
       "    <tr>\n",
       "      <th>1996</th>\n",
       "      <td>9</td>\n",
       "      <td>13</td>\n",
       "      <td>6</td>\n",
       "      <td>1144</td>\n",
       "      <td>198.0</td>\n",
       "      <td>205.0</td>\n",
       "      <td>178.0</td>\n",
       "      <td>16.0</td>\n",
       "      <td>1464</td>\n",
       "      <td>5.0</td>\n",
       "      <td>15.0</td>\n",
       "      <td>19.179399</td>\n",
       "      <td>3.703571</td>\n",
       "      <td>15.021635</td>\n",
       "      <td>0.090137</td>\n",
       "      <td>25.296466</td>\n",
       "      <td>9.0</td>\n",
       "    </tr>\n",
       "    <tr>\n",
       "      <th>1997</th>\n",
       "      <td>4</td>\n",
       "      <td>22</td>\n",
       "      <td>2</td>\n",
       "      <td>372</td>\n",
       "      <td>134.0</td>\n",
       "      <td>136.0</td>\n",
       "      <td>111.0</td>\n",
       "      <td>74.0</td>\n",
       "      <td>761</td>\n",
       "      <td>10.0</td>\n",
       "      <td>13.0</td>\n",
       "      <td>0.000000</td>\n",
       "      <td>0.000000</td>\n",
       "      <td>0.000000</td>\n",
       "      <td>0.000000</td>\n",
       "      <td>72.000000</td>\n",
       "      <td>72.0</td>\n",
       "    </tr>\n",
       "    <tr>\n",
       "      <th>1998</th>\n",
       "      <td>2</td>\n",
       "      <td>12</td>\n",
       "      <td>2</td>\n",
       "      <td>341</td>\n",
       "      <td>156.0</td>\n",
       "      <td>170.0</td>\n",
       "      <td>125.0</td>\n",
       "      <td>288.0</td>\n",
       "      <td>733</td>\n",
       "      <td>14.0</td>\n",
       "      <td>17.0</td>\n",
       "      <td>0.000000</td>\n",
       "      <td>0.000000</td>\n",
       "      <td>63.000000</td>\n",
       "      <td>0.000000</td>\n",
       "      <td>211.000000</td>\n",
       "      <td>274.0</td>\n",
       "    </tr>\n",
       "    <tr>\n",
       "      <th>1999</th>\n",
       "      <td>11</td>\n",
       "      <td>5</td>\n",
       "      <td>3</td>\n",
       "      <td>2324</td>\n",
       "      <td>57.0</td>\n",
       "      <td>55.0</td>\n",
       "      <td>45.0</td>\n",
       "      <td>26.0</td>\n",
       "      <td>197</td>\n",
       "      <td>6.0</td>\n",
       "      <td>6.0</td>\n",
       "      <td>0.000000</td>\n",
       "      <td>0.000000</td>\n",
       "      <td>2.000000</td>\n",
       "      <td>0.000000</td>\n",
       "      <td>26.000000</td>\n",
       "      <td>28.0</td>\n",
       "    </tr>\n",
       "  </tbody>\n",
       "</table>\n",
       "<p>2000 rows × 17 columns</p>\n",
       "</div>"
      ],
      "text/plain": [
       "      Month  DayofMonth  DayOfWeek  FlightNum  ActualElapsedTime  \\\n",
       "0         4          24          4       1456               84.0   \n",
       "1         5          26          1        354              153.0   \n",
       "2         1          28          1       3802              125.0   \n",
       "3         3           8          6       1449              158.0   \n",
       "4        11          11          2        442              159.0   \n",
       "...     ...         ...        ...        ...                ...   \n",
       "1995      6          26          4        980              149.0   \n",
       "1996      9          13          6       1144              198.0   \n",
       "1997      4          22          2        372              134.0   \n",
       "1998      2          12          2        341              156.0   \n",
       "1999     11           5          3       2324               57.0   \n",
       "\n",
       "      CRSElapsedTime  AirTime  DepDelay  Distance  TaxiIn  TaxiOut  \\\n",
       "0               70.0     51.0      14.0       236     7.0     26.0   \n",
       "1              177.0    130.0      17.0      1024     5.0     18.0   \n",
       "2               95.0     81.0      43.0       532     8.0     36.0   \n",
       "3              168.0    131.0     447.0      1024    11.0     16.0   \n",
       "4               86.0     57.0      57.0       429     7.0     95.0   \n",
       "...              ...      ...       ...       ...     ...      ...   \n",
       "1995           155.0    136.0      86.0       935     5.0      8.0   \n",
       "1996           205.0    178.0      16.0      1464     5.0     15.0   \n",
       "1997           136.0    111.0      74.0       761    10.0     13.0   \n",
       "1998           170.0    125.0     288.0       733    14.0     17.0   \n",
       "1999            55.0     45.0      26.0       197     6.0      6.0   \n",
       "\n",
       "      CarrierDelay  WeatherDelay    NASDelay  SecurityDelay  \\\n",
       "0         0.000000      0.000000   14.000000       0.000000   \n",
       "1        19.179399      3.703571   15.021635       0.090137   \n",
       "2        73.000000      0.000000    0.000000       0.000000   \n",
       "3         0.000000      0.000000  437.000000       0.000000   \n",
       "4         0.000000      7.000000   73.000000       0.000000   \n",
       "...            ...           ...         ...            ...   \n",
       "1995      0.000000      0.000000    0.000000       0.000000   \n",
       "1996     19.179399      3.703571   15.021635       0.090137   \n",
       "1997      0.000000      0.000000    0.000000       0.000000   \n",
       "1998      0.000000      0.000000   63.000000       0.000000   \n",
       "1999      0.000000      0.000000    2.000000       0.000000   \n",
       "\n",
       "      LateAircraftDelay  ArrDelay  \n",
       "0             14.000000      28.0  \n",
       "1             25.296466      -7.0  \n",
       "2              0.000000      73.0  \n",
       "3              0.000000     437.0  \n",
       "4             50.000000     130.0  \n",
       "...                 ...       ...  \n",
       "1995          80.000000      80.0  \n",
       "1996          25.296466       9.0  \n",
       "1997          72.000000      72.0  \n",
       "1998         211.000000     274.0  \n",
       "1999          26.000000      28.0  \n",
       "\n",
       "[2000 rows x 17 columns]"
      ]
     },
     "execution_count": 71,
     "metadata": {},
     "output_type": "execute_result"
    }
   ],
   "source": [
    "retards2_df"
   ]
  },
  {
   "cell_type": "code",
   "execution_count": 72,
   "metadata": {},
   "outputs": [
    {
     "data": {
      "text/plain": [
       "Index(['Month', 'DayofMonth', 'DayOfWeek', 'FlightNum', 'ActualElapsedTime',\n",
       "       'CRSElapsedTime', 'AirTime', 'DepDelay', 'Distance', 'TaxiIn',\n",
       "       'TaxiOut', 'CarrierDelay', 'WeatherDelay', 'NASDelay', 'SecurityDelay',\n",
       "       'LateAircraftDelay', 'ArrDelay'],\n",
       "      dtype='object')"
      ]
     },
     "execution_count": 72,
     "metadata": {},
     "output_type": "execute_result"
    }
   ],
   "source": [
    "retards2_df.columns"
   ]
  },
  {
   "cell_type": "markdown",
   "metadata": {},
   "source": [
    "+ *Divideixo el Data set  en X = variables independents i y = variable dependent o target*"
   ]
  },
  {
   "cell_type": "code",
   "execution_count": 74,
   "metadata": {},
   "outputs": [],
   "source": [
    "X = retards2_df.drop(\"ArrDelay\", 1)\n",
    "y = retards2_df[\"ArrDelay\"]"
   ]
  },
  {
   "cell_type": "markdown",
   "metadata": {},
   "source": [
    "+ *Comprovo que el shape de \"X\" i de \"y\", ha quedat correctament*"
   ]
  },
  {
   "cell_type": "code",
   "execution_count": 75,
   "metadata": {
    "scrolled": true
   },
   "outputs": [
    {
     "data": {
      "text/plain": [
       "(2000, 16)"
      ]
     },
     "execution_count": 75,
     "metadata": {},
     "output_type": "execute_result"
    }
   ],
   "source": [
    "X.shape"
   ]
  },
  {
   "cell_type": "markdown",
   "metadata": {},
   "source": [
    "X = np.array(X)"
   ]
  },
  {
   "cell_type": "code",
   "execution_count": 76,
   "metadata": {},
   "outputs": [
    {
     "data": {
      "text/plain": [
       "pandas.core.frame.DataFrame"
      ]
     },
     "execution_count": 76,
     "metadata": {},
     "output_type": "execute_result"
    }
   ],
   "source": [
    "type(X)"
   ]
  },
  {
   "cell_type": "code",
   "execution_count": 78,
   "metadata": {
    "scrolled": true
   },
   "outputs": [
    {
     "data": {
      "text/plain": [
       "(2000,)"
      ]
     },
     "execution_count": 78,
     "metadata": {},
     "output_type": "execute_result"
    }
   ],
   "source": [
    "y.shape"
   ]
  },
  {
   "cell_type": "code",
   "execution_count": 79,
   "metadata": {
    "scrolled": true
   },
   "outputs": [
    {
     "data": {
      "text/plain": [
       "pandas.core.series.Series"
      ]
     },
     "execution_count": 79,
     "metadata": {},
     "output_type": "execute_result"
    }
   ],
   "source": [
    "type(y)"
   ]
  },
  {
   "cell_type": "markdown",
   "metadata": {},
   "source": [
    "### 1.A- MULTILINEAR REGRESSION amb fit_intercept=False"
   ]
  },
  {
   "cell_type": "code",
   "execution_count": 80,
   "metadata": {},
   "outputs": [],
   "source": [
    "from sklearn.linear_model import LinearRegression"
   ]
  },
  {
   "cell_type": "markdown",
   "metadata": {},
   "source": [
    "+ *Definim el model de regressió*"
   ]
  },
  {
   "cell_type": "code",
   "execution_count": 81,
   "metadata": {},
   "outputs": [],
   "source": [
    "model = LinearRegression(fit_intercept = False)"
   ]
  },
  {
   "cell_type": "markdown",
   "metadata": {},
   "source": [
    "+ *L'entrenem amb \".fit\" sobre les variables independents*"
   ]
  },
  {
   "cell_type": "code",
   "execution_count": 82,
   "metadata": {},
   "outputs": [
    {
     "data": {
      "text/plain": [
       "LinearRegression(fit_intercept=False)"
      ]
     },
     "execution_count": 82,
     "metadata": {},
     "output_type": "execute_result"
    }
   ],
   "source": [
    "model.fit(X, y)"
   ]
  },
  {
   "cell_type": "markdown",
   "metadata": {},
   "source": [
    "+ *Obtenim R2 - coeficient de determinació*"
   ]
  },
  {
   "cell_type": "code",
   "execution_count": 83,
   "metadata": {},
   "outputs": [
    {
     "name": "stdout",
     "output_type": "stream",
     "text": [
      "coefficient of determination: 0.9939126461429176\n"
     ]
    }
   ],
   "source": [
    "r_sq = model.score(X, y)\n",
    "print('coefficient of determination:', r_sq)"
   ]
  },
  {
   "cell_type": "markdown",
   "metadata": {},
   "source": [
    "+ *Fem una predicció amb \".predict(X)\" - on X = variables independents -*"
   ]
  },
  {
   "cell_type": "code",
   "execution_count": 84,
   "metadata": {},
   "outputs": [
    {
     "name": "stdout",
     "output_type": "stream",
     "text": [
      "[ 27.53387754  -4.33890984  72.7740393  ...  71.73426499 273.93348847\n",
      "  26.50184589]\n"
     ]
    }
   ],
   "source": [
    "y_predict = model.predict(X)\n",
    "print(y_predict)"
   ]
  },
  {
   "cell_type": "markdown",
   "metadata": {},
   "source": [
    "+ *Els valors reals del data set per \"ArrDelay\" són [ 28.  -7.  73. ...  72. 274.  28.]*\n",
    "\n",
    "  *D'acord amb R2 = 0.9449, podem veure con s'apropa el model quan fa la seva predicció, als valors reals que tenim*"
   ]
  },
  {
   "cell_type": "markdown",
   "metadata": {},
   "source": [
    "+ *Importo \"mean_squared_error\" per utilitzar-lo*"
   ]
  },
  {
   "cell_type": "code",
   "execution_count": 85,
   "metadata": {},
   "outputs": [],
   "source": [
    "from sklearn.metrics import mean_squared_error"
   ]
  },
  {
   "cell_type": "code",
   "execution_count": 86,
   "metadata": {},
   "outputs": [
    {
     "name": "stdout",
     "output_type": "stream",
     "text": [
      "MSE = 22.58520119796513\n"
     ]
    }
   ],
   "source": [
    "print('MSE = {}'.format (mean_squared_error(y, y_predict)))"
   ]
  },
  {
   "cell_type": "markdown",
   "metadata": {},
   "source": [
    "+ *Hem obtingut un MSE de 22.58520119796513*"
   ]
  },
  {
   "cell_type": "code",
   "execution_count": 87,
   "metadata": {},
   "outputs": [
    {
     "name": "stdout",
     "output_type": "stream",
     "text": [
      "intercept: 0.0\n",
      "coefficients: [-7.25254927e-02  5.95973375e-03 -7.55610068e-02  1.94476155e-05\n",
      "  3.80421666e-04 -9.36196374e-01  8.91829496e-01  9.82408633e-01\n",
      "  5.14001231e-03  9.80213280e-01  9.85546116e-01  1.41753824e-02\n",
      "  1.46708431e-02  2.20439376e-02  2.23465126e-02  1.51635578e-02]\n"
     ]
    }
   ],
   "source": [
    "print('intercept:', model.intercept_)\n",
    "print('coefficients:', model.coef_)"
   ]
  },
  {
   "cell_type": "markdown",
   "metadata": {},
   "source": [
    "+ *__Observem com ara \"intercept = 0\" tal com fixa el paràmetre opcional utilitzat, (fit_intercept=False)__*"
   ]
  },
  {
   "cell_type": "markdown",
   "metadata": {},
   "source": [
    "### 1.B- MULTILINEAR REGRESSION amb normalize = True"
   ]
  },
  {
   "cell_type": "code",
   "execution_count": 88,
   "metadata": {},
   "outputs": [],
   "source": [
    "from sklearn.linear_model import LinearRegression"
   ]
  },
  {
   "cell_type": "markdown",
   "metadata": {},
   "source": [
    "+ *Definim el model de regressió*"
   ]
  },
  {
   "cell_type": "code",
   "execution_count": 89,
   "metadata": {},
   "outputs": [],
   "source": [
    "model = LinearRegression(normalize = True)"
   ]
  },
  {
   "cell_type": "markdown",
   "metadata": {},
   "source": [
    "+ *L'entrenem amb \".fit\" sobre les variables independents*"
   ]
  },
  {
   "cell_type": "code",
   "execution_count": 90,
   "metadata": {},
   "outputs": [
    {
     "data": {
      "text/plain": [
       "LinearRegression(normalize=True)"
      ]
     },
     "execution_count": 90,
     "metadata": {},
     "output_type": "execute_result"
    }
   ],
   "source": [
    "model.fit(X, y)"
   ]
  },
  {
   "cell_type": "markdown",
   "metadata": {},
   "source": [
    "+ *Obtenim R2 - coeficient de determinació*"
   ]
  },
  {
   "cell_type": "code",
   "execution_count": 91,
   "metadata": {},
   "outputs": [
    {
     "name": "stdout",
     "output_type": "stream",
     "text": [
      "coefficient of determination: 0.9939342128701782\n"
     ]
    }
   ],
   "source": [
    "r_sq = model.score(X, y)\n",
    "print('coefficient of determination:', r_sq)"
   ]
  },
  {
   "cell_type": "markdown",
   "metadata": {},
   "source": [
    "+ *Fem una predicció amb \".predict(X)\" - on X = variables independents -*"
   ]
  },
  {
   "cell_type": "code",
   "execution_count": 92,
   "metadata": {},
   "outputs": [
    {
     "name": "stdout",
     "output_type": "stream",
     "text": [
      "[ 27.35587026  -4.31769317  72.49846559 ...  71.52473581 274.18715038\n",
      "  26.10304119]\n"
     ]
    }
   ],
   "source": [
    "y_predict = model.predict(X)\n",
    "print(y_predict)"
   ]
  },
  {
   "cell_type": "markdown",
   "metadata": {},
   "source": [
    "+ *Els valors reals del data set per \"ArrDelay\" són [ 28.  -7.  73. ...  72. 274.  28.]*\n",
    "\n",
    "  *D'acord amb R2 = 0.9693, podem veure con s'apropa el model quan fa la seva predicció, als valors reals que tenim*"
   ]
  },
  {
   "cell_type": "markdown",
   "metadata": {},
   "source": [
    "+ *Importo \"mean_squared_error\" per utilitzar-lo*"
   ]
  },
  {
   "cell_type": "code",
   "execution_count": 93,
   "metadata": {},
   "outputs": [],
   "source": [
    "from sklearn.metrics import mean_squared_error"
   ]
  },
  {
   "cell_type": "code",
   "execution_count": 94,
   "metadata": {},
   "outputs": [
    {
     "name": "stdout",
     "output_type": "stream",
     "text": [
      "MSE = 22.505184677519736\n"
     ]
    }
   ],
   "source": [
    "print('MSE = {}'.format (mean_squared_error(y, y_predict)))"
   ]
  },
  {
   "cell_type": "markdown",
   "metadata": {},
   "source": [
    "+ *Hem obtingut un MSE de 113.82631621704608*"
   ]
  },
  {
   "cell_type": "code",
   "execution_count": 95,
   "metadata": {},
   "outputs": [
    {
     "name": "stdout",
     "output_type": "stream",
     "text": [
      "intercept: -1.4690977931443285\n",
      "coefficients: [-4.86417823e-02  1.68501795e-02 -1.64339344e-02  6.55058004e-05\n",
      "  3.36204698e-04 -9.22905582e-01  8.90147380e-01  9.80383094e-01\n",
      "  3.88340440e-03  9.84537603e-01  9.85981538e-01  1.71201039e-02\n",
      "  1.71252738e-02  2.40504687e-02  2.24576580e-02  1.83776300e-02]\n"
     ]
    }
   ],
   "source": [
    "print('intercept:', model.intercept_)\n",
    "print('coefficients:', model.coef_)"
   ]
  },
  {
   "cell_type": "markdown",
   "metadata": {},
   "source": [
    "## SUMMARY OPCIÓ 1 : MULTILINEAR REGRESSION\n",
    "\n",
    "+ *Podem veure que el coefficient of determination  i MSE han sigut idèntics per el model amb el paràmetres per default i\n",
    "   amb \"normalize = True\" (R2 = 0.9939342 i MSE = 22.50)\n",
    "   \n",
    "   *En canvi quan hem definit \"Intercept = False\" com a a paràmetre, el resultats han canviat una mica (poc) i hem obtingut\n",
    "     R2 = 0.993912 i MSE = 22.58.*"
   ]
  },
  {
   "cell_type": "markdown",
   "metadata": {},
   "source": [
    "### 2.A.- POLYNOMIAL FEATURES amb degree=3\n",
    "\n",
    "+ *El paràmetre \"degree\" és igual a 2 per Default (de fet és el mínim grau que ha de tenir l'equació de regressió per poder \n",
    "   ser considerada polinònica)*\n",
    "   \n",
    "   *El que faré ara, és comprovar com pot millorar el model si fixo el degree = 3*"
   ]
  },
  {
   "cell_type": "code",
   "execution_count": 96,
   "metadata": {},
   "outputs": [],
   "source": [
    "from sklearn.preprocessing import PolynomialFeatures"
   ]
  },
  {
   "cell_type": "markdown",
   "metadata": {},
   "source": [
    "+ *Fixem el grau = 3, de la funció polinòmica de regressió*"
   ]
  },
  {
   "cell_type": "code",
   "execution_count": 97,
   "metadata": {},
   "outputs": [],
   "source": [
    "poly_reg = PolynomialFeatures(degree=3)"
   ]
  },
  {
   "cell_type": "code",
   "execution_count": 98,
   "metadata": {},
   "outputs": [
    {
     "data": {
      "text/plain": [
       "PolynomialFeatures(degree=3)"
      ]
     },
     "execution_count": 98,
     "metadata": {},
     "output_type": "execute_result"
    }
   ],
   "source": [
    "poly_reg.fit(X)"
   ]
  },
  {
   "cell_type": "markdown",
   "metadata": {},
   "source": [
    "+ *I apliquem \".transform()\" per transformar les dades*"
   ]
  },
  {
   "cell_type": "code",
   "execution_count": 99,
   "metadata": {},
   "outputs": [],
   "source": [
    "X_poly = poly_reg.transform(X)"
   ]
  },
  {
   "cell_type": "code",
   "execution_count": 100,
   "metadata": {},
   "outputs": [
    {
     "data": {
      "text/plain": [
       "numpy.ndarray"
      ]
     },
     "execution_count": 100,
     "metadata": {},
     "output_type": "execute_result"
    }
   ],
   "source": [
    "type(X_poly)"
   ]
  },
  {
   "cell_type": "code",
   "execution_count": 101,
   "metadata": {},
   "outputs": [
    {
     "data": {
      "text/plain": [
       "array([[1.00000000e+00, 4.00000000e+00, 2.40000000e+01, ...,\n",
       "        0.00000000e+00, 0.00000000e+00, 2.74400000e+03],\n",
       "       [1.00000000e+00, 5.00000000e+00, 2.60000000e+01, ...,\n",
       "        2.05526298e-01, 5.76797653e+01, 1.61874921e+04],\n",
       "       [1.00000000e+00, 1.00000000e+00, 2.80000000e+01, ...,\n",
       "        0.00000000e+00, 0.00000000e+00, 0.00000000e+00],\n",
       "       ...,\n",
       "       [1.00000000e+00, 4.00000000e+00, 2.20000000e+01, ...,\n",
       "        0.00000000e+00, 0.00000000e+00, 3.73248000e+05],\n",
       "       [1.00000000e+00, 2.00000000e+00, 1.20000000e+01, ...,\n",
       "        0.00000000e+00, 0.00000000e+00, 9.39393100e+06],\n",
       "       [1.00000000e+00, 1.10000000e+01, 5.00000000e+00, ...,\n",
       "        0.00000000e+00, 0.00000000e+00, 1.75760000e+04]])"
      ]
     },
     "execution_count": 101,
     "metadata": {},
     "output_type": "execute_result"
    }
   ],
   "source": [
    "X_poly"
   ]
  },
  {
   "cell_type": "code",
   "execution_count": 104,
   "metadata": {},
   "outputs": [],
   "source": [
    "model = LinearRegression()"
   ]
  },
  {
   "cell_type": "code",
   "execution_count": 105,
   "metadata": {},
   "outputs": [
    {
     "data": {
      "text/plain": [
       "LinearRegression()"
      ]
     },
     "execution_count": 105,
     "metadata": {},
     "output_type": "execute_result"
    }
   ],
   "source": [
    "model.fit(X_poly, y)"
   ]
  },
  {
   "cell_type": "code",
   "execution_count": 106,
   "metadata": {},
   "outputs": [
    {
     "name": "stdout",
     "output_type": "stream",
     "text": [
      "coefficient of determination: 0.9999999999999986\n"
     ]
    }
   ],
   "source": [
    "r_sq = model.score(X_poly, y)\n",
    "print('coefficient of determination:', r_sq)"
   ]
  },
  {
   "cell_type": "code",
   "execution_count": 107,
   "metadata": {},
   "outputs": [
    {
     "name": "stdout",
     "output_type": "stream",
     "text": [
      "[ 28.00000074  -7.00000258  72.99999871 ...  72.00000001 273.99999917\n",
      "  28.00000107]\n"
     ]
    }
   ],
   "source": [
    "y_predict = model.predict(X_poly)\n",
    "print(y_predict)"
   ]
  },
  {
   "cell_type": "markdown",
   "metadata": {},
   "source": [
    "+ *Els valors reals del data set per \"ArrDelay\" són [ 28.  -7.  73. ...  72. 274.  28.]*\n",
    "\n",
    "  *D'acord amb R2 = 0.9999, podem veure com s'apropa el model quan fa la seva predicció, als valors reals que tenim*"
   ]
  },
  {
   "cell_type": "code",
   "execution_count": 108,
   "metadata": {},
   "outputs": [
    {
     "name": "stdout",
     "output_type": "stream",
     "text": [
      "MSE = 5.556444774314421e-12\n"
     ]
    }
   ],
   "source": [
    "print('MSE = {}'.format (mean_squared_error(y, y_predict)))"
   ]
  },
  {
   "cell_type": "markdown",
   "metadata": {},
   "source": [
    "+  *I obtenim un MSE = 5.556444774314421e-12 quasi igual a zero*"
   ]
  },
  {
   "cell_type": "code",
   "execution_count": 109,
   "metadata": {},
   "outputs": [
    {
     "name": "stdout",
     "output_type": "stream",
     "text": [
      "intercept: -5.15042970050672e-07\n",
      "coefficients: [ 1.40215064e-06 -1.52633221e-07 -1.03758239e-07  2.95236482e-09\n",
      "  8.42619607e-10  4.44444887e-01 -5.92593165e-01  1.48148261e-01\n",
      "  5.92593099e-01  1.49267614e-09  1.48148290e-01  1.48148217e-01\n",
      "  4.07406940e-01  4.07406940e-01  4.07406884e-01  8.36932927e-08\n",
      "  4.07406903e-01 -5.35011452e-09 -1.25666396e-09 -6.94626710e-09\n",
      "  1.91929002e-11  4.24731810e-08 -5.34386894e-08  1.50469998e-08\n",
      "  5.58976514e-08 -3.65326541e-10  1.42841287e-08  1.57968961e-08\n",
      " -5.47775160e-08 -7.97927113e-08 -5.74120694e-08  6.05682317e-07\n",
      " -5.53406287e-08  1.13349191e-09  1.03423367e-08  8.43297508e-12\n",
      "  1.22086719e-07 -1.60437408e-07  3.93762924e-08  1.61602567e-07\n",
      " -7.40233415e-11  4.02455261e-08  4.10687168e-08 -1.62494103e-07\n",
      " -1.59105965e-07 -1.62159340e-07  1.52993728e-06 -1.61900340e-07\n",
      " -1.95451994e-08  2.83405486e-12  5.19438758e-08 -6.35703152e-08\n",
      "  1.20535317e-08  6.85452943e-08  1.09245855e-10  1.99357606e-08\n",
      "  2.05442129e-08 -6.78081684e-08 -9.66422521e-08 -6.55887989e-08\n",
      "  5.76013550e-07 -6.80783706e-08 -1.14549863e-13  2.32809495e-06\n",
      " -3.10421294e-06  7.76102323e-07  3.10419809e-06  1.34673858e-12\n",
      "  7.76084784e-07  7.76095191e-07 -3.10421062e-06 -3.10417878e-06\n",
      " -3.10419316e-06  2.03733283e-05 -3.10419664e-06  2.37088892e-06\n",
      " -9.83327733e-07  1.41714379e-06  2.88496795e-06  1.09224375e-05\n",
      "  4.12574038e-07  5.41298868e-07  3.66004774e-06 -3.41201352e-06\n",
      "  1.43651948e-06  1.31216770e-05  6.12234203e-06 -2.00734072e-06\n",
      " -1.26879505e-06  1.47980483e-06 -1.45633858e-05  2.39401990e-07\n",
      "  4.53596548e-08 -1.02067236e-05 -7.75037305e-07 -7.24184579e-06\n",
      "  1.25395896e-05 -1.34896706e-05  4.71729584e-07  1.90210949e-06\n",
      "  3.64088154e-06  4.40678360e-07  5.04801101e-07  2.79986568e-07\n",
      " -2.07750811e-06 -4.61392350e-07  9.67408942e-06  1.10055842e-06\n",
      "  5.26988916e-07  1.45633679e-05  3.94985148e-07  5.88219557e-07\n",
      "  7.67324564e-06 -1.76884013e-06  4.70774990e-06 -7.21075007e-07\n",
      "  1.09557529e-05  3.63634513e-12  3.64069894e-06  3.64090151e-06\n",
      " -1.45633823e-05 -1.45634771e-05 -1.45633745e-05  9.84222413e-05\n",
      " -1.45633771e-05 -3.12199400e-08  3.26450669e-09  1.78649635e-06\n",
      " -5.69620358e-07  1.04564091e-06  9.26991198e-07  2.60724978e-06\n",
      "  3.35277153e-08  1.59381573e-06 -7.64943954e-07  8.52200538e-07\n",
      "  2.52026030e-06  2.41453581e-06 -8.20022966e-06 -4.44874366e-06\n",
      " -1.34346413e-05 -1.62431429e-07 -1.96829007e-05  1.24181884e-06\n",
      " -4.00618567e-06  2.14238334e-08 -1.02426366e-05 -5.23480149e-06\n",
      " -6.34980837e-08 -1.67177602e-05  4.22095835e-08 -2.94154706e-07\n",
      " -1.14827222e-05  4.15150080e-10 -1.06266095e-11  1.29651041e-10\n",
      " -3.92431801e-13 -4.89317541e-10 -4.69341985e-11  5.51177695e-10\n",
      " -2.25027142e-11 -4.51588471e-12  3.82848026e-10  4.02832716e-10\n",
      "  4.42101807e-11  1.30526795e-09  5.51605624e-11 -5.38697847e-08\n",
      "  4.45881230e-11  4.27233816e-11  1.16907853e-10 -4.05002217e-13\n",
      " -1.12356969e-09 -1.53511696e-10  1.29538498e-09  1.38040238e-10\n",
      " -1.73303966e-12  1.24779885e-09  1.28459516e-09 -1.70497438e-10\n",
      " -1.58044828e-10 -1.14143816e-10  9.17728226e-08 -1.36384400e-10\n",
      "  5.89409845e-11  1.08166458e-12  2.78680448e-10 -7.96333834e-10\n",
      "  5.30823840e-10  9.80981350e-10  1.37172373e-12  5.91967482e-10\n",
      "  5.07404944e-10 -1.02307253e-09 -4.12487927e-10 -8.91721794e-10\n",
      "  6.22949702e-07 -1.00471537e-09 -1.93421668e-15  5.65301306e-09\n",
      " -1.14332740e-12 -5.65102462e-09  1.64011860e-12 -1.20308277e-13\n",
      " -5.65201692e-09 -5.65162651e-09 -1.68352138e-12 -7.06256966e-13\n",
      " -1.50209782e-12  9.86254846e-10 -1.59537162e-12 -6.37930317e-08\n",
      " -5.37392160e-09  4.92185836e-08 -6.14959362e-09 -3.46767394e-08\n",
      "  5.36233811e-08  5.24048780e-08 -3.90199216e-07 -1.07104555e-07\n",
      " -1.06510606e-07  3.87454245e-06  3.57591321e-07 -1.01880736e-10\n",
      "  5.68452690e-09  2.08221073e-10 -1.21405676e-11  5.96693584e-09\n",
      "  5.58829793e-09  5.19599713e-07  1.42921107e-07  1.41539463e-07\n",
      " -5.31870607e-06 -4.77719335e-07  1.43316647e-08  5.78977074e-09\n",
      "  3.46970614e-08  2.40309896e-08  2.55930636e-08 -1.29291316e-07\n",
      " -3.57055167e-08 -3.48874628e-08  1.34017782e-06  1.20262862e-07\n",
      " -1.18737820e-10  1.80653187e-11  5.46177776e-09  5.91287595e-09\n",
      " -5.19595921e-07 -1.42731357e-07 -1.41506120e-07  5.28427450e-06\n",
      "  4.77734069e-07 -5.15908496e-13  3.46926652e-08  3.46949186e-08\n",
      " -1.31624529e-11 -1.48185767e-11 -1.71637461e-11  1.25901812e-08\n",
      " -1.60852238e-11  9.73346324e-09  2.08385265e-08 -1.28906275e-07\n",
      " -3.51414369e-08 -3.45888534e-08  1.12156719e-06  1.20616045e-07\n",
      "  1.12568831e-08 -1.29406043e-07 -3.57622576e-08 -3.49811683e-08\n",
      "  1.41281028e-06  1.20140476e-07  5.19714398e-07 -1.04708438e-07\n",
      "  6.61358993e-07  1.61486394e-06  4.20928648e-08  1.42846471e-07\n",
      "  2.84641840e-07  4.22987211e-07 -3.34715459e-07  1.41625827e-07\n",
      "  2.11911831e-06 -3.35981778e-07  2.43047422e-06  7.90964906e-06\n",
      " -4.77615769e-07 -8.71756402e-12  4.53557337e-11  6.61441388e-14\n",
      " -2.01819450e-09 -5.25738942e-11  2.06461923e-09  3.63460941e-11\n",
      "  9.51133703e-14  1.98447235e-09  2.03497191e-09 -3.35481947e-11\n",
      " -8.10989893e-11 -2.21752673e-11  2.10045541e-08 -3.40081692e-11\n",
      " -3.68721914e-10 -2.79592755e-13 -8.36425340e-10 -6.97277084e-11\n",
      "  8.16723584e-10  9.91180482e-12  5.94462247e-12  8.20365118e-10\n",
      "  8.30853744e-10 -3.36143763e-11  2.99121947e-11 -3.67266281e-11\n",
      "  1.83182084e-08 -1.24823808e-11 -6.10622664e-16  5.60304361e-08\n",
      "  2.71909231e-14 -5.60306629e-08 -1.36480671e-13  2.39096937e-14\n",
      " -5.60301552e-08 -5.60305771e-08  1.37411133e-13  7.76006863e-15\n",
      "  1.69490724e-13 -9.30095662e-11  1.75201758e-13 -7.73872201e-08\n",
      " -7.12787842e-09  5.98752955e-08 -1.58522498e-08 -4.86212936e-08\n",
      "  6.55020483e-08  6.41247061e-08 -9.44780304e-07 -2.27039598e-07\n",
      " -5.10511168e-07  7.81157284e-06  1.01799176e-06  4.36831728e-11\n",
      "  7.04435363e-09 -9.72746402e-11 -9.95110678e-13  7.01747853e-09\n",
      "  7.10158800e-09  1.25865043e-06  3.02465534e-07  6.79837925e-07\n",
      " -1.04132462e-05 -1.35872363e-06  1.75579747e-08  1.59529543e-08\n",
      "  4.86205328e-08  2.94707924e-08  3.08019739e-08 -3.13855181e-07\n",
      " -7.55433896e-08 -1.69340900e-07  2.60656722e-06  3.40726255e-07\n",
      "  6.24210729e-11 -4.66268083e-13  1.60318165e-08  1.58778119e-08\n",
      " -1.25866840e-06 -3.02484781e-07 -6.79869519e-07  1.04263995e-05\n",
      "  1.35870400e-06  1.15699117e-13  4.86260222e-08  4.86211252e-08\n",
      " -1.57233113e-12  1.50304692e-11  2.01255050e-12 -5.76456678e-10\n",
      "  8.38559799e-13  1.19906080e-08  2.52358036e-08 -3.13931300e-07\n",
      " -7.54866599e-08 -1.69400366e-07  2.64162917e-06  3.40661324e-07\n",
      "  1.32331622e-08 -3.13794047e-07 -7.53853163e-08 -1.69264166e-07\n",
      "  2.56338994e-06  3.40800094e-07  1.25860643e-06  7.38752297e-08\n",
      "  1.93841018e-06  1.68033241e-06 -1.00160800e-07  3.02459685e-07\n",
      "  9.82215410e-07  4.71098206e-07 -1.05634377e-06  6.79808389e-07\n",
      "  1.71930319e-06 -6.78950203e-07  6.92534306e-06  1.78942103e-05\n",
      " -1.35876765e-06  6.34292420e-10  9.27647131e-13  1.06990318e-09\n",
      " -1.59284438e-09  8.23070302e-10  1.70241100e-09 -2.83980593e-11\n",
      "  7.86023080e-10  3.83883052e-10 -1.68717735e-09 -1.16105302e-09\n",
      " -1.77951858e-09  1.10057008e-06 -1.70859355e-09  5.80265003e-16\n",
      " -1.03530705e-08  2.10215878e-13  1.03527380e-08 -4.13773128e-13\n",
      " -8.65843855e-15  1.03531371e-08  1.03524543e-08  1.60676106e-13\n",
      " -1.84326289e-12  4.98033689e-14 -2.05289294e-10  3.40878543e-13\n",
      " -4.37905242e-08 -4.36850285e-09  3.39459828e-08 -3.97586552e-09\n",
      " -2.62628901e-08  3.72045603e-08  3.66325229e-08 -2.09171811e-07\n",
      " -4.33903826e-08 -1.33932763e-07  1.74327135e-06  2.34235932e-07\n",
      "  7.53285612e-11  4.24538419e-09  1.04853775e-10 -8.35737490e-12\n",
      "  3.82345932e-09  3.93040023e-09  2.78111791e-07  5.77833806e-08\n",
      "  1.77961305e-07 -2.22483089e-06 -3.13273398e-07  9.90100564e-09\n",
      "  3.89239006e-09  2.62674213e-08  1.68435055e-08  1.73978111e-08\n",
      " -6.90116776e-08 -1.39091317e-08 -4.40446182e-08  4.67755947e-07\n",
      "  7.90156248e-08 -7.39695034e-11  3.03934222e-12  3.99756493e-09\n",
      "  4.21251791e-09 -2.78133965e-07 -5.63053748e-08 -1.77886522e-07\n",
      "  2.12514582e-06  3.13283773e-07  2.79595791e-13  2.62844343e-08\n",
      "  2.62713402e-08  1.14034696e-12 -7.32246976e-11 -5.35407744e-12\n",
      "  5.76773728e-09 -3.13282158e-12  6.71757669e-09  1.43042331e-08\n",
      " -6.90672387e-08 -1.43489941e-08 -4.41315380e-08  5.61576312e-07\n",
      "  7.89323569e-08  7.52756287e-09 -6.92865461e-08 -1.47839183e-08\n",
      " -4.43424533e-08  7.13947265e-07  7.86706390e-08  2.78208945e-07\n",
      " -3.73226769e-09  4.56137454e-07  3.09113901e-07 -3.50157339e-08\n",
      "  5.64884146e-08  2.36121108e-07  1.52154669e-07 -2.56697078e-07\n",
      "  1.77963213e-07  1.61638643e-07 -1.35244733e-07  1.54302186e-06\n",
      "  3.93563753e-06 -3.13207681e-07 -4.77048956e-18 -5.65734126e-10\n",
      "  3.27515792e-15  5.65734126e-10 -4.44089210e-16 -4.71844785e-16\n",
      "  5.65735528e-10  5.65734307e-10  1.49880108e-15  1.31838984e-15\n",
      " -4.99600361e-16 -3.18314819e-13  3.33066907e-16  9.63898711e-10\n",
      "  1.48187460e-07 -3.28991264e-10 -3.31284973e-08 -2.01478364e-08\n",
      " -9.84281329e-09  9.28844044e-09  1.31314822e-06  5.50437011e-06\n",
      " -2.23638579e-06  3.04732694e-06 -5.77242549e-07  6.64919508e-14\n",
      " -1.48187522e-07  1.33808763e-13 -5.07233144e-15 -1.48187645e-07\n",
      " -1.48187630e-07 -1.75153037e-06 -7.33925362e-06  2.98111340e-06\n",
      " -4.06297709e-06  7.69434505e-07 -6.34921212e-10  3.31283665e-08\n",
      "  2.01478465e-08  8.24418102e-09 -1.08870977e-08  4.38382153e-07\n",
      "  1.83488350e-06 -7.44727622e-07  1.01566041e-06 -1.92191960e-07\n",
      " -1.21042065e-13  4.02455846e-16  3.31286430e-08  3.31285120e-08\n",
      "  1.75153048e-06  7.33925366e-06 -2.98111327e-06  4.06290666e-06\n",
      " -7.69434397e-07 -3.19189120e-16  2.01478399e-08  2.01478396e-08\n",
      " -2.76514922e-15  3.36189410e-15 -1.52655666e-16  6.34247429e-14\n",
      " -1.51267887e-15  8.87912584e-09 -1.37302191e-09  4.38381906e-07\n",
      "  1.83488200e-06 -7.44727901e-07  1.01586597e-06 -1.92192248e-07\n",
      " -1.02521833e-08  4.38382002e-07  1.83488328e-06 -7.44727754e-07\n",
      "  1.01574592e-06 -1.92192118e-07 -1.75153036e-06 -8.92142160e-06\n",
      "  1.22958301e-06  4.11305966e-06 -9.82095835e-07 -7.33925355e-06\n",
      " -4.35814012e-06  4.52222866e-05 -6.56981897e-06  2.98111340e-06\n",
      " -2.05246381e-05  3.75054792e-06 -3.91990405e-06 -1.37699469e-05\n",
      "  7.69434520e-07 -3.06794898e-07  1.80641605e-07  2.67226011e-07\n",
      " -2.27047018e-07  1.93868600e-08  2.91790931e-07  6.20301180e-08\n",
      "  2.35128085e-06 -9.45920533e-06 -8.81166233e-07 -1.06543792e-05\n",
      "  6.05516664e-08  2.04092124e-08 -1.35380270e-07 -1.81768002e-08\n",
      "  4.15463482e-08 -1.49011393e-07 -1.69725015e-07  8.80286561e-07\n",
      "  2.46013385e-05  5.22311027e-06 -2.20163498e-05 -7.24868376e-06\n",
      "  4.14048404e-08  1.75345553e-07  7.24025313e-09  6.55128463e-08\n",
      "  2.22074885e-07  2.95566891e-06 -2.21054839e-06  8.65423786e-07\n",
      " -1.92063030e-05 -2.41066882e-06 -5.19086198e-08 -1.96382053e-07\n",
      "  1.91782814e-07  1.89280992e-07  6.57574008e-06 -2.11580521e-05\n",
      "  6.47113927e-08 -4.51342774e-05 -1.88568491e-06  9.89722063e-09\n",
      "  6.07912840e-09 -1.31287274e-07 -4.53643612e-06  4.58443048e-06\n",
      " -5.60810079e-07  1.51176496e-05  2.61606030e-06  1.92639472e-08\n",
      "  2.17027768e-07 -3.04114480e-08 -3.56141806e-06 -7.71632292e-07\n",
      "  9.62472601e-07  9.91517837e-07  2.00638981e-07 -5.63120072e-07\n",
      " -3.68515722e-06 -9.66214519e-07  7.58949761e-06  1.49456683e-06\n",
      "  1.17450465e-04 -9.64548722e-06  5.72110251e-05  1.92807260e-06\n",
      "  1.22832665e-04  1.63566314e-05  3.02585876e-06  7.82664541e-06\n",
      " -1.83797492e-05  6.88411213e-05  7.33194895e-07  8.48051175e-05\n",
      " -1.13465638e-05 -3.15896225e-05  2.19340391e-04 -2.25511797e-12\n",
      " -2.04007406e-08 -3.46837638e-11 -4.41209569e-14 -2.04254656e-08\n",
      " -2.04414783e-08 -4.46789064e-06 -1.95593725e-05 -5.73248369e-06\n",
      "  4.42843538e-05  9.57677857e-06 -4.52682875e-08  1.82363895e-08\n",
      " -4.15470437e-08 -7.68846583e-08 -5.61564720e-08 -2.96056098e-06\n",
      "  6.78748430e-06  5.55091782e-09  1.61204567e-05  1.23546435e-06\n",
      "  2.56987079e-11  1.21658586e-12  1.82489255e-08  1.82153138e-08\n",
      " -1.00635066e-06  3.45276916e-05  4.41400464e-06  9.87898268e-07\n",
      " -6.97523935e-06  4.20774526e-14 -4.15427500e-08 -4.15416468e-08\n",
      "  6.04898580e-06 -6.11249068e-06  7.48203272e-07 -2.01575813e-05\n",
      " -3.48810661e-06 -3.17088722e-08 -4.25433452e-08  1.51880257e-06\n",
      "  8.81369730e-06  2.46122022e-06 -1.40806994e-05 -3.86751721e-06\n",
      " -1.08331240e-08  2.31455071e-06  8.99872929e-06  2.75051639e-06\n",
      " -2.40561422e-05 -4.62647990e-06 -1.64365224e-04  6.29247549e-06\n",
      " -8.85486982e-05 -2.74062841e-06 -1.62056116e-04 -2.81263882e-05\n",
      " -1.48546419e-05  7.41909161e-06  2.76741526e-05 -9.62909165e-05\n",
      " -2.47521189e-06 -1.08090902e-04 -2.27489109e-05 -4.67210803e-05\n",
      " -2.82968543e-04 -1.83443039e-09  5.16732421e-08 -2.66266829e-08\n",
      " -1.27717252e-08  6.04279569e-08  1.24121715e-06 -1.59722178e-07\n",
      "  5.19568133e-07 -8.52900493e-06 -1.21343900e-06  5.18894938e-08\n",
      "  1.96381657e-07  8.69157630e-08  8.94678874e-08  5.44665978e-06\n",
      " -5.63971339e-06  1.75758812e-06 -3.85258528e-05 -4.27941636e-06\n",
      " -9.89722412e-09 -5.20953228e-08  8.52700408e-08 -1.51255017e-06\n",
      "  1.52806497e-06 -1.87394048e-07  5.04030191e-06  8.72045532e-07\n",
      " -1.51062540e-08  9.40971159e-08  9.89131333e-07 -9.94625915e-07\n",
      "  2.20501463e-07 -7.02000135e-06 -7.26102020e-07  1.06339259e-07\n",
      "  7.26080124e-07 -1.05604758e-06  1.25773449e-07 -3.65729392e-06\n",
      " -4.70203865e-07  3.58987035e-05 -4.60045547e-06  1.40853056e-05\n",
      " -4.19764837e-08  4.13477295e-05  4.03979981e-06 -2.13746836e-06\n",
      "  6.49001174e-06 -3.88400121e-06  2.12134852e-05 -1.73654611e-06\n",
      "  3.01898057e-05 -2.52137176e-05 -5.29963763e-05  7.67684859e-05\n",
      "  1.07140737e-11 -8.97091429e-13  5.18949492e-08  5.19485907e-08\n",
      "  5.47418883e-06 -1.49682893e-05  1.31843089e-06 -4.52443352e-05\n",
      " -2.60158822e-06 -4.48252546e-14  1.96378690e-07  1.96377463e-07\n",
      " -6.04898483e-06  6.11248795e-06 -7.48202823e-07  2.01574898e-05\n",
      "  3.48810713e-06  3.53332680e-08  7.30554724e-08  9.67276532e-07\n",
      " -7.66562857e-06 -6.98102679e-07 -8.31809291e-06  8.23540844e-07\n",
      "  3.77475666e-08  1.71448659e-07 -7.85094910e-06 -9.87476307e-07\n",
      "  1.70971170e-06  1.58243036e-06  1.54423139e-04 -9.74797158e-06\n",
      "  7.15556864e-05 -4.69752920e-06  1.64292389e-04  2.35351710e-05\n",
      "  3.20908561e-06  2.48796516e-06 -2.00869298e-05  8.92399923e-05\n",
      "  3.87435797e-06  1.13218334e-04 -1.97162610e-05 -7.16101374e-05\n",
      "  2.95146901e-04 -1.26287869e-15 -9.89730158e-09 -9.89730638e-09\n",
      "  2.70547473e-14 -2.20004570e-13  5.13530191e-14 -2.32368034e-11\n",
      "  4.66432448e-14 -2.54680943e-08  8.64296808e-08 -1.51254720e-06\n",
      "  1.52804514e-06 -1.87390712e-07  5.03934252e-06  8.72048511e-07\n",
      "  1.11896110e-07 -1.51254651e-06  1.52806018e-06 -1.87389845e-07\n",
      "  5.03803425e-06  8.72049554e-07  6.04898574e-06 -2.16249247e-06\n",
      "  6.79718955e-06 -2.75830393e-05  2.56087944e-06 -6.11248387e-06\n",
      " -5.36428339e-06  4.04911649e-05 -9.60059361e-06  7.48203634e-07\n",
      "  2.96716002e-07 -2.73990220e-06  1.63544280e-05  2.58842133e-05\n",
      " -3.48810625e-06 -4.14997072e-09  3.85977268e-08 -2.52179750e-07\n",
      " -8.35278911e-07 -2.99162435e-07  1.57995978e-06  4.87236920e-07\n",
      "  8.68468573e-08 -7.67247540e-07 -1.73148830e-06 -6.92880909e-07\n",
      "  6.40251455e-06  1.23055197e-06  4.03780809e-05 -2.37600177e-06\n",
      "  2.10203764e-05 -4.86763359e-08  4.07241461e-05  6.06573290e-06\n",
      "  2.34452357e-06  2.50202665e-07 -6.96099825e-06  2.36691711e-05\n",
      "  3.32796626e-08  2.75425274e-05  1.98710730e-06  4.97444947e-06\n",
      "  7.16655235e-05  4.40758589e-08 -5.15092137e-07 -8.96295479e-07\n",
      " -3.93746954e-07  4.84430821e-06  7.43281600e-07  4.11738555e-05\n",
      " -2.66900702e-06  2.21054575e-05  2.01872609e-06  4.07609763e-05\n",
      "  6.25098263e-06  2.81883355e-06  1.08643113e-06 -7.53472531e-06\n",
      "  2.39584892e-05  2.43646138e-06  2.70729054e-05  1.18800445e-05\n",
      "  1.64323053e-05  7.09065800e-05 -1.59897339e-04 -1.33263452e-04\n",
      " -2.38245667e-04  6.92312128e-07 -3.27062350e-04 -2.77277965e-06\n",
      " -3.28065471e-05  3.24702450e-07 -1.07044551e-04 -1.68906761e-04\n",
      "  1.22624251e-06 -3.57448537e-04 -2.07028035e-06 -6.28327914e-06\n",
      " -4.59710335e-04 -8.56689401e-06  1.87384074e-06  1.42509004e-07\n",
      "  2.90898953e-05 -8.01212358e-05  2.73437034e-07 -6.38376076e-05\n",
      "  1.27948955e-08  9.67733761e-07 -2.54888538e-04 -9.05584339e-05\n",
      "  2.66443032e-06 -2.02493631e-04  5.21606380e-07 -2.36606750e-06\n",
      " -4.04480522e-04  8.01752509e-06 -1.48241484e-05 -4.19940149e-05\n",
      " -2.92545324e-04]\n"
     ]
    }
   ],
   "source": [
    "print('intercept:', model.intercept_)\n",
    "print('coefficients:', model.coef_)"
   ]
  },
  {
   "cell_type": "code",
   "execution_count": 110,
   "metadata": {},
   "outputs": [
    {
     "data": {
      "text/plain": [
       "969"
      ]
     },
     "execution_count": 110,
     "metadata": {},
     "output_type": "execute_result"
    }
   ],
   "source": [
    "len(model.coef_)"
   ]
  },
  {
   "cell_type": "markdown",
   "metadata": {},
   "source": [
    "### 2.B- POLYNOMIAL FEATURES amb interaction_only = True\n",
    "\n",
    "+ *El paràmetre \"interaction_only\" és igual a False per Default.Set to True vol dir que volem que inclogui només les \n",
    "  interaction features que es generen en la confecció de l'equació de regressió (i NO totes les features).\n",
    "   "
   ]
  },
  {
   "cell_type": "code",
   "execution_count": 111,
   "metadata": {},
   "outputs": [],
   "source": [
    "from sklearn.preprocessing import PolynomialFeatures"
   ]
  },
  {
   "cell_type": "markdown",
   "metadata": {},
   "source": [
    "+ *Fixem el grau = 2, de la funció polinòmica de regressió per fer vàlida la comparació amb el cas que, amb degree = 2,\n",
    "   NO haviem fixat cap paràmetre opcional*"
   ]
  },
  {
   "cell_type": "code",
   "execution_count": 112,
   "metadata": {},
   "outputs": [],
   "source": [
    "poly_reg = PolynomialFeatures(degree=2, interaction_only = True)"
   ]
  },
  {
   "cell_type": "code",
   "execution_count": 113,
   "metadata": {},
   "outputs": [
    {
     "data": {
      "text/plain": [
       "PolynomialFeatures(interaction_only=True)"
      ]
     },
     "execution_count": 113,
     "metadata": {},
     "output_type": "execute_result"
    }
   ],
   "source": [
    "poly_reg.fit(X)"
   ]
  },
  {
   "cell_type": "markdown",
   "metadata": {},
   "source": [
    "+ *I apliquem \".transform()\" per transformar les dades*"
   ]
  },
  {
   "cell_type": "code",
   "execution_count": 114,
   "metadata": {},
   "outputs": [],
   "source": [
    "X_poly = poly_reg.transform(X)"
   ]
  },
  {
   "cell_type": "code",
   "execution_count": 115,
   "metadata": {},
   "outputs": [
    {
     "data": {
      "text/plain": [
       "numpy.ndarray"
      ]
     },
     "execution_count": 115,
     "metadata": {},
     "output_type": "execute_result"
    }
   ],
   "source": [
    "type(X_poly)"
   ]
  },
  {
   "cell_type": "code",
   "execution_count": 116,
   "metadata": {},
   "outputs": [],
   "source": [
    "model = LinearRegression()"
   ]
  },
  {
   "cell_type": "code",
   "execution_count": 117,
   "metadata": {},
   "outputs": [
    {
     "data": {
      "text/plain": [
       "LinearRegression()"
      ]
     },
     "execution_count": 117,
     "metadata": {},
     "output_type": "execute_result"
    }
   ],
   "source": [
    "model.fit(X_poly, y)"
   ]
  },
  {
   "cell_type": "code",
   "execution_count": 118,
   "metadata": {},
   "outputs": [
    {
     "name": "stdout",
     "output_type": "stream",
     "text": [
      "coefficient of determination: 0.9999996360022797\n"
     ]
    }
   ],
   "source": [
    "r_sq = model.score(X_poly, y)\n",
    "print('coefficient of determination:', r_sq)"
   ]
  },
  {
   "cell_type": "code",
   "execution_count": 119,
   "metadata": {},
   "outputs": [
    {
     "name": "stdout",
     "output_type": "stream",
     "text": [
      "[ 28.00757713  -6.89976919  72.98336853 ...  72.0055469  274.05722955\n",
      "  27.97734651]\n"
     ]
    }
   ],
   "source": [
    "y_predict = model.predict(X_poly)\n",
    "print(y_predict)"
   ]
  },
  {
   "cell_type": "markdown",
   "metadata": {},
   "source": [
    "+ *Els valors reals del data set per \"ArrDelay\" són [ 28.  -7.  73. ...  72. 274.  28.]*\n",
    "\n",
    "  *D'acord amb R2 = 0.9764763223554763, podem veure com s'apropa el model  quan fa la seva predicció, als valors reals que \n",
    "   tenim*"
   ]
  },
  {
   "cell_type": "code",
   "execution_count": 120,
   "metadata": {},
   "outputs": [
    {
     "name": "stdout",
     "output_type": "stream",
     "text": [
      "MSE = 0.0013504984171754451\n"
     ]
    }
   ],
   "source": [
    "print('MSE = {}'.format (mean_squared_error(y, y_predict)))"
   ]
  },
  {
   "cell_type": "markdown",
   "metadata": {},
   "source": [
    "+  *I obtenim un MSE =  0.0013504984171754451*"
   ]
  },
  {
   "cell_type": "code",
   "execution_count": 121,
   "metadata": {},
   "outputs": [
    {
     "name": "stdout",
     "output_type": "stream",
     "text": [
      "intercept: -0.04347595849966979\n",
      "coefficients: [ 1.45887296e-09 -8.29104936e-04  1.80177042e-03  1.23934141e-03\n",
      " -3.30447475e-06  7.49760960e-01 -9.99390670e-01  2.48648994e-01\n",
      "  1.00356525e+00  1.17582026e-04  2.50483458e-01  2.53240694e-01\n",
      " -3.76049692e-03 -3.42116693e-03 -2.61844769e-03  9.71694112e+00\n",
      " -3.67959659e-03 -7.82774829e-05  9.50122094e-05  1.62221663e-07\n",
      "  1.37264890e-04 -8.10127894e-05 -5.68149728e-06  9.06923314e-05\n",
      " -5.82708144e-06  4.14560451e-05 -6.27568723e-05 -9.17464233e-05\n",
      " -8.85156121e-05 -1.03258005e-04  6.22768132e-02 -9.33917455e-05\n",
      "  1.38155680e-05 -3.85185277e-08  4.36610284e-05  4.69631782e-04\n",
      " -5.18473779e-04 -5.37432064e-04  7.18391861e-07 -5.14151530e-04\n",
      " -5.72541487e-04  5.38878453e-04  5.41346597e-04  5.27187621e-04\n",
      " -3.55112200e-01  5.38584019e-04 -8.33874978e-08 -1.73362072e-04\n",
      " -9.35850466e-04  1.16447706e-03  8.94032216e-04 -6.24390396e-06\n",
      "  1.02574796e-03  9.83565542e-04 -8.84196302e-04 -8.98296025e-04\n",
      " -8.88143270e-04  5.60873895e-01 -9.00463126e-04  3.17599646e-07\n",
      "  2.33423648e-07 -4.30099216e-07 -2.11022182e-07 -1.58957935e-08\n",
      " -4.86053894e-07 -4.89430875e-07  2.25061858e-07  1.93882528e-07\n",
      "  1.92527583e-07 -1.33194251e-04  2.18973929e-07  6.99921227e-04\n",
      " -2.44611135e-05 -6.75982377e-04 -2.47467421e-06  4.85344095e-04\n",
      " -6.50062981e-04 -1.25046587e-02 -2.41684526e-03 -9.77713755e-03\n",
      "  1.08043702e-01 -1.65002465e-02 -6.74274975e-04 -6.08429517e-05\n",
      " -1.77519237e-06 -1.21120797e-03 -9.50500153e-05  6.21420217e-05\n",
      "  9.20457267e-05  3.03915806e-05 -1.94520875e-01  6.58837716e-05\n",
      "  7.01787028e-04  4.07874114e-06  4.10169931e-05  7.28861580e-05\n",
      "  1.24797000e-02  2.34506222e-03  9.77015768e-03  6.47486623e-02\n",
      "  1.64682764e-02  3.06808870e-06  1.19770734e-03  3.64961101e-05\n",
      "  2.79296500e-07  1.22939233e-07 -4.15902200e-07  1.59677407e-01\n",
      "  3.15839333e-07  2.81375801e-06  6.80256050e-07 -3.24968587e-06\n",
      " -1.74059436e-06 -1.48806490e-06  1.86179605e-03 -2.94884310e-06\n",
      "  1.35764209e-05  1.19760675e-02  1.88645618e-03  9.26952889e-03\n",
      "  3.82499231e-01  1.59735667e-02  1.31397315e-02  3.02605199e-03\n",
      "  1.04224822e-02 -3.38968737e-01  1.71369856e-02 -3.78007434e-05\n",
      "  8.78163126e-06 -2.19621703e-01 -1.46034465e-06  3.71656970e-05\n",
      "  2.08127218e+00 -1.05444634e-06 -1.70002289e-01  6.54107746e-06\n",
      " -3.68002219e-01]\n"
     ]
    }
   ],
   "source": [
    "print('intercept:', model.intercept_)\n",
    "print('coefficients:', model.coef_)"
   ]
  },
  {
   "cell_type": "code",
   "execution_count": 122,
   "metadata": {},
   "outputs": [
    {
     "data": {
      "text/plain": [
       "137"
      ]
     },
     "execution_count": 122,
     "metadata": {},
     "output_type": "execute_result"
    }
   ],
   "source": [
    "len(model.coef_)"
   ]
  },
  {
   "cell_type": "markdown",
   "metadata": {},
   "source": [
    "__*Veiem que quan hem fet el print de \"coefficients\" obtenim 137 coeficients en lloc dels 969 de quan no hem fixat\n",
    "   el paràmetre interaction_only = True__*"
   ]
  },
  {
   "cell_type": "markdown",
   "metadata": {},
   "source": [
    "## SUMMARY OPCIÓ POLYNOMIAL FEATURES (MULTILINEAR REGRESSION)\n",
    " \n",
    "+ *Els resultats per P.Features amb paràmetres per default, amb \"degree = 3* i amb \"interaction_only = True\"; han estat  \n",
    "   respectivament :\n",
    "   \n",
    "   + R2 = 0.9999999845768733 i MSE = 5.556444774314421e-12.\n",
    "   + R2 = 0.9999999999999986 i MSE = 5.556444774314421e-12.\n",
    "   + R2 = 0.9999996360022797 i MSE = 0.0013504984171754451\n",
    "   \n",
    "  "
   ]
  },
  {
   "cell_type": "markdown",
   "metadata": {},
   "source": [
    "### 3.- DECISION TREE REGRESSION amb criterion = \"mae\" (\"mse\" per Default) i splittter = \"random\"\n",
    "\n",
    "+ *El paràmetre \"criterion\" permet escollir el mètode de selecció d'atribut per iniciar l'arbre de decissió i splitter\n",
    "   defineix l'estratègia per escollir l'split a cada node *.\n",
    "   \n",
    "   *El que faré ara, és comprovar si pot millorar el model*"
   ]
  },
  {
   "cell_type": "code",
   "execution_count": 123,
   "metadata": {},
   "outputs": [],
   "source": [
    "from sklearn.tree import DecisionTreeRegressor"
   ]
  },
  {
   "cell_type": "raw",
   "metadata": {},
   "source": [
    "regressor = DecisionTreeRegressor(random_state=0, criterion = \"mae\", splitter = \"random\")"
   ]
  },
  {
   "cell_type": "code",
   "execution_count": 124,
   "metadata": {},
   "outputs": [
    {
     "data": {
      "text/plain": [
       "DecisionTreeRegressor(random_state=0)"
      ]
     },
     "execution_count": 124,
     "metadata": {},
     "output_type": "execute_result"
    }
   ],
   "source": [
    "regressor.fit(X,y)"
   ]
  },
  {
   "cell_type": "code",
   "execution_count": 125,
   "metadata": {},
   "outputs": [
    {
     "name": "stdout",
     "output_type": "stream",
     "text": [
      "coefficient of determination: 1.0\n"
     ]
    }
   ],
   "source": [
    "r_sq = regressor.score(X, y)\n",
    "print('coefficient of determination:', r_sq)\n"
   ]
  },
  {
   "cell_type": "code",
   "execution_count": 126,
   "metadata": {},
   "outputs": [
    {
     "name": "stdout",
     "output_type": "stream",
     "text": [
      "[ 28.  -7.  73. ...  72. 274.  28.]\n"
     ]
    }
   ],
   "source": [
    "y_predict =regressor.predict(X)\n",
    "print(y_predict)"
   ]
  },
  {
   "cell_type": "markdown",
   "metadata": {},
   "source": [
    "+ *Els valors reals del data set per \"ArrDelay\" són [ 28.  -7.  73. ...  72. 274.  28.]*\n",
    "\n",
    "  *D'acord amb R2 = 1.0, podem veure com el model encerta perfectament quan fa la seva predicció, els valors reals que tenim*"
   ]
  },
  {
   "cell_type": "code",
   "execution_count": 127,
   "metadata": {},
   "outputs": [
    {
     "name": "stdout",
     "output_type": "stream",
     "text": [
      "MSE = 0.0\n"
     ]
    }
   ],
   "source": [
    "print('MSE = {}'.format (mean_squared_error(y, y_predict)))"
   ]
  },
  {
   "cell_type": "markdown",
   "metadata": {},
   "source": [
    "## SUMMARY OPCIÓ 3\n",
    " \n",
    "+ *Els resultats per Decission Tree Regressor amb paràmetres per default; i amb criterion = \"mae\" i \"splittter=random\"; han\n",
    "     estat respectivament :\n",
    "   \n",
    "   + R2 = 1.0 i MSE = 0.0.\n",
    "   + R2 = 1.0 i MSE = 0.0.\n",
    "   \n",
    "   *És a dir, no han canviat gens:"
   ]
  },
  {
   "cell_type": "markdown",
   "metadata": {},
   "source": [
    "### *Exercici 4*\n",
    "\n",
    "Compara el seu rendiment utilitzant l’aproximació traint/test o utilitzant totes les dades (validació interna)"
   ]
  },
  {
   "cell_type": "code",
   "execution_count": 128,
   "metadata": {},
   "outputs": [
    {
     "data": {
      "text/html": [
       "<div>\n",
       "<style scoped>\n",
       "    .dataframe tbody tr th:only-of-type {\n",
       "        vertical-align: middle;\n",
       "    }\n",
       "\n",
       "    .dataframe tbody tr th {\n",
       "        vertical-align: top;\n",
       "    }\n",
       "\n",
       "    .dataframe thead th {\n",
       "        text-align: right;\n",
       "    }\n",
       "</style>\n",
       "<table border=\"1\" class=\"dataframe\">\n",
       "  <thead>\n",
       "    <tr style=\"text-align: right;\">\n",
       "      <th></th>\n",
       "      <th>Month</th>\n",
       "      <th>DayofMonth</th>\n",
       "      <th>DayOfWeek</th>\n",
       "      <th>FlightNum</th>\n",
       "      <th>ActualElapsedTime</th>\n",
       "      <th>CRSElapsedTime</th>\n",
       "      <th>AirTime</th>\n",
       "      <th>DepDelay</th>\n",
       "      <th>Distance</th>\n",
       "      <th>TaxiIn</th>\n",
       "      <th>TaxiOut</th>\n",
       "      <th>CarrierDelay</th>\n",
       "      <th>WeatherDelay</th>\n",
       "      <th>NASDelay</th>\n",
       "      <th>SecurityDelay</th>\n",
       "      <th>LateAircraftDelay</th>\n",
       "      <th>ArrDelay</th>\n",
       "    </tr>\n",
       "  </thead>\n",
       "  <tbody>\n",
       "    <tr>\n",
       "      <th>0</th>\n",
       "      <td>4</td>\n",
       "      <td>24</td>\n",
       "      <td>4</td>\n",
       "      <td>1456</td>\n",
       "      <td>84.0</td>\n",
       "      <td>70.0</td>\n",
       "      <td>51.0</td>\n",
       "      <td>14.0</td>\n",
       "      <td>236</td>\n",
       "      <td>7.0</td>\n",
       "      <td>26.0</td>\n",
       "      <td>0.000000</td>\n",
       "      <td>0.000000</td>\n",
       "      <td>14.000000</td>\n",
       "      <td>0.000000</td>\n",
       "      <td>14.000000</td>\n",
       "      <td>28.0</td>\n",
       "    </tr>\n",
       "    <tr>\n",
       "      <th>1</th>\n",
       "      <td>5</td>\n",
       "      <td>26</td>\n",
       "      <td>1</td>\n",
       "      <td>354</td>\n",
       "      <td>153.0</td>\n",
       "      <td>177.0</td>\n",
       "      <td>130.0</td>\n",
       "      <td>17.0</td>\n",
       "      <td>1024</td>\n",
       "      <td>5.0</td>\n",
       "      <td>18.0</td>\n",
       "      <td>19.179399</td>\n",
       "      <td>3.703571</td>\n",
       "      <td>15.021635</td>\n",
       "      <td>0.090137</td>\n",
       "      <td>25.296466</td>\n",
       "      <td>-7.0</td>\n",
       "    </tr>\n",
       "    <tr>\n",
       "      <th>2</th>\n",
       "      <td>1</td>\n",
       "      <td>28</td>\n",
       "      <td>1</td>\n",
       "      <td>3802</td>\n",
       "      <td>125.0</td>\n",
       "      <td>95.0</td>\n",
       "      <td>81.0</td>\n",
       "      <td>43.0</td>\n",
       "      <td>532</td>\n",
       "      <td>8.0</td>\n",
       "      <td>36.0</td>\n",
       "      <td>73.000000</td>\n",
       "      <td>0.000000</td>\n",
       "      <td>0.000000</td>\n",
       "      <td>0.000000</td>\n",
       "      <td>0.000000</td>\n",
       "      <td>73.0</td>\n",
       "    </tr>\n",
       "    <tr>\n",
       "      <th>3</th>\n",
       "      <td>3</td>\n",
       "      <td>8</td>\n",
       "      <td>6</td>\n",
       "      <td>1449</td>\n",
       "      <td>158.0</td>\n",
       "      <td>168.0</td>\n",
       "      <td>131.0</td>\n",
       "      <td>447.0</td>\n",
       "      <td>1024</td>\n",
       "      <td>11.0</td>\n",
       "      <td>16.0</td>\n",
       "      <td>0.000000</td>\n",
       "      <td>0.000000</td>\n",
       "      <td>437.000000</td>\n",
       "      <td>0.000000</td>\n",
       "      <td>0.000000</td>\n",
       "      <td>437.0</td>\n",
       "    </tr>\n",
       "    <tr>\n",
       "      <th>4</th>\n",
       "      <td>11</td>\n",
       "      <td>11</td>\n",
       "      <td>2</td>\n",
       "      <td>442</td>\n",
       "      <td>159.0</td>\n",
       "      <td>86.0</td>\n",
       "      <td>57.0</td>\n",
       "      <td>57.0</td>\n",
       "      <td>429</td>\n",
       "      <td>7.0</td>\n",
       "      <td>95.0</td>\n",
       "      <td>0.000000</td>\n",
       "      <td>7.000000</td>\n",
       "      <td>73.000000</td>\n",
       "      <td>0.000000</td>\n",
       "      <td>50.000000</td>\n",
       "      <td>130.0</td>\n",
       "    </tr>\n",
       "    <tr>\n",
       "      <th>...</th>\n",
       "      <td>...</td>\n",
       "      <td>...</td>\n",
       "      <td>...</td>\n",
       "      <td>...</td>\n",
       "      <td>...</td>\n",
       "      <td>...</td>\n",
       "      <td>...</td>\n",
       "      <td>...</td>\n",
       "      <td>...</td>\n",
       "      <td>...</td>\n",
       "      <td>...</td>\n",
       "      <td>...</td>\n",
       "      <td>...</td>\n",
       "      <td>...</td>\n",
       "      <td>...</td>\n",
       "      <td>...</td>\n",
       "      <td>...</td>\n",
       "    </tr>\n",
       "    <tr>\n",
       "      <th>1995</th>\n",
       "      <td>6</td>\n",
       "      <td>26</td>\n",
       "      <td>4</td>\n",
       "      <td>980</td>\n",
       "      <td>149.0</td>\n",
       "      <td>155.0</td>\n",
       "      <td>136.0</td>\n",
       "      <td>86.0</td>\n",
       "      <td>935</td>\n",
       "      <td>5.0</td>\n",
       "      <td>8.0</td>\n",
       "      <td>0.000000</td>\n",
       "      <td>0.000000</td>\n",
       "      <td>0.000000</td>\n",
       "      <td>0.000000</td>\n",
       "      <td>80.000000</td>\n",
       "      <td>80.0</td>\n",
       "    </tr>\n",
       "    <tr>\n",
       "      <th>1996</th>\n",
       "      <td>9</td>\n",
       "      <td>13</td>\n",
       "      <td>6</td>\n",
       "      <td>1144</td>\n",
       "      <td>198.0</td>\n",
       "      <td>205.0</td>\n",
       "      <td>178.0</td>\n",
       "      <td>16.0</td>\n",
       "      <td>1464</td>\n",
       "      <td>5.0</td>\n",
       "      <td>15.0</td>\n",
       "      <td>19.179399</td>\n",
       "      <td>3.703571</td>\n",
       "      <td>15.021635</td>\n",
       "      <td>0.090137</td>\n",
       "      <td>25.296466</td>\n",
       "      <td>9.0</td>\n",
       "    </tr>\n",
       "    <tr>\n",
       "      <th>1997</th>\n",
       "      <td>4</td>\n",
       "      <td>22</td>\n",
       "      <td>2</td>\n",
       "      <td>372</td>\n",
       "      <td>134.0</td>\n",
       "      <td>136.0</td>\n",
       "      <td>111.0</td>\n",
       "      <td>74.0</td>\n",
       "      <td>761</td>\n",
       "      <td>10.0</td>\n",
       "      <td>13.0</td>\n",
       "      <td>0.000000</td>\n",
       "      <td>0.000000</td>\n",
       "      <td>0.000000</td>\n",
       "      <td>0.000000</td>\n",
       "      <td>72.000000</td>\n",
       "      <td>72.0</td>\n",
       "    </tr>\n",
       "    <tr>\n",
       "      <th>1998</th>\n",
       "      <td>2</td>\n",
       "      <td>12</td>\n",
       "      <td>2</td>\n",
       "      <td>341</td>\n",
       "      <td>156.0</td>\n",
       "      <td>170.0</td>\n",
       "      <td>125.0</td>\n",
       "      <td>288.0</td>\n",
       "      <td>733</td>\n",
       "      <td>14.0</td>\n",
       "      <td>17.0</td>\n",
       "      <td>0.000000</td>\n",
       "      <td>0.000000</td>\n",
       "      <td>63.000000</td>\n",
       "      <td>0.000000</td>\n",
       "      <td>211.000000</td>\n",
       "      <td>274.0</td>\n",
       "    </tr>\n",
       "    <tr>\n",
       "      <th>1999</th>\n",
       "      <td>11</td>\n",
       "      <td>5</td>\n",
       "      <td>3</td>\n",
       "      <td>2324</td>\n",
       "      <td>57.0</td>\n",
       "      <td>55.0</td>\n",
       "      <td>45.0</td>\n",
       "      <td>26.0</td>\n",
       "      <td>197</td>\n",
       "      <td>6.0</td>\n",
       "      <td>6.0</td>\n",
       "      <td>0.000000</td>\n",
       "      <td>0.000000</td>\n",
       "      <td>2.000000</td>\n",
       "      <td>0.000000</td>\n",
       "      <td>26.000000</td>\n",
       "      <td>28.0</td>\n",
       "    </tr>\n",
       "  </tbody>\n",
       "</table>\n",
       "<p>2000 rows × 17 columns</p>\n",
       "</div>"
      ],
      "text/plain": [
       "      Month  DayofMonth  DayOfWeek  FlightNum  ActualElapsedTime  \\\n",
       "0         4          24          4       1456               84.0   \n",
       "1         5          26          1        354              153.0   \n",
       "2         1          28          1       3802              125.0   \n",
       "3         3           8          6       1449              158.0   \n",
       "4        11          11          2        442              159.0   \n",
       "...     ...         ...        ...        ...                ...   \n",
       "1995      6          26          4        980              149.0   \n",
       "1996      9          13          6       1144              198.0   \n",
       "1997      4          22          2        372              134.0   \n",
       "1998      2          12          2        341              156.0   \n",
       "1999     11           5          3       2324               57.0   \n",
       "\n",
       "      CRSElapsedTime  AirTime  DepDelay  Distance  TaxiIn  TaxiOut  \\\n",
       "0               70.0     51.0      14.0       236     7.0     26.0   \n",
       "1              177.0    130.0      17.0      1024     5.0     18.0   \n",
       "2               95.0     81.0      43.0       532     8.0     36.0   \n",
       "3              168.0    131.0     447.0      1024    11.0     16.0   \n",
       "4               86.0     57.0      57.0       429     7.0     95.0   \n",
       "...              ...      ...       ...       ...     ...      ...   \n",
       "1995           155.0    136.0      86.0       935     5.0      8.0   \n",
       "1996           205.0    178.0      16.0      1464     5.0     15.0   \n",
       "1997           136.0    111.0      74.0       761    10.0     13.0   \n",
       "1998           170.0    125.0     288.0       733    14.0     17.0   \n",
       "1999            55.0     45.0      26.0       197     6.0      6.0   \n",
       "\n",
       "      CarrierDelay  WeatherDelay    NASDelay  SecurityDelay  \\\n",
       "0         0.000000      0.000000   14.000000       0.000000   \n",
       "1        19.179399      3.703571   15.021635       0.090137   \n",
       "2        73.000000      0.000000    0.000000       0.000000   \n",
       "3         0.000000      0.000000  437.000000       0.000000   \n",
       "4         0.000000      7.000000   73.000000       0.000000   \n",
       "...            ...           ...         ...            ...   \n",
       "1995      0.000000      0.000000    0.000000       0.000000   \n",
       "1996     19.179399      3.703571   15.021635       0.090137   \n",
       "1997      0.000000      0.000000    0.000000       0.000000   \n",
       "1998      0.000000      0.000000   63.000000       0.000000   \n",
       "1999      0.000000      0.000000    2.000000       0.000000   \n",
       "\n",
       "      LateAircraftDelay  ArrDelay  \n",
       "0             14.000000      28.0  \n",
       "1             25.296466      -7.0  \n",
       "2              0.000000      73.0  \n",
       "3              0.000000     437.0  \n",
       "4             50.000000     130.0  \n",
       "...                 ...       ...  \n",
       "1995          80.000000      80.0  \n",
       "1996          25.296466       9.0  \n",
       "1997          72.000000      72.0  \n",
       "1998         211.000000     274.0  \n",
       "1999          26.000000      28.0  \n",
       "\n",
       "[2000 rows x 17 columns]"
      ]
     },
     "execution_count": 128,
     "metadata": {},
     "output_type": "execute_result"
    }
   ],
   "source": [
    "retards2_df"
   ]
  },
  {
   "cell_type": "code",
   "execution_count": 129,
   "metadata": {},
   "outputs": [],
   "source": [
    "X = retards2_df.drop(\"ArrDelay\", 1)\n",
    "y = retards2_df[\"ArrDelay\"]"
   ]
  },
  {
   "cell_type": "code",
   "execution_count": 130,
   "metadata": {},
   "outputs": [],
   "source": [
    "X_train, X_test, y_train, y_test = train_test_split(X, y, test_size=0.20, random_state = 4)"
   ]
  },
  {
   "cell_type": "markdown",
   "metadata": {},
   "source": [
    "+ *Comprovem shapes de cada sub dataset per veure que han quedat com necessitem*"
   ]
  },
  {
   "cell_type": "code",
   "execution_count": 131,
   "metadata": {},
   "outputs": [
    {
     "data": {
      "text/plain": [
       "((1600, 16), (1600,), (400, 16), (400,))"
      ]
     },
     "execution_count": 131,
     "metadata": {},
     "output_type": "execute_result"
    }
   ],
   "source": [
    "X_train.shape, y_train.shape, X_test.shape, y_test.shape"
   ]
  },
  {
   "cell_type": "code",
   "execution_count": 132,
   "metadata": {},
   "outputs": [
    {
     "data": {
      "text/plain": [
       "pandas.core.frame.DataFrame"
      ]
     },
     "execution_count": 132,
     "metadata": {},
     "output_type": "execute_result"
    }
   ],
   "source": [
    "type(X_train)"
   ]
  },
  {
   "cell_type": "code",
   "execution_count": 133,
   "metadata": {},
   "outputs": [
    {
     "data": {
      "text/plain": [
       "pandas.core.series.Series"
      ]
     },
     "execution_count": 133,
     "metadata": {},
     "output_type": "execute_result"
    }
   ],
   "source": [
    "type(y_train)"
   ]
  },
  {
   "cell_type": "markdown",
   "metadata": {},
   "source": [
    "### TRAIN TEST AMB MULTILINEAR REGRESSION"
   ]
  },
  {
   "cell_type": "code",
   "execution_count": 134,
   "metadata": {},
   "outputs": [],
   "source": [
    "from sklearn.linear_model import LinearRegression"
   ]
  },
  {
   "cell_type": "markdown",
   "metadata": {},
   "source": [
    "+ *Definim el model de regressió*"
   ]
  },
  {
   "cell_type": "code",
   "execution_count": 135,
   "metadata": {},
   "outputs": [],
   "source": [
    "model = LinearRegression()"
   ]
  },
  {
   "cell_type": "markdown",
   "metadata": {},
   "source": [
    "+ *L'entrenem amb \".fit\" sobre el train set*"
   ]
  },
  {
   "cell_type": "code",
   "execution_count": 136,
   "metadata": {},
   "outputs": [
    {
     "data": {
      "text/plain": [
       "LinearRegression()"
      ]
     },
     "execution_count": 136,
     "metadata": {},
     "output_type": "execute_result"
    }
   ],
   "source": [
    "model.fit(X_train, y_train)"
   ]
  },
  {
   "cell_type": "markdown",
   "metadata": {},
   "source": [
    "+ *Obtenim R2 - coeficient de determinació amb X_train i y_train*"
   ]
  },
  {
   "cell_type": "code",
   "execution_count": 137,
   "metadata": {},
   "outputs": [
    {
     "name": "stdout",
     "output_type": "stream",
     "text": [
      "coefficient of determination: 0.992196151386683\n"
     ]
    }
   ],
   "source": [
    "r_sq = model.score(X_train, y_train)\n",
    "print('coefficient of determination:', r_sq)"
   ]
  },
  {
   "cell_type": "markdown",
   "metadata": {},
   "source": [
    "+ *Fem una predicció amb \".predict(X_test)\" - on X_test = variables independents NO conegudes pel model -*"
   ]
  },
  {
   "cell_type": "code",
   "execution_count": 138,
   "metadata": {},
   "outputs": [
    {
     "data": {
      "text/plain": [
       "array([ 2.29133361e+01,  1.58633744e+02,  1.88282559e+01,  1.37619055e+01,\n",
       "        1.00009497e+02,  6.48640719e+00,  2.59586525e+01,  3.10233856e+01,\n",
       "        1.40495342e+02,  3.83368779e+01,  7.37624430e+01,  5.73425366e+01,\n",
       "        1.12140457e+01,  9.48660294e+01,  4.17852640e+02,  1.09192457e+01,\n",
       "        7.47375516e+01,  1.46368168e+01, -5.07524063e+00,  7.04021218e+00,\n",
       "        1.99924131e+01, -6.45162493e-01,  5.13301995e+01,  7.41053197e+00,\n",
       "        1.57477266e+01,  2.92025510e+01, -8.08155802e+00,  3.28254756e+01,\n",
       "        1.13048302e+01,  6.68203810e+01, -1.28021846e+01,  1.20501518e+01,\n",
       "        4.40939954e+01,  1.67340400e+01,  1.47935648e+01,  1.08103492e+01,\n",
       "        7.88602580e+01,  1.74520850e+01,  5.65827044e+01,  8.15007026e+00,\n",
       "       -1.45330498e+01,  6.04248757e+01,  6.56021018e+01,  1.25387944e+01,\n",
       "        2.02157694e+01,  3.08386399e+01,  5.42223182e+00,  5.21540521e+01,\n",
       "        2.56960169e+01,  2.89873857e+01, -4.88092267e+00,  1.41511271e+01,\n",
       "        7.78054966e+00,  2.08467423e+01,  1.07768947e+02, -5.03038735e+00,\n",
       "        1.91864028e+01,  5.83783236e+00,  6.06596582e+01,  2.18542939e+01,\n",
       "        1.94072187e+00,  4.34600123e+01, -2.46501464e+00,  3.79643876e+02,\n",
       "        1.64327103e+00,  9.07611118e+00,  3.45404428e+02,  5.15518934e+01,\n",
       "        2.87485414e+01,  2.62671768e+01,  2.13188296e+01,  4.92566649e+01,\n",
       "        2.00169547e+02,  1.70635312e+01,  1.12357164e+02,  1.26744235e+02,\n",
       "        5.17935770e+01,  1.42019793e+02,  9.41931694e+01,  1.87440031e+01,\n",
       "        9.89974911e+00, -1.16755965e+01,  4.75748406e+01,  3.35775194e+01,\n",
       "        1.03114906e+01,  1.43987035e+00,  4.85359919e+00,  1.27132587e+02,\n",
       "        2.96529171e+01,  3.33354498e+01,  2.75830460e+02,  9.70044193e+00,\n",
       "        7.86014763e+01,  6.01732298e+00,  7.19333586e+01,  3.57112693e+01,\n",
       "        2.17829212e+01,  2.10877556e+01,  2.82813208e+01,  5.80724385e+01,\n",
       "        3.67802782e+01,  5.52516066e+00,  5.39812701e+01,  4.52383395e+01,\n",
       "        1.93480734e+02,  1.11437764e+02,  4.01804510e+01,  4.00966598e+01,\n",
       "        3.75696003e+00,  1.77031304e+01,  3.34850386e+01, -5.94787426e+00,\n",
       "        3.03838124e+02,  7.68845868e+00,  1.22733340e+02,  9.11484744e+01,\n",
       "        2.69612284e+01,  3.71012399e+00,  1.75241826e+01,  1.00165236e+01,\n",
       "        6.10518029e+00,  6.47211201e+00,  1.70194797e+02,  8.78858132e+00,\n",
       "        4.25749484e+01,  1.43117171e+01,  5.79532053e+00,  7.69504832e+01,\n",
       "        3.27109829e+01,  9.35987635e+01,  5.67480656e+01,  3.54844099e+01,\n",
       "        2.22218323e+01,  3.65880845e+01,  5.23167246e+00,  3.44481673e+01,\n",
       "       -4.20023761e-01,  1.46119217e+01,  4.95159809e+01,  1.34242779e+01,\n",
       "        2.50732269e+02,  2.15325333e+01,  7.78402146e+01,  3.95098827e+00,\n",
       "        9.48944325e+00,  5.15086085e+02,  3.70902754e+00,  1.35425213e+00,\n",
       "        3.15390803e+01,  7.07527996e+01,  1.18273747e+01,  1.89920234e+01,\n",
       "        5.37990164e+01,  5.39724731e+01,  3.38198034e+00,  8.60071431e+00,\n",
       "        5.61457041e+00,  2.43640728e+02,  1.14109221e+01,  5.62545697e+01,\n",
       "        6.55275978e+01,  1.52701956e+02,  2.41166175e+01,  7.26365861e+01,\n",
       "        4.32257031e+01,  2.34042188e+02,  5.28014032e+01,  6.19681631e-01,\n",
       "        9.70594159e+00,  1.88775739e+01,  3.74336226e+00,  3.10911818e+01,\n",
       "        2.18226390e+01,  3.67061584e+01,  2.26105873e+01,  3.89985151e+02,\n",
       "        9.06654751e+01,  4.41553917e+01,  2.32385465e+01,  1.55546196e+01,\n",
       "        1.16434691e+02,  6.50909793e+01,  1.15626693e+01,  1.61741493e+02,\n",
       "        8.48066064e+00,  4.15826180e+01,  2.07871072e+01, -1.94954813e+00,\n",
       "        2.87430914e+01,  5.13218911e+01,  7.92183299e+01, -3.69241274e+00,\n",
       "       -4.64345534e-01,  7.14629884e+00, -4.10216513e-01,  1.16969554e+01,\n",
       "        4.88675560e+00,  9.24535370e+00,  3.02473248e+02,  1.63424205e+01,\n",
       "        4.25417837e+01,  2.78445120e+01,  1.48466097e+01,  6.40954782e+00,\n",
       "        5.95505634e+00,  2.61378676e+01,  5.31474219e+00,  1.87692993e+01,\n",
       "        2.94854704e+01,  5.72986719e+01,  4.92708071e+01,  2.46602091e+01,\n",
       "        1.81596897e+02,  1.10815893e+01,  1.03558897e+01,  5.30001570e-01,\n",
       "       -4.23907565e+00,  3.71471449e+01,  6.28726896e+01,  1.40213051e+01,\n",
       "        5.88419122e+00,  6.11979179e+01,  1.36583080e+01,  1.93583722e+02,\n",
       "        6.65939163e+01,  3.62136062e+01,  4.25396335e+01,  1.04152140e+02,\n",
       "        1.06682667e+01,  2.07953028e+01,  1.66633253e+02,  2.69227638e+01,\n",
       "        3.91069167e+01,  2.30856926e+01,  4.73816495e+01,  1.72338939e+01,\n",
       "        9.58609230e+00,  1.16183704e+01,  1.86901406e+01,  1.49446554e+01,\n",
       "        1.13325896e+01,  1.52763699e+02,  1.57246683e+01,  1.24531440e+01,\n",
       "        2.70327173e+01, -3.53057005e+00,  2.67394692e+01,  7.46164122e+01,\n",
       "        6.96327452e+00,  2.13341124e+01,  4.80629344e+01,  1.24668083e+02,\n",
       "        3.32162681e+01,  1.83398638e+02,  1.30262212e+01,  6.05863204e+00,\n",
       "        4.46131730e+01,  1.07594778e+02,  1.47037145e+01,  1.74174133e+01,\n",
       "        4.01701117e+01,  4.17836845e+01,  7.83357174e+00,  2.00368541e+01,\n",
       "        8.44986337e+01,  1.79753117e+01,  1.32785336e+02,  1.46800700e+01,\n",
       "        6.54710126e+01,  2.57272112e+00,  1.01999320e+01,  1.56867468e+01,\n",
       "        1.04512329e+02,  1.90118519e+01,  4.31594746e+00,  4.08344716e+01,\n",
       "        2.38778840e+01,  7.23587063e+01,  2.30941796e+01,  1.21576693e+00,\n",
       "        6.20060888e+01, -1.61319734e+00,  2.27585369e+01,  1.00321304e+02,\n",
       "        3.27679861e+01, -7.55196318e+00,  1.88440235e+02,  8.93941511e+00,\n",
       "        1.52045049e+02,  7.95606068e+01,  3.62988597e+01,  3.48110589e+01,\n",
       "        2.31050737e+00,  8.45449166e+01,  4.16857965e+01,  3.07467394e+01,\n",
       "        1.64002989e+02,  5.72299856e+00, -9.48692202e+00,  7.65636102e+01,\n",
       "        8.16557590e+01,  1.07572817e+02,  4.50225260e+00,  2.65997136e+01,\n",
       "        2.10851439e+02, -1.18311414e+01,  6.05655677e-01,  1.48202720e+02,\n",
       "        9.53211054e+01,  3.77422431e+00,  5.58009343e+01,  4.19107442e+01,\n",
       "       -7.78817924e+00,  1.29326320e+02,  1.26530119e+02,  1.40798432e+01,\n",
       "       -2.95506001e+00,  1.19074286e+01,  9.66159577e+01, -1.31782266e+01,\n",
       "        3.88873455e+00, -4.97628536e+00,  1.99823746e+01,  5.06169152e+00,\n",
       "        1.38110839e+01,  2.09191006e+01,  4.76798493e+00,  3.86206478e+01,\n",
       "        9.94600077e+01,  3.55352367e+00,  1.60343586e+01, -3.95907990e+00,\n",
       "        9.93343650e+01, -5.79261273e+00,  2.29913625e+01,  5.97363009e+01,\n",
       "        6.08553589e+01, -3.54882026e+00,  1.42064063e+02,  8.75191234e+01,\n",
       "       -1.01162703e+01,  2.40229882e+01,  6.06980139e+01,  8.72171628e+01,\n",
       "        2.65577156e+01,  1.29480272e+01,  1.93583543e+01,  1.98796311e+01,\n",
       "        5.55278956e+01,  3.42460830e+01,  1.82203726e+01,  2.69424878e+01,\n",
       "        1.16988438e+01,  3.68768418e+01,  1.30767994e+02,  6.40630849e+01,\n",
       "        4.51187275e+00,  5.72822987e+00,  5.24306067e+01,  7.59992423e+00,\n",
       "        4.83263784e+01,  1.48249792e+01,  5.99557390e+01,  2.83973659e+01,\n",
       "        4.11100685e+00,  7.53058749e+01,  9.35787993e+00,  4.24186812e+01,\n",
       "        2.14145794e+01,  8.04149046e+01,  1.08944716e+01, -1.10249041e+01,\n",
       "        3.05771760e+01,  1.82417265e+01,  1.00448406e+01,  1.39104616e+01,\n",
       "       -6.30844558e+00,  2.29707980e+01,  2.33392693e+01,  1.66873726e+02,\n",
       "        6.68231676e+00,  1.69463654e+02,  3.29342361e+01,  6.28496828e+00,\n",
       "        1.55796394e+02,  1.60182493e+01,  2.99907499e+01,  1.48156939e+01,\n",
       "        1.83896792e+02,  8.97660289e+00,  1.53026920e+01,  3.13231069e+00,\n",
       "        1.15848684e+01,  2.43444779e+01,  7.31515240e+00,  2.10568166e+01,\n",
       "        4.29362827e+01,  8.38083819e+01,  2.16910960e+01,  8.73675709e+00])"
      ]
     },
     "execution_count": 138,
     "metadata": {},
     "output_type": "execute_result"
    }
   ],
   "source": [
    "y_predict = model.predict(X_test)\n",
    "y_predict"
   ]
  },
  {
   "cell_type": "code",
   "execution_count": 139,
   "metadata": {},
   "outputs": [
    {
     "data": {
      "text/plain": [
       "1893     23.0\n",
       "898     158.0\n",
       "1578     20.0\n",
       "559      16.0\n",
       "88       99.0\n",
       "        ...  \n",
       "570      21.0\n",
       "376      46.0\n",
       "1249     85.0\n",
       "492      24.0\n",
       "922       6.0\n",
       "Name: ArrDelay, Length: 400, dtype: float64"
      ]
     },
     "execution_count": 139,
     "metadata": {},
     "output_type": "execute_result"
    }
   ],
   "source": [
    "y_test"
   ]
  },
  {
   "cell_type": "markdown",
   "metadata": {},
   "source": [
    "+ *Els valors reals de y_test són [ 23.0, 158.0, 20.0, ...  85.0, 24.0, 6.0]*\n",
    "  *Els valors  de y_predict són   [ 22.91, 158.63, 18.82, ...  83.80, 21.69, 8.73]*\n",
    "\n",
    "  *D'acord amb R2 = 0.9676, podem veure con s'apropa el model quan fa la seva predicció, als valors reals de y_test que tenim\n",
    "   per contrastar*"
   ]
  },
  {
   "cell_type": "markdown",
   "metadata": {},
   "source": [
    "+ *Importo \"mean_squared_error\" per utilitzar-lo*"
   ]
  },
  {
   "cell_type": "code",
   "execution_count": 140,
   "metadata": {},
   "outputs": [],
   "source": [
    "from sklearn.metrics import mean_squared_error"
   ]
  },
  {
   "cell_type": "code",
   "execution_count": 141,
   "metadata": {},
   "outputs": [
    {
     "name": "stdout",
     "output_type": "stream",
     "text": [
      "MSE = 3.742132527208146\n"
     ]
    }
   ],
   "source": [
    "print('MSE = {}'.format (mean_squared_error(y_test, y_predict)))"
   ]
  },
  {
   "cell_type": "markdown",
   "metadata": {},
   "source": [
    "+ *Hem obtingut un MSE de 3.742132527208146*"
   ]
  },
  {
   "cell_type": "code",
   "execution_count": 142,
   "metadata": {},
   "outputs": [
    {
     "name": "stdout",
     "output_type": "stream",
     "text": [
      "intercept: -1.8140329693728887\n",
      "coefficients: [-4.95808472e-02  2.09264290e-02 -2.33511590e-02  7.80978639e-05\n",
      "  7.18778960e-04 -9.03946993e-01  8.60189328e-01  9.75654471e-01\n",
      "  5.13902703e-03  9.78245778e-01  9.83511733e-01  2.01757051e-02\n",
      "  2.02614691e-02  3.13181386e-02  2.14156182e-02  2.29177215e-02]\n"
     ]
    }
   ],
   "source": [
    "print('intercept:', model.intercept_)\n",
    "print('coefficients:', model.coef_)"
   ]
  },
  {
   "cell_type": "markdown",
   "metadata": {},
   "source": [
    "### COMPARATIVA TRAIN/TEST vs VALIDACIÓ INTERNA (amb totes les dades) - MULTILINEAR REGRESSION__*\n",
    "   \n",
    "                                            R2                          MSE\n",
    "                                               \n",
    "   \n",
    "  \n",
    "  \n",
    "  + t&test set  (test_size=0.2)...............................0.992196151386683......................3.742132527208146\n",
    "   \n",
    "  + Validació interna............................................0.9939342128701782......................22.50"
   ]
  },
  {
   "cell_type": "markdown",
   "metadata": {},
   "source": [
    "### TRAIN TEST AMB POLYNOMIAL FEATURES"
   ]
  },
  {
   "cell_type": "code",
   "execution_count": 143,
   "metadata": {},
   "outputs": [],
   "source": [
    "from sklearn.linear_model import LinearRegression\n",
    "from sklearn.preprocessing import PolynomialFeatures"
   ]
  },
  {
   "cell_type": "markdown",
   "metadata": {},
   "source": [
    "+ *Fixem el grau = 2, de la funció polinòmica de regressió (és el valor per Default)*"
   ]
  },
  {
   "cell_type": "code",
   "execution_count": 144,
   "metadata": {},
   "outputs": [],
   "source": [
    "X_train, X_test, y_train, y_test = train_test_split(X, y, test_size=0.20, random_state = 4)"
   ]
  },
  {
   "cell_type": "code",
   "execution_count": 145,
   "metadata": {},
   "outputs": [
    {
     "data": {
      "text/html": [
       "<div>\n",
       "<style scoped>\n",
       "    .dataframe tbody tr th:only-of-type {\n",
       "        vertical-align: middle;\n",
       "    }\n",
       "\n",
       "    .dataframe tbody tr th {\n",
       "        vertical-align: top;\n",
       "    }\n",
       "\n",
       "    .dataframe thead th {\n",
       "        text-align: right;\n",
       "    }\n",
       "</style>\n",
       "<table border=\"1\" class=\"dataframe\">\n",
       "  <thead>\n",
       "    <tr style=\"text-align: right;\">\n",
       "      <th></th>\n",
       "      <th>Month</th>\n",
       "      <th>DayofMonth</th>\n",
       "      <th>DayOfWeek</th>\n",
       "      <th>FlightNum</th>\n",
       "      <th>ActualElapsedTime</th>\n",
       "      <th>CRSElapsedTime</th>\n",
       "      <th>AirTime</th>\n",
       "      <th>DepDelay</th>\n",
       "      <th>Distance</th>\n",
       "      <th>TaxiIn</th>\n",
       "      <th>TaxiOut</th>\n",
       "      <th>CarrierDelay</th>\n",
       "      <th>WeatherDelay</th>\n",
       "      <th>NASDelay</th>\n",
       "      <th>SecurityDelay</th>\n",
       "      <th>LateAircraftDelay</th>\n",
       "    </tr>\n",
       "  </thead>\n",
       "  <tbody>\n",
       "    <tr>\n",
       "      <th>875</th>\n",
       "      <td>12</td>\n",
       "      <td>29</td>\n",
       "      <td>1</td>\n",
       "      <td>1567</td>\n",
       "      <td>239.0</td>\n",
       "      <td>246.0</td>\n",
       "      <td>220.0</td>\n",
       "      <td>50.0</td>\n",
       "      <td>1515</td>\n",
       "      <td>6.0</td>\n",
       "      <td>13.0</td>\n",
       "      <td>43.000000</td>\n",
       "      <td>0.000000</td>\n",
       "      <td>0.000000</td>\n",
       "      <td>0.000000</td>\n",
       "      <td>0.000000</td>\n",
       "    </tr>\n",
       "    <tr>\n",
       "      <th>1735</th>\n",
       "      <td>5</td>\n",
       "      <td>23</td>\n",
       "      <td>5</td>\n",
       "      <td>24</td>\n",
       "      <td>68.0</td>\n",
       "      <td>70.0</td>\n",
       "      <td>53.0</td>\n",
       "      <td>6.0</td>\n",
       "      <td>324</td>\n",
       "      <td>5.0</td>\n",
       "      <td>10.0</td>\n",
       "      <td>19.179399</td>\n",
       "      <td>3.703571</td>\n",
       "      <td>15.021635</td>\n",
       "      <td>0.090137</td>\n",
       "      <td>25.296466</td>\n",
       "    </tr>\n",
       "    <tr>\n",
       "      <th>1729</th>\n",
       "      <td>4</td>\n",
       "      <td>10</td>\n",
       "      <td>4</td>\n",
       "      <td>3097</td>\n",
       "      <td>93.0</td>\n",
       "      <td>100.0</td>\n",
       "      <td>57.0</td>\n",
       "      <td>36.0</td>\n",
       "      <td>319</td>\n",
       "      <td>25.0</td>\n",
       "      <td>11.0</td>\n",
       "      <td>0.000000</td>\n",
       "      <td>0.000000</td>\n",
       "      <td>0.000000</td>\n",
       "      <td>0.000000</td>\n",
       "      <td>29.000000</td>\n",
       "    </tr>\n",
       "    <tr>\n",
       "      <th>362</th>\n",
       "      <td>12</td>\n",
       "      <td>23</td>\n",
       "      <td>2</td>\n",
       "      <td>2900</td>\n",
       "      <td>78.0</td>\n",
       "      <td>80.0</td>\n",
       "      <td>68.0</td>\n",
       "      <td>48.0</td>\n",
       "      <td>337</td>\n",
       "      <td>4.0</td>\n",
       "      <td>6.0</td>\n",
       "      <td>0.000000</td>\n",
       "      <td>0.000000</td>\n",
       "      <td>5.000000</td>\n",
       "      <td>0.000000</td>\n",
       "      <td>41.000000</td>\n",
       "    </tr>\n",
       "    <tr>\n",
       "      <th>890</th>\n",
       "      <td>4</td>\n",
       "      <td>4</td>\n",
       "      <td>5</td>\n",
       "      <td>3149</td>\n",
       "      <td>58.0</td>\n",
       "      <td>45.0</td>\n",
       "      <td>30.0</td>\n",
       "      <td>33.0</td>\n",
       "      <td>155</td>\n",
       "      <td>2.0</td>\n",
       "      <td>26.0</td>\n",
       "      <td>0.000000</td>\n",
       "      <td>0.000000</td>\n",
       "      <td>13.000000</td>\n",
       "      <td>0.000000</td>\n",
       "      <td>33.000000</td>\n",
       "    </tr>\n",
       "    <tr>\n",
       "      <th>...</th>\n",
       "      <td>...</td>\n",
       "      <td>...</td>\n",
       "      <td>...</td>\n",
       "      <td>...</td>\n",
       "      <td>...</td>\n",
       "      <td>...</td>\n",
       "      <td>...</td>\n",
       "      <td>...</td>\n",
       "      <td>...</td>\n",
       "      <td>...</td>\n",
       "      <td>...</td>\n",
       "      <td>...</td>\n",
       "      <td>...</td>\n",
       "      <td>...</td>\n",
       "      <td>...</td>\n",
       "      <td>...</td>\n",
       "    </tr>\n",
       "    <tr>\n",
       "      <th>1921</th>\n",
       "      <td>12</td>\n",
       "      <td>30</td>\n",
       "      <td>2</td>\n",
       "      <td>864</td>\n",
       "      <td>120.0</td>\n",
       "      <td>122.0</td>\n",
       "      <td>87.0</td>\n",
       "      <td>32.0</td>\n",
       "      <td>581</td>\n",
       "      <td>14.0</td>\n",
       "      <td>19.0</td>\n",
       "      <td>0.000000</td>\n",
       "      <td>0.000000</td>\n",
       "      <td>0.000000</td>\n",
       "      <td>0.000000</td>\n",
       "      <td>30.000000</td>\n",
       "    </tr>\n",
       "    <tr>\n",
       "      <th>709</th>\n",
       "      <td>11</td>\n",
       "      <td>24</td>\n",
       "      <td>1</td>\n",
       "      <td>773</td>\n",
       "      <td>148.0</td>\n",
       "      <td>142.0</td>\n",
       "      <td>122.0</td>\n",
       "      <td>78.0</td>\n",
       "      <td>732</td>\n",
       "      <td>6.0</td>\n",
       "      <td>20.0</td>\n",
       "      <td>39.000000</td>\n",
       "      <td>0.000000</td>\n",
       "      <td>6.000000</td>\n",
       "      <td>0.000000</td>\n",
       "      <td>39.000000</td>\n",
       "    </tr>\n",
       "    <tr>\n",
       "      <th>439</th>\n",
       "      <td>12</td>\n",
       "      <td>15</td>\n",
       "      <td>1</td>\n",
       "      <td>1015</td>\n",
       "      <td>166.0</td>\n",
       "      <td>137.0</td>\n",
       "      <td>108.0</td>\n",
       "      <td>46.0</td>\n",
       "      <td>665</td>\n",
       "      <td>13.0</td>\n",
       "      <td>45.0</td>\n",
       "      <td>0.000000</td>\n",
       "      <td>0.000000</td>\n",
       "      <td>29.000000</td>\n",
       "      <td>0.000000</td>\n",
       "      <td>46.000000</td>\n",
       "    </tr>\n",
       "    <tr>\n",
       "      <th>174</th>\n",
       "      <td>10</td>\n",
       "      <td>17</td>\n",
       "      <td>5</td>\n",
       "      <td>402</td>\n",
       "      <td>145.0</td>\n",
       "      <td>145.0</td>\n",
       "      <td>124.0</td>\n",
       "      <td>99.0</td>\n",
       "      <td>1017</td>\n",
       "      <td>5.0</td>\n",
       "      <td>16.0</td>\n",
       "      <td>99.000000</td>\n",
       "      <td>0.000000</td>\n",
       "      <td>0.000000</td>\n",
       "      <td>0.000000</td>\n",
       "      <td>0.000000</td>\n",
       "    </tr>\n",
       "    <tr>\n",
       "      <th>1146</th>\n",
       "      <td>4</td>\n",
       "      <td>8</td>\n",
       "      <td>2</td>\n",
       "      <td>4459</td>\n",
       "      <td>149.0</td>\n",
       "      <td>145.0</td>\n",
       "      <td>120.0</td>\n",
       "      <td>7.0</td>\n",
       "      <td>865</td>\n",
       "      <td>12.0</td>\n",
       "      <td>17.0</td>\n",
       "      <td>19.179399</td>\n",
       "      <td>3.703571</td>\n",
       "      <td>15.021635</td>\n",
       "      <td>0.090137</td>\n",
       "      <td>25.296466</td>\n",
       "    </tr>\n",
       "  </tbody>\n",
       "</table>\n",
       "<p>1600 rows × 16 columns</p>\n",
       "</div>"
      ],
      "text/plain": [
       "      Month  DayofMonth  DayOfWeek  FlightNum  ActualElapsedTime  \\\n",
       "875      12          29          1       1567              239.0   \n",
       "1735      5          23          5         24               68.0   \n",
       "1729      4          10          4       3097               93.0   \n",
       "362      12          23          2       2900               78.0   \n",
       "890       4           4          5       3149               58.0   \n",
       "...     ...         ...        ...        ...                ...   \n",
       "1921     12          30          2        864              120.0   \n",
       "709      11          24          1        773              148.0   \n",
       "439      12          15          1       1015              166.0   \n",
       "174      10          17          5        402              145.0   \n",
       "1146      4           8          2       4459              149.0   \n",
       "\n",
       "      CRSElapsedTime  AirTime  DepDelay  Distance  TaxiIn  TaxiOut  \\\n",
       "875            246.0    220.0      50.0      1515     6.0     13.0   \n",
       "1735            70.0     53.0       6.0       324     5.0     10.0   \n",
       "1729           100.0     57.0      36.0       319    25.0     11.0   \n",
       "362             80.0     68.0      48.0       337     4.0      6.0   \n",
       "890             45.0     30.0      33.0       155     2.0     26.0   \n",
       "...              ...      ...       ...       ...     ...      ...   \n",
       "1921           122.0     87.0      32.0       581    14.0     19.0   \n",
       "709            142.0    122.0      78.0       732     6.0     20.0   \n",
       "439            137.0    108.0      46.0       665    13.0     45.0   \n",
       "174            145.0    124.0      99.0      1017     5.0     16.0   \n",
       "1146           145.0    120.0       7.0       865    12.0     17.0   \n",
       "\n",
       "      CarrierDelay  WeatherDelay   NASDelay  SecurityDelay  LateAircraftDelay  \n",
       "875      43.000000      0.000000   0.000000       0.000000           0.000000  \n",
       "1735     19.179399      3.703571  15.021635       0.090137          25.296466  \n",
       "1729      0.000000      0.000000   0.000000       0.000000          29.000000  \n",
       "362       0.000000      0.000000   5.000000       0.000000          41.000000  \n",
       "890       0.000000      0.000000  13.000000       0.000000          33.000000  \n",
       "...            ...           ...        ...            ...                ...  \n",
       "1921      0.000000      0.000000   0.000000       0.000000          30.000000  \n",
       "709      39.000000      0.000000   6.000000       0.000000          39.000000  \n",
       "439       0.000000      0.000000  29.000000       0.000000          46.000000  \n",
       "174      99.000000      0.000000   0.000000       0.000000           0.000000  \n",
       "1146     19.179399      3.703571  15.021635       0.090137          25.296466  \n",
       "\n",
       "[1600 rows x 16 columns]"
      ]
     },
     "execution_count": 145,
     "metadata": {},
     "output_type": "execute_result"
    }
   ],
   "source": [
    "X_train"
   ]
  },
  {
   "cell_type": "code",
   "execution_count": 146,
   "metadata": {},
   "outputs": [
    {
     "data": {
      "text/plain": [
       "pandas.core.frame.DataFrame"
      ]
     },
     "execution_count": 146,
     "metadata": {},
     "output_type": "execute_result"
    }
   ],
   "source": [
    "type(X_train)"
   ]
  },
  {
   "cell_type": "markdown",
   "metadata": {},
   "source": [
    "*Generm una instancia de PolynomialFeatures*"
   ]
  },
  {
   "cell_type": "code",
   "execution_count": 147,
   "metadata": {},
   "outputs": [],
   "source": [
    "transformer = PolynomialFeatures(degree=2)"
   ]
  },
  {
   "cell_type": "markdown",
   "metadata": {},
   "source": [
    "+ *Abans de transformar l'input (X_train), l'hem d'entrenar amb \".fit()\"*"
   ]
  },
  {
   "cell_type": "code",
   "execution_count": 148,
   "metadata": {},
   "outputs": [
    {
     "data": {
      "text/plain": [
       "PolynomialFeatures()"
      ]
     },
     "execution_count": 148,
     "metadata": {},
     "output_type": "execute_result"
    }
   ],
   "source": [
    "transformer.fit(X_train)"
   ]
  },
  {
   "cell_type": "markdown",
   "metadata": {},
   "source": [
    "+ *Ara sí podem crear un nou / modificat input*"
   ]
  },
  {
   "cell_type": "code",
   "execution_count": 149,
   "metadata": {},
   "outputs": [],
   "source": [
    "X_train_poly = transformer.transform(X_train)"
   ]
  },
  {
   "cell_type": "markdown",
   "metadata": {},
   "source": [
    "+ *Creem el model i l'entrenem*"
   ]
  },
  {
   "cell_type": "code",
   "execution_count": 150,
   "metadata": {},
   "outputs": [],
   "source": [
    "model = LinearRegression()"
   ]
  },
  {
   "cell_type": "markdown",
   "metadata": {},
   "source": [
    "+ *Podem evaluar R2 sobre el training set amb X_train_poly (NO amb X_train)*"
   ]
  },
  {
   "cell_type": "code",
   "execution_count": 152,
   "metadata": {},
   "outputs": [
    {
     "data": {
      "text/plain": [
       "LinearRegression()"
      ]
     },
     "execution_count": 152,
     "metadata": {},
     "output_type": "execute_result"
    }
   ],
   "source": [
    "model.fit(X_train_poly, y_train)  "
   ]
  },
  {
   "cell_type": "code",
   "execution_count": 153,
   "metadata": {},
   "outputs": [
    {
     "name": "stdout",
     "output_type": "stream",
     "text": [
      "coefficient of determination: 0.999999993502675\n"
     ]
    }
   ],
   "source": [
    "r_sq = model.score(X_train_poly, y_train)\n",
    "print('coefficient of determination:', r_sq)"
   ]
  },
  {
   "cell_type": "markdown",
   "metadata": {},
   "source": [
    "+ *Transformem X_test per poder fer la predicció amb les variables també transformades*"
   ]
  },
  {
   "cell_type": "code",
   "execution_count": 154,
   "metadata": {},
   "outputs": [],
   "source": [
    "X_test_poly = transformer.transform(X_test)"
   ]
  },
  {
   "cell_type": "code",
   "execution_count": 155,
   "metadata": {},
   "outputs": [
    {
     "name": "stdout",
     "output_type": "stream",
     "text": [
      "[ 2.30008309e+01  1.58000259e+02  1.99998154e+01  1.60016869e+01\n",
      "  9.89994531e+01  5.99838949e+00  2.60002580e+01  3.10009241e+01\n",
      "  1.39001478e+02  3.80007285e+01  7.50009463e+01  6.00001600e+01\n",
      "  9.99703368e+00  9.79959865e+01  4.19997500e+02  1.09951784e+01\n",
      "  7.29992343e+01  1.59996862e+01 -7.00325040e+00  5.00087346e+00\n",
      "  2.30011886e+01 -3.00660075e+00  5.09993436e+01  6.00129481e+00\n",
      "  1.79997764e+01  2.99999242e+01 -9.96776213e+00  3.29994061e+01\n",
      "  1.09935358e+01  6.69981479e+01 -1.60180487e+01  1.19922186e+01\n",
      "  4.60007084e+01  1.80000238e+01  1.30021412e+01  1.10016422e+01\n",
      "  7.90002626e+01  1.79996089e+01  5.89995567e+01  7.99728654e+00\n",
      " -1.90088888e+01  6.19995817e+01  6.59992734e+01  1.19992115e+01\n",
      "  2.09993222e+01  2.99978358e+01  3.99651997e+00  5.30006607e+01\n",
      "  2.90010335e+01  2.89990533e+01 -5.99661941e+00  1.30087426e+01\n",
      "  6.99904878e+00  1.89997450e+01  1.06002894e+02 -8.01333200e+00\n",
      "  2.09992028e+01  4.00168501e+00  6.19976226e+01  2.29997167e+01\n",
      "  1.00338248e+00  4.60004858e+01 -3.98778959e+00  3.75979171e+02\n",
      "  6.93520898e-03  8.99487074e+00  3.47999562e+02  5.10000307e+01\n",
      "  2.59993460e+01  3.00014373e+01  2.19989330e+01  5.09995801e+01\n",
      "  2.03008454e+02  1.69994143e+01  1.15002040e+02  1.27001898e+02\n",
      "  5.50007287e+01  1.42000892e+02  9.39992362e+01  1.89977065e+01\n",
      "  8.00597264e+00 -1.69904019e+01  4.90001719e+01  3.60007287e+01\n",
      "  1.09965530e+01  9.99624716e-01  5.00047593e+00  1.27999319e+02\n",
      "  3.19999830e+01  3.59998367e+01  2.72008151e+02  9.99930705e+00\n",
      "  7.79993309e+01  4.99619521e+00  7.19998117e+01  3.60003426e+01\n",
      "  2.20003834e+01  2.19998899e+01  2.79997687e+01  1.65086445e+02\n",
      "  3.79998005e+01  5.00072981e+00  5.50004400e+01  4.50001807e+01\n",
      "  1.94006508e+02  1.08003256e+02  4.10004994e+01  4.00006779e+01\n",
      "  3.00050223e+00  1.79968388e+01  3.29990492e+01 -8.99141984e+00\n",
      "  3.04001654e+02  5.99677886e+00  1.23000828e+02  9.10007580e+01\n",
      "  3.10031018e+01  3.99833130e+00  2.00002851e+01  9.99516596e+00\n",
      "  2.98840031e+00  4.99946623e+00  1.70000202e+02  8.99991739e+00\n",
      "  4.49998580e+01  1.30044072e+01  2.99441730e+00  7.79995127e+01\n",
      "  3.29996481e+01  9.60001347e+01  5.69998625e+01  3.59995593e+01\n",
      "  2.19986655e+01  3.69996248e+01  2.99988649e+00  3.49987332e+01\n",
      " -1.99566937e+00  1.59999415e+01  4.90007700e+01  1.30011255e+01\n",
      "  2.51000681e+02  2.20008524e+01  7.79984610e+01  4.00097580e+00\n",
      "  8.99984347e+00  5.18002529e+02  1.99909140e+00  1.00391012e+00\n",
      "  3.40014212e+01  7.09995674e+01  1.19967526e+01  1.90000471e+01\n",
      "  5.39998814e+01  5.50001035e+01  2.99997853e+00  7.00225823e+00\n",
      "  4.00315455e+00  2.46002525e+02  1.00021507e+01  5.39994145e+01\n",
      "  6.70008465e+01  1.51999799e+02  2.39995008e+01  7.00033233e+01\n",
      "  4.30000354e+01  2.32000786e+02  5.30012496e+01  2.44247287e-03\n",
      "  8.99780324e+00  2.00002786e+01  2.99789245e+00  3.09955727e+01\n",
      "  2.39986829e+01  4.00020532e+01  2.29993179e+01  3.87989879e+02\n",
      "  9.09992276e+01  4.39991985e+01  2.40002326e+01  1.59996366e+01\n",
      "  1.17992659e+02  6.49992974e+01  1.09997310e+01  1.66000298e+02\n",
      "  7.99846654e+00  4.19996065e+01  2.10005733e+01 -5.00343142e+00\n",
      "  2.80015108e+01  5.19994676e+01  8.00003472e+01 -4.99651797e+00\n",
      " -2.99553853e+00  6.00161389e+00 -1.00075860e+00  1.10028879e+01\n",
      "  2.99835045e+00  9.00052951e+00  3.04999929e+02  1.69999005e+01\n",
      "  4.70018106e+01  2.89986041e+01  1.30000546e+01  6.99892053e+00\n",
      "  5.00199571e+00  2.80006961e+01  2.99564461e+00  1.89997342e+01\n",
      "  3.00003216e+01  6.20022627e+01  5.09989651e+01  2.60010219e+01\n",
      "  1.83999109e+02  1.00011942e+01  9.00297622e+00 -3.00611808e+00\n",
      " -6.99666387e+00  3.90004231e+01  6.19996089e+01  1.20023256e+01\n",
      "  5.99822322e+00  6.29980258e+01  1.49993459e+01  1.94000062e+02\n",
      "  6.69987822e+01  3.79996971e+01  4.09996955e+01  1.06000515e+02\n",
      "  9.99245580e+00  2.40009097e+01  1.66999842e+02  2.79975818e+01\n",
      "  4.00003084e+01  2.19976643e+01  7.09054254e+01  1.70018444e+01\n",
      "  8.99816693e+00  1.09960023e+01  2.00001569e+01  1.50005736e+01\n",
      "  9.00377134e+00  1.50004540e+02  1.29950460e+01  1.10050182e+01\n",
      "  2.69997862e+01 -7.01961305e+00  2.69999512e+01  7.29982745e+01\n",
      "  5.99747587e+00  2.20000451e+01  4.70022343e+01  1.24999768e+02\n",
      "  3.10026444e+01  1.83001342e+02  1.29913120e+01  4.99335653e+00\n",
      "  4.60000122e+01  1.08998567e+02  1.50003952e+01  1.80013507e+01\n",
      "  4.20000484e+01  4.60025274e+01  6.99832886e+00  1.90003422e+01\n",
      "  8.50006191e+01  1.90004052e+01  1.33000834e+02  1.39969197e+01\n",
      "  6.49999519e+01  1.99787658e+00  9.00033170e+00  1.40095827e+01\n",
      "  1.10002078e+02  2.20011452e+01  2.99654155e+00  4.00025570e+01\n",
      "  2.39982159e+01  7.19993994e+01  2.40000167e+01  7.48586957e-04\n",
      "  6.40019657e+01 -5.01218774e+00  2.29992639e+01  1.02999242e+02\n",
      "  3.10008761e+01 -1.10208324e+01  1.90002226e+02  8.00004025e+00\n",
      "  1.55001485e+02  8.10001601e+01  3.59980194e+01  3.59979358e+01\n",
      "  2.00201862e+00  8.49978031e+01  4.10001850e+01  3.09994839e+01\n",
      "  1.64999535e+02  4.00316530e+00 -1.40163513e+01  7.59990576e+01\n",
      "  8.39996519e+01  1.04001356e+02  2.99876114e+00  2.89993810e+01\n",
      "  2.11000381e+02 -1.49946582e+01  2.28874785e-03  1.48998110e+02\n",
      "  9.40006507e+01  9.95548404e-01  5.69989448e+01  4.20019816e+01\n",
      " -1.09981221e+01  1.28002865e+02  1.27999490e+02  1.30054271e+01\n",
      " -4.99326725e+00  1.10012235e+01  9.90005697e+01 -1.60121706e+01\n",
      "  3.00270033e+00 -6.99480187e+00  2.10005390e+01  3.00840051e+00\n",
      "  1.49992829e+01  2.10005836e+01  2.00461623e+00  4.00009500e+01\n",
      "  9.80013049e+01  3.99938124e+00  1.40001788e+01 -9.03065305e+00\n",
      "  9.90000993e+01 -7.98402491e+00  2.39987796e+01  4.35738397e+01\n",
      "  6.19982471e+01 -5.00017531e+00  1.43000443e+02  8.89986947e+01\n",
      " -1.19877029e+01  2.50004239e+01  6.20020613e+01  8.89973604e+01\n",
      "  2.80005168e+01  1.50009254e+01  1.89977805e+01  1.90014933e+01\n",
      "  5.59975825e+01  3.60004526e+01  1.69997263e+01  2.60011583e+01\n",
      "  1.09850992e+01  3.69997130e+01  1.30999515e+02  6.50014548e+01\n",
      "  2.01140829e+00  3.99877983e+00  5.19987643e+01  6.99735824e+00\n",
      "  4.89995609e+01  1.30075934e+01  6.09995131e+01  3.20008255e+01\n",
      "  2.00191928e+00  7.90025866e+01  9.98989069e+00  4.30033917e+01\n",
      "  2.40018594e+01  8.19954202e+01  8.99311781e+00 -1.39974427e+01\n",
      "  3.10007016e+01  1.89996724e+01  8.99772852e+00  1.30031751e+01\n",
      " -7.99117935e+00  2.29998786e+01  2.29997943e+01  1.66001665e+02\n",
      "  6.00101092e+00  1.71001510e+02  3.19997122e+01  5.00364553e+00\n",
      "  1.55004646e+02  1.39985172e+01  2.90003246e+01  1.30067471e+01\n",
      "  1.84000236e+02  7.00076378e+00  1.40108385e+01  1.99544646e+00\n",
      "  9.00759373e+00  2.40004948e+01  6.99774388e+00  2.09998365e+01\n",
      "  4.59997277e+01  8.49997231e+01  2.39985543e+01  6.00081835e+00]\n"
     ]
    }
   ],
   "source": [
    "y_test_predicted = model.predict(X_test_poly)\n",
    "print(y_test_predicted)"
   ]
  },
  {
   "cell_type": "code",
   "execution_count": 156,
   "metadata": {},
   "outputs": [
    {
     "name": "stdout",
     "output_type": "stream",
     "text": [
      "MSE = 27.883424550923333\n"
     ]
    }
   ],
   "source": [
    "print('MSE = {}'.format (mean_squared_error(y_test, y_test_predicted)))"
   ]
  },
  {
   "cell_type": "markdown",
   "metadata": {},
   "source": [
    "+ *Em dona un MSE = 27.883424550923333*\n"
   ]
  },
  {
   "cell_type": "markdown",
   "metadata": {},
   "source": [
    "## COMPARATIVA TRAIN/TEST vs VALIDACIÓ INTERNA (amb totes les dades) - POLYNOMIAL FEATURES\n",
    "   \n",
    "                                            R2                          MSE\n",
    "                                               \n",
    "     \n",
    "  + t&test set  (test_size=0.2)...............................0.999999993502675......................27.883424550923333\n",
    "   \n",
    "  + Validació interna............................................0.9999999845768733......................5.556444774314421e-12"
   ]
  },
  {
   "cell_type": "markdown",
   "metadata": {},
   "source": [
    "### OPCIÓ AMB DECISION TREE REGRESSION "
   ]
  },
  {
   "cell_type": "code",
   "execution_count": 170,
   "metadata": {},
   "outputs": [],
   "source": [
    "from sklearn.tree import DecisionTreeRegressor"
   ]
  },
  {
   "cell_type": "markdown",
   "metadata": {},
   "source": [
    "* *Ara canvio el random_state (= 42 en lloc de = 4) per prevenir que y_train ja vingui entrenat d'anteriors models*"
   ]
  },
  {
   "cell_type": "code",
   "execution_count": 177,
   "metadata": {},
   "outputs": [],
   "source": [
    "X_train, X_test, y_train, y_test = train_test_split(X, y, test_size=0.20, random_state = 42)"
   ]
  },
  {
   "cell_type": "code",
   "execution_count": 178,
   "metadata": {},
   "outputs": [
    {
     "data": {
      "text/html": [
       "<div>\n",
       "<style scoped>\n",
       "    .dataframe tbody tr th:only-of-type {\n",
       "        vertical-align: middle;\n",
       "    }\n",
       "\n",
       "    .dataframe tbody tr th {\n",
       "        vertical-align: top;\n",
       "    }\n",
       "\n",
       "    .dataframe thead th {\n",
       "        text-align: right;\n",
       "    }\n",
       "</style>\n",
       "<table border=\"1\" class=\"dataframe\">\n",
       "  <thead>\n",
       "    <tr style=\"text-align: right;\">\n",
       "      <th></th>\n",
       "      <th>Month</th>\n",
       "      <th>DayofMonth</th>\n",
       "      <th>DayOfWeek</th>\n",
       "      <th>FlightNum</th>\n",
       "      <th>ActualElapsedTime</th>\n",
       "      <th>CRSElapsedTime</th>\n",
       "      <th>AirTime</th>\n",
       "      <th>DepDelay</th>\n",
       "      <th>Distance</th>\n",
       "      <th>TaxiIn</th>\n",
       "      <th>TaxiOut</th>\n",
       "      <th>CarrierDelay</th>\n",
       "      <th>WeatherDelay</th>\n",
       "      <th>NASDelay</th>\n",
       "      <th>SecurityDelay</th>\n",
       "      <th>LateAircraftDelay</th>\n",
       "    </tr>\n",
       "  </thead>\n",
       "  <tbody>\n",
       "    <tr>\n",
       "      <th>968</th>\n",
       "      <td>10</td>\n",
       "      <td>8</td>\n",
       "      <td>3</td>\n",
       "      <td>1682</td>\n",
       "      <td>96.0</td>\n",
       "      <td>93.0</td>\n",
       "      <td>67.0</td>\n",
       "      <td>13.0</td>\n",
       "      <td>432</td>\n",
       "      <td>5.0</td>\n",
       "      <td>24.0</td>\n",
       "      <td>1.000000</td>\n",
       "      <td>0.000000</td>\n",
       "      <td>3.000000</td>\n",
       "      <td>0.000000</td>\n",
       "      <td>12.000000</td>\n",
       "    </tr>\n",
       "    <tr>\n",
       "      <th>240</th>\n",
       "      <td>3</td>\n",
       "      <td>21</td>\n",
       "      <td>5</td>\n",
       "      <td>92</td>\n",
       "      <td>234.0</td>\n",
       "      <td>250.0</td>\n",
       "      <td>218.0</td>\n",
       "      <td>44.0</td>\n",
       "      <td>1989</td>\n",
       "      <td>5.0</td>\n",
       "      <td>11.0</td>\n",
       "      <td>28.000000</td>\n",
       "      <td>0.000000</td>\n",
       "      <td>0.000000</td>\n",
       "      <td>0.000000</td>\n",
       "      <td>0.000000</td>\n",
       "    </tr>\n",
       "    <tr>\n",
       "      <th>819</th>\n",
       "      <td>8</td>\n",
       "      <td>18</td>\n",
       "      <td>1</td>\n",
       "      <td>6035</td>\n",
       "      <td>98.0</td>\n",
       "      <td>95.0</td>\n",
       "      <td>58.0</td>\n",
       "      <td>9.0</td>\n",
       "      <td>409</td>\n",
       "      <td>4.0</td>\n",
       "      <td>36.0</td>\n",
       "      <td>19.179399</td>\n",
       "      <td>3.703571</td>\n",
       "      <td>15.021635</td>\n",
       "      <td>0.090137</td>\n",
       "      <td>25.296466</td>\n",
       "    </tr>\n",
       "    <tr>\n",
       "      <th>692</th>\n",
       "      <td>3</td>\n",
       "      <td>27</td>\n",
       "      <td>4</td>\n",
       "      <td>4342</td>\n",
       "      <td>71.0</td>\n",
       "      <td>70.0</td>\n",
       "      <td>45.0</td>\n",
       "      <td>6.0</td>\n",
       "      <td>296</td>\n",
       "      <td>4.0</td>\n",
       "      <td>22.0</td>\n",
       "      <td>19.179399</td>\n",
       "      <td>3.703571</td>\n",
       "      <td>15.021635</td>\n",
       "      <td>0.090137</td>\n",
       "      <td>25.296466</td>\n",
       "    </tr>\n",
       "    <tr>\n",
       "      <th>420</th>\n",
       "      <td>2</td>\n",
       "      <td>28</td>\n",
       "      <td>4</td>\n",
       "      <td>2337</td>\n",
       "      <td>172.0</td>\n",
       "      <td>205.0</td>\n",
       "      <td>154.0</td>\n",
       "      <td>39.0</td>\n",
       "      <td>1166</td>\n",
       "      <td>7.0</td>\n",
       "      <td>11.0</td>\n",
       "      <td>19.179399</td>\n",
       "      <td>3.703571</td>\n",
       "      <td>15.021635</td>\n",
       "      <td>0.090137</td>\n",
       "      <td>25.296466</td>\n",
       "    </tr>\n",
       "    <tr>\n",
       "      <th>...</th>\n",
       "      <td>...</td>\n",
       "      <td>...</td>\n",
       "      <td>...</td>\n",
       "      <td>...</td>\n",
       "      <td>...</td>\n",
       "      <td>...</td>\n",
       "      <td>...</td>\n",
       "      <td>...</td>\n",
       "      <td>...</td>\n",
       "      <td>...</td>\n",
       "      <td>...</td>\n",
       "      <td>...</td>\n",
       "      <td>...</td>\n",
       "      <td>...</td>\n",
       "      <td>...</td>\n",
       "      <td>...</td>\n",
       "    </tr>\n",
       "    <tr>\n",
       "      <th>1130</th>\n",
       "      <td>3</td>\n",
       "      <td>21</td>\n",
       "      <td>5</td>\n",
       "      <td>438</td>\n",
       "      <td>226.0</td>\n",
       "      <td>185.0</td>\n",
       "      <td>167.0</td>\n",
       "      <td>16.0</td>\n",
       "      <td>1086</td>\n",
       "      <td>6.0</td>\n",
       "      <td>53.0</td>\n",
       "      <td>0.000000</td>\n",
       "      <td>0.000000</td>\n",
       "      <td>57.000000</td>\n",
       "      <td>0.000000</td>\n",
       "      <td>0.000000</td>\n",
       "    </tr>\n",
       "    <tr>\n",
       "      <th>1294</th>\n",
       "      <td>4</td>\n",
       "      <td>16</td>\n",
       "      <td>3</td>\n",
       "      <td>2896</td>\n",
       "      <td>178.0</td>\n",
       "      <td>165.0</td>\n",
       "      <td>166.0</td>\n",
       "      <td>11.0</td>\n",
       "      <td>1052</td>\n",
       "      <td>4.0</td>\n",
       "      <td>8.0</td>\n",
       "      <td>11.000000</td>\n",
       "      <td>0.000000</td>\n",
       "      <td>13.000000</td>\n",
       "      <td>0.000000</td>\n",
       "      <td>0.000000</td>\n",
       "    </tr>\n",
       "    <tr>\n",
       "      <th>860</th>\n",
       "      <td>3</td>\n",
       "      <td>10</td>\n",
       "      <td>1</td>\n",
       "      <td>1403</td>\n",
       "      <td>149.0</td>\n",
       "      <td>165.0</td>\n",
       "      <td>136.0</td>\n",
       "      <td>25.0</td>\n",
       "      <td>1052</td>\n",
       "      <td>3.0</td>\n",
       "      <td>10.0</td>\n",
       "      <td>19.179399</td>\n",
       "      <td>3.703571</td>\n",
       "      <td>15.021635</td>\n",
       "      <td>0.090137</td>\n",
       "      <td>25.296466</td>\n",
       "    </tr>\n",
       "    <tr>\n",
       "      <th>1459</th>\n",
       "      <td>1</td>\n",
       "      <td>4</td>\n",
       "      <td>5</td>\n",
       "      <td>1218</td>\n",
       "      <td>149.0</td>\n",
       "      <td>170.0</td>\n",
       "      <td>134.0</td>\n",
       "      <td>6.0</td>\n",
       "      <td>1105</td>\n",
       "      <td>4.0</td>\n",
       "      <td>11.0</td>\n",
       "      <td>19.179399</td>\n",
       "      <td>3.703571</td>\n",
       "      <td>15.021635</td>\n",
       "      <td>0.090137</td>\n",
       "      <td>25.296466</td>\n",
       "    </tr>\n",
       "    <tr>\n",
       "      <th>1126</th>\n",
       "      <td>10</td>\n",
       "      <td>9</td>\n",
       "      <td>4</td>\n",
       "      <td>6604</td>\n",
       "      <td>147.0</td>\n",
       "      <td>154.0</td>\n",
       "      <td>130.0</td>\n",
       "      <td>7.0</td>\n",
       "      <td>1082</td>\n",
       "      <td>4.0</td>\n",
       "      <td>13.0</td>\n",
       "      <td>19.179399</td>\n",
       "      <td>3.703571</td>\n",
       "      <td>15.021635</td>\n",
       "      <td>0.090137</td>\n",
       "      <td>25.296466</td>\n",
       "    </tr>\n",
       "  </tbody>\n",
       "</table>\n",
       "<p>1600 rows × 16 columns</p>\n",
       "</div>"
      ],
      "text/plain": [
       "      Month  DayofMonth  DayOfWeek  FlightNum  ActualElapsedTime  \\\n",
       "968      10           8          3       1682               96.0   \n",
       "240       3          21          5         92              234.0   \n",
       "819       8          18          1       6035               98.0   \n",
       "692       3          27          4       4342               71.0   \n",
       "420       2          28          4       2337              172.0   \n",
       "...     ...         ...        ...        ...                ...   \n",
       "1130      3          21          5        438              226.0   \n",
       "1294      4          16          3       2896              178.0   \n",
       "860       3          10          1       1403              149.0   \n",
       "1459      1           4          5       1218              149.0   \n",
       "1126     10           9          4       6604              147.0   \n",
       "\n",
       "      CRSElapsedTime  AirTime  DepDelay  Distance  TaxiIn  TaxiOut  \\\n",
       "968             93.0     67.0      13.0       432     5.0     24.0   \n",
       "240            250.0    218.0      44.0      1989     5.0     11.0   \n",
       "819             95.0     58.0       9.0       409     4.0     36.0   \n",
       "692             70.0     45.0       6.0       296     4.0     22.0   \n",
       "420            205.0    154.0      39.0      1166     7.0     11.0   \n",
       "...              ...      ...       ...       ...     ...      ...   \n",
       "1130           185.0    167.0      16.0      1086     6.0     53.0   \n",
       "1294           165.0    166.0      11.0      1052     4.0      8.0   \n",
       "860            165.0    136.0      25.0      1052     3.0     10.0   \n",
       "1459           170.0    134.0       6.0      1105     4.0     11.0   \n",
       "1126           154.0    130.0       7.0      1082     4.0     13.0   \n",
       "\n",
       "      CarrierDelay  WeatherDelay   NASDelay  SecurityDelay  LateAircraftDelay  \n",
       "968       1.000000      0.000000   3.000000       0.000000          12.000000  \n",
       "240      28.000000      0.000000   0.000000       0.000000           0.000000  \n",
       "819      19.179399      3.703571  15.021635       0.090137          25.296466  \n",
       "692      19.179399      3.703571  15.021635       0.090137          25.296466  \n",
       "420      19.179399      3.703571  15.021635       0.090137          25.296466  \n",
       "...            ...           ...        ...            ...                ...  \n",
       "1130      0.000000      0.000000  57.000000       0.000000           0.000000  \n",
       "1294     11.000000      0.000000  13.000000       0.000000           0.000000  \n",
       "860      19.179399      3.703571  15.021635       0.090137          25.296466  \n",
       "1459     19.179399      3.703571  15.021635       0.090137          25.296466  \n",
       "1126     19.179399      3.703571  15.021635       0.090137          25.296466  \n",
       "\n",
       "[1600 rows x 16 columns]"
      ]
     },
     "execution_count": 178,
     "metadata": {},
     "output_type": "execute_result"
    }
   ],
   "source": [
    "X_train"
   ]
  },
  {
   "cell_type": "code",
   "execution_count": 179,
   "metadata": {},
   "outputs": [],
   "source": [
    "regressor = DecisionTreeRegressor(random_state=0)"
   ]
  },
  {
   "cell_type": "code",
   "execution_count": 180,
   "metadata": {},
   "outputs": [
    {
     "data": {
      "text/plain": [
       "DecisionTreeRegressor(random_state=0)"
      ]
     },
     "execution_count": 180,
     "metadata": {},
     "output_type": "execute_result"
    }
   ],
   "source": [
    "regressor.fit(X_train,y_train)"
   ]
  },
  {
   "cell_type": "code",
   "execution_count": 181,
   "metadata": {},
   "outputs": [
    {
     "name": "stdout",
     "output_type": "stream",
     "text": [
      "coefficient of determination: 0.9825402183768975\n"
     ]
    }
   ],
   "source": [
    "r_sq = model.score(X_train, y_train)\n",
    "print('coefficient of determination:', r_sq)"
   ]
  },
  {
   "cell_type": "code",
   "execution_count": 182,
   "metadata": {},
   "outputs": [
    {
     "name": "stdout",
     "output_type": "stream",
     "text": [
      "[ 18.         149.           4.           1.           2.\n",
      " -10.          62.         154.          55.          16.\n",
      " 203.         125.          10.           8.           2.\n",
      "  35.          35.         156.          10.          45.\n",
      "  -5.           3.          23.           7.          17.\n",
      "  17.          -5.          25.          12.          23.\n",
      "  -3.          52.         164.          17.          60.\n",
      "   7.          48.         242.          42.          12.\n",
      "  19.          82.          14.          26.           8.\n",
      "  -7.           2.          39.           9.          -8.\n",
      "  19.          66.          12.          39.          58.\n",
      "  10.          11.           5.          14.          -4.\n",
      "  12.          93.          90.          11.         -37.\n",
      " 242.          24.           4.           6.          77.\n",
      "  42.19988477   1.          -9.           3.          95.\n",
      " -10.         141.           9.          37.          25.\n",
      "   9.         108.          29.         166.          14.\n",
      "  12.          16.           7.          54.          43.\n",
      " 149.          29.          43.          -5.          12.\n",
      "  18.          13.          49.         269.          47.\n",
      "  40.          59.           6.          -3.          16.\n",
      "  42.19988477 113.          21.          82.          -5.\n",
      "  15.           4.         307.          28.          34.\n",
      "  17.          58.           7.          33.         119.\n",
      "  16.          24.          10.          39.          51.\n",
      "  44.          54.          42.          29.          -1.\n",
      "  27.          32.          77.           5.           3.\n",
      "  18.           5.          13.          31.          18.\n",
      "  23.         113.          11.         106.         105.\n",
      "  11.          95.          17.          16.           8.\n",
      "  59.          83.          61.          55.          34.\n",
      "  60.          72.         106.          18.           8.\n",
      "  70.         -16.          17.          32.          34.\n",
      "  10.          18.           6.          36.          -2.\n",
      "  -2.          -2.          11.          54.         150.\n",
      "  10.           9.           9.          19.         243.\n",
      "  39.          61.          36.          45.          12.\n",
      "  33.          31.           5.         125.          49.\n",
      " 123.         -13.          20.          20.          13.\n",
      "  36.           2.          34.         104.          38.\n",
      "  99.           9.          15.           6.          -9.\n",
      " 109.          58.         213.          27.          34.\n",
      "  16.           0.           6.          39.          30.\n",
      "  39.          21.          19.          14.           5.\n",
      "  71.           6.           7.          20.          51.\n",
      "  17.         121.          26.          46.          32.\n",
      "  -2.          13.          21.          68.         -10.\n",
      "  13.           6.          19.          29.           7.\n",
      "  23.           1.          38.          68.           4.\n",
      "   9.           5.          -5.          69.          37.\n",
      "  46.           4.          99.           6.          10.\n",
      "  17.          22.          42.19988477  13.          -2.\n",
      "  28.         126.         101.           8.          -7.\n",
      " 126.          17.          12.          47.          -6.\n",
      "  37.          20.           1.          19.           3.\n",
      "  18.          77.          25.          19.          75.\n",
      "  18.         168.         -10.          15.          13.\n",
      "  33.          19.           9.          31.          95.\n",
      "  57.          16.          42.19988477  17.         191.\n",
      "  58.          34.          68.          22.           4.\n",
      "  72.           4.          15.          13.          27.\n",
      "  14.          40.          17.          22.          44.\n",
      "  48.          11.          19.          40.          -4.\n",
      "  13.          11.          21.          29.         132.\n",
      "  10.           1.         -30.          88.          13.\n",
      "  38.          76.         -15.          11.          20.\n",
      "  98.         184.           1.          22.           0.\n",
      "  19.          18.          58.           1.          72.\n",
      "  33.           0.          17.          42.          26.\n",
      "  48.          18.          81.          26.           3.\n",
      "  14.          10.          68.          -5.          -2.\n",
      "  30.          42.          92.         437.          85.\n",
      " 100.         193.          37.          50.          16.\n",
      "  37.          23.          48.          -3.          30.\n",
      "  35.         115.           9.          -7.         208.\n",
      "  72.         120.          15.          33.           9.\n",
      "  30.          10.         119.         190.          10.\n",
      "  12.          82.          19.          18.          20.\n",
      "   7.          89.         149.          15.          90.\n",
      "  35.          21.          11.           1.          30.        ]\n"
     ]
    }
   ],
   "source": [
    "y_predict = model.predict(X_test)\n",
    "print(y_predict)"
   ]
  },
  {
   "cell_type": "markdown",
   "metadata": {},
   "source": [
    "+ *Els valors reals de y_test són [18.0, 149.0, 4.0,,, ... 11.0, 1.0, 4.0]*\n",
    "  *I els valors de y_predict són  [18.0, 149.0,4.0, ...  11.0, 3.0, 4.0]*\n"
   ]
  },
  {
   "cell_type": "code",
   "execution_count": 183,
   "metadata": {},
   "outputs": [
    {
     "data": {
      "text/plain": [
       "1860     18.0\n",
       "353     149.0\n",
       "1333      4.0\n",
       "905     -14.0\n",
       "1289      2.0\n",
       "        ...  \n",
       "965      36.0\n",
       "1284     21.0\n",
       "1739     11.0\n",
       "261       3.0\n",
       "535      30.0\n",
       "Name: ArrDelay, Length: 400, dtype: float64"
      ]
     },
     "execution_count": 183,
     "metadata": {},
     "output_type": "execute_result"
    }
   ],
   "source": [
    "y_test"
   ]
  },
  {
   "cell_type": "code",
   "execution_count": 184,
   "metadata": {},
   "outputs": [
    {
     "name": "stdout",
     "output_type": "stream",
     "text": [
      "MSE = 37.08\n"
     ]
    }
   ],
   "source": [
    "print('MSE = {}'.format (mean_squared_error(y_test, y_predict)))"
   ]
  },
  {
   "cell_type": "markdown",
   "metadata": {},
   "source": [
    "## COMPARATIVA TRAIN/TEST vs VALIDACIÓ INTERNA (amb totes les dades) - \n",
    "## DECISSION TREE REGRESSOR\n",
    "   \n",
    "                                            R2                          MSE\n",
    "                                               \n",
    "     \n",
    "  + t&test set  (test_size=0.2)...............................0.9825402183768975......................37.08\n",
    "   \n",
    "  + Validació interna............................................1.0.....................................................0.0"
   ]
  }
 ],
 "metadata": {
  "kernelspec": {
   "display_name": "Python 3",
   "language": "python",
   "name": "python3"
  },
  "language_info": {
   "codemirror_mode": {
    "name": "ipython",
    "version": 3
   },
   "file_extension": ".py",
   "mimetype": "text/x-python",
   "name": "python",
   "nbconvert_exporter": "python",
   "pygments_lexer": "ipython3",
   "version": "3.8.5"
  }
 },
 "nbformat": 4,
 "nbformat_minor": 4
}
